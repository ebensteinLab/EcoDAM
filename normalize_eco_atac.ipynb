{
 "cells": [
  {
   "cell_type": "markdown",
   "metadata": {
    "collapsed": true
   },
   "source": [
    "# Normalization EcoDAM and ATAC Data\n",
    "#### Hagai Har-Gil"
   ]
  },
  {
   "cell_type": "markdown",
   "metadata": {
    "scrolled": true
   },
   "source": [
    "## Code Imports"
   ]
  },
  {
   "cell_type": "code",
   "execution_count": 52,
   "metadata": {},
   "outputs": [
    {
     "name": "stdout",
     "output_type": "stream",
     "text": [
      "The nb_black extension is already loaded. To reload it, use:\n",
      "  %reload_ext nb_black\n"
     ]
    },
    {
     "data": {
      "application/javascript": [
       "\n",
       "            setTimeout(function() {\n",
       "                var nbb_cell_id = 52;\n",
       "                var nbb_unformatted_code = \"%load_ext nb_black\\nimport pathlib\\nimport copy\\nfrom typing import Tuple, List\\n\\nimport seaborn as sns\\nimport numpy as np\\nimport pandas as pd\\nimport skimage.exposure\\nimport matplotlib.pyplot as plt\\nimport scipy.signal\\nimport scipy.fftpack\\n\\nfrom ecodam_py.bedgraph import BedGraph\\nfrom ecodam_py.eco_atac_normalization import (\\n    put_on_even_grounds,\\n    preprocess_bedgraph,\\n    preprocess_theo,\\n    convert_to_intervalindex,\\n    generate_intervals_1kb,\\n    reindex_data_with_known_intervals,\\n    reindex_theo_data,\\n    generate_df_for_theo_correlation_comparison,\\n    show_ridge_plot,\\n    subtract_background_with_theo,\\n)\";\n",
       "                var nbb_formatted_code = \"%load_ext nb_black\\nimport pathlib\\nimport copy\\nfrom typing import Tuple, List\\n\\nimport seaborn as sns\\nimport numpy as np\\nimport pandas as pd\\nimport skimage.exposure\\nimport matplotlib.pyplot as plt\\nimport scipy.signal\\nimport scipy.fftpack\\n\\nfrom ecodam_py.bedgraph import BedGraph\\nfrom ecodam_py.eco_atac_normalization import (\\n    put_on_even_grounds,\\n    preprocess_bedgraph,\\n    preprocess_theo,\\n    convert_to_intervalindex,\\n    generate_intervals_1kb,\\n    reindex_data_with_known_intervals,\\n    reindex_theo_data,\\n    generate_df_for_theo_correlation_comparison,\\n    show_ridge_plot,\\n    subtract_background_with_theo,\\n)\";\n",
       "                var nbb_cells = Jupyter.notebook.get_cells();\n",
       "                for (var i = 0; i < nbb_cells.length; ++i) {\n",
       "                    if (nbb_cells[i].input_prompt_number == nbb_cell_id) {\n",
       "                        if (nbb_cells[i].get_text() == nbb_unformatted_code) {\n",
       "                             nbb_cells[i].set_text(nbb_formatted_code);\n",
       "                        }\n",
       "                        break;\n",
       "                    }\n",
       "                }\n",
       "            }, 500);\n",
       "            "
      ],
      "text/plain": [
       "<IPython.core.display.Javascript object>"
      ]
     },
     "metadata": {},
     "output_type": "display_data"
    }
   ],
   "source": [
    "%load_ext nb_black\n",
    "import pathlib\n",
    "import copy\n",
    "from typing import Tuple, List\n",
    "\n",
    "import seaborn as sns\n",
    "import numpy as np\n",
    "import pandas as pd\n",
    "import skimage.exposure\n",
    "import matplotlib.pyplot as plt\n",
    "import scipy.signal\n",
    "import scipy.fftpack\n",
    "\n",
    "from ecodam_py.bedgraph import BedGraph\n",
    "from ecodam_py.eco_atac_normalization import (\n",
    "    put_on_even_grounds,\n",
    "    preprocess_bedgraph,\n",
    "    preprocess_theo,\n",
    "    convert_to_intervalindex,\n",
    "    generate_intervals_1kb,\n",
    "    reindex_data_with_known_intervals,\n",
    "    reindex_theo_data,\n",
    "    generate_df_for_theo_correlation_comparison,\n",
    "    show_ridge_plot,\n",
    "    subtract_background_with_theo,\n",
    "    equalize_distribs,\n",
    "    plot_bg,\n",
    "    find_closest_diff,\n",
    "    expand_seeds,\n",
    "    concat_clusters,\n",
    "    normalize_df_between_01,\n",
    "    write_intindex_to_disk,\n",
    ")"
   ]
  },
  {
   "cell_type": "markdown",
   "metadata": {},
   "source": [
    "## Code Runthrough"
   ]
  },
  {
   "cell_type": "markdown",
   "metadata": {
    "hide_input": false
   },
   "source": [
    "### Preparations\n",
    "\n",
    "Here we define the filenames used (Eco, ATAC, naked Eco and theoretical Eco) and do a bit of preprocessing to turn them into usable objects. The ATAC data's loci are defined a bit weirdly, so we also normalize it to a proper format. "
   ]
  },
  {
   "cell_type": "code",
   "execution_count": 23,
   "metadata": {
    "hide_input": false
   },
   "outputs": [
    {
     "data": {
      "application/javascript": [
       "\n",
       "            setTimeout(function() {\n",
       "                var nbb_cell_id = 23;\n",
       "                var nbb_unformatted_code = \"eco_fname = pathlib.Path(\\n    \\\"/mnt/saphyr/Saphyr_Data/DAM_DLE_VHL_DLE/Hagai/chromatin_chr15.filter17_60_75.NoBlacklist.NoMask.bedgraph\\\"\\n)\\natac_fname = pathlib.Path(\\n    \\\"/mnt/saphyr/Saphyr_Data/DAM_DLE_VHL_DLE/Hagai/ATAC_rep1to3_Fold_change_over_control.chr15.bedgraph\\\"\\n)\\nnaked_fname = pathlib.Path(\\n    \\\"/mnt/saphyr/Saphyr_Data/DAM_DLE_VHL_DLE/Hagai/NakedAF647_channel2_chr15_NoMissingChromatinWin.BEDgraph\\\"\\n)\\ntheo_fname = pathlib.Path(\\n    \\\"/mnt/saphyr/Saphyr_Data/DAM_DLE_VHL_DLE/Hagai/hg38.1kb.windows.InSilico.count.map.sum.bedgraph\\\"\\n)\";\n",
       "                var nbb_formatted_code = \"eco_fname = pathlib.Path(\\n    \\\"/mnt/saphyr/Saphyr_Data/DAM_DLE_VHL_DLE/Hagai/chromatin_chr15.filter17_60_75.NoBlacklist.NoMask.bedgraph\\\"\\n)\\natac_fname = pathlib.Path(\\n    \\\"/mnt/saphyr/Saphyr_Data/DAM_DLE_VHL_DLE/Hagai/ATAC_rep1to3_Fold_change_over_control.chr15.bedgraph\\\"\\n)\\nnaked_fname = pathlib.Path(\\n    \\\"/mnt/saphyr/Saphyr_Data/DAM_DLE_VHL_DLE/Hagai/NakedAF647_channel2_chr15_NoMissingChromatinWin.BEDgraph\\\"\\n)\\ntheo_fname = pathlib.Path(\\n    \\\"/mnt/saphyr/Saphyr_Data/DAM_DLE_VHL_DLE/Hagai/hg38.1kb.windows.InSilico.count.map.sum.bedgraph\\\"\\n)\";\n",
       "                var nbb_cells = Jupyter.notebook.get_cells();\n",
       "                for (var i = 0; i < nbb_cells.length; ++i) {\n",
       "                    if (nbb_cells[i].input_prompt_number == nbb_cell_id) {\n",
       "                        if (nbb_cells[i].get_text() == nbb_unformatted_code) {\n",
       "                             nbb_cells[i].set_text(nbb_formatted_code);\n",
       "                        }\n",
       "                        break;\n",
       "                    }\n",
       "                }\n",
       "            }, 500);\n",
       "            "
      ],
      "text/plain": [
       "<IPython.core.display.Javascript object>"
      ]
     },
     "metadata": {},
     "output_type": "display_data"
    }
   ],
   "source": [
    "eco_fname = pathlib.Path(\n",
    "    \"/mnt/saphyr/Saphyr_Data/DAM_DLE_VHL_DLE/Hagai/original_data/chromatin_chr15.filter17_60_75.NoBlacklist.NoMask.bedgraph\"\n",
    ")\n",
    "atac_fname = pathlib.Path(\n",
    "    \"/mnt/saphyr/Saphyr_Data/DAM_DLE_VHL_DLE/Hagai/original_data/ATAC_rep1to3_Fold_change_over_control.chr15.bedgraph\"\n",
    ")\n",
    "naked_fname = pathlib.Path(\n",
    "    \"/mnt/saphyr/Saphyr_Data/DAM_DLE_VHL_DLE/Hagai/original_data/NakedAF647_channel2_chr15_NoMissingChromatinWin.BEDgraph\"\n",
    ")\n",
    "theo_fname = pathlib.Path(\n",
    "    \"/mnt/saphyr/Saphyr_Data/DAM_DLE_VHL_DLE/Hagai/original_data/hg38.1kb.windows.InSilico.count.map.sum.bedgraph\"\n",
    ")"
   ]
  },
  {
   "cell_type": "code",
   "execution_count": 24,
   "metadata": {},
   "outputs": [
    {
     "data": {
      "application/javascript": [
       "\n",
       "            setTimeout(function() {\n",
       "                var nbb_cell_id = 24;\n",
       "                var nbb_unformatted_code = \"beds = preprocess_bedgraph([eco_fname, atac_fname, naked_fname])\\nbeds[1].data.loc[:, \\\"end_locus\\\"] += 100  # ATAC data is built a bit differently\";\n",
       "                var nbb_formatted_code = \"beds = preprocess_bedgraph([eco_fname, atac_fname, naked_fname])\\nbeds[1].data.loc[:, \\\"end_locus\\\"] += 100  # ATAC data is built a bit differently\";\n",
       "                var nbb_cells = Jupyter.notebook.get_cells();\n",
       "                for (var i = 0; i < nbb_cells.length; ++i) {\n",
       "                    if (nbb_cells[i].input_prompt_number == nbb_cell_id) {\n",
       "                        if (nbb_cells[i].get_text() == nbb_unformatted_code) {\n",
       "                             nbb_cells[i].set_text(nbb_formatted_code);\n",
       "                        }\n",
       "                        break;\n",
       "                    }\n",
       "                }\n",
       "            }, 500);\n",
       "            "
      ],
      "text/plain": [
       "<IPython.core.display.Javascript object>"
      ]
     },
     "metadata": {},
     "output_type": "display_data"
    }
   ],
   "source": [
    "beds = preprocess_bedgraph([eco_fname, atac_fname, naked_fname])\n",
    "beds[1].data.loc[:, \"end_locus\"] += 100  # ATAC data is built a bit differently"
   ]
  },
  {
   "cell_type": "markdown",
   "metadata": {},
   "source": [
    "### Theoretical data pre-processing\n",
    "\n",
    "In parallel we prepare the theoretical data - turn it into an object and reindex it so that it refers to the exact same loci as the naked data, which serves as its reference point. \n",
    "\n",
    "There's some averaging going on here, since currently the theoretical data is sampled at (1000, 2000, 3000, ...) bp while the rest of the data is sampled at (500, 1500, 2500, ...) bp. This means that if we want the theoretical data to point at the exact same loci as the naked one, we have to average out every two theoretical values (at least) to find their middle point, which will serve as the new index for the data. This bit will run in `reindex_theo_data`, which is called after the next cell."
   ]
  },
  {
   "cell_type": "code",
   "execution_count": 25,
   "metadata": {},
   "outputs": [
    {
     "data": {
      "application/javascript": [
       "\n",
       "            setTimeout(function() {\n",
       "                var nbb_cell_id = 25;\n",
       "                var nbb_unformatted_code = \"theo = preprocess_theo(theo_fname)\";\n",
       "                var nbb_formatted_code = \"theo = preprocess_theo(theo_fname)\";\n",
       "                var nbb_cells = Jupyter.notebook.get_cells();\n",
       "                for (var i = 0; i < nbb_cells.length; ++i) {\n",
       "                    if (nbb_cells[i].input_prompt_number == nbb_cell_id) {\n",
       "                        if (nbb_cells[i].get_text() == nbb_unformatted_code) {\n",
       "                             nbb_cells[i].set_text(nbb_formatted_code);\n",
       "                        }\n",
       "                        break;\n",
       "                    }\n",
       "                }\n",
       "            }, 500);\n",
       "            "
      ],
      "text/plain": [
       "<IPython.core.display.Javascript object>"
      ]
     },
     "metadata": {},
     "output_type": "display_data"
    }
   ],
   "source": [
    "theo = preprocess_theo(theo_fname)"
   ]
  },
  {
   "cell_type": "markdown",
   "metadata": {},
   "source": [
    "### Coercion to the same loci\n",
    "\n",
    "Next up, we need to do a bit of manipulation to make sure that all values for the different measurements are defined for the exact same loci. The theoretical data will get special treatment later.\n",
    "\n",
    "The function `put_on_even_grounds` makes sure that the datasets start and end in the same locus, and the `generate_intervals_1kb` function is called on the ATAC data to smooth it out and finally \"reindex\" it so that it refers to the same loci as the rest of the data. The index here is the locus values at which the measurement was made. Finally, the function `reindex_data_with_known_intervals` does the work of actually changing the indices of the datasets which aren't Eco with chromatin."
   ]
  },
  {
   "cell_type": "code",
   "execution_count": 26,
   "metadata": {},
   "outputs": [
    {
     "data": {
      "application/javascript": [
       "\n",
       "            setTimeout(function() {\n",
       "                var nbb_cell_id = 26;\n",
       "                var nbb_unformatted_code = \"beds = put_on_even_grounds(beds)\\nbeds = convert_to_intervalindex(beds)\\nnewint = generate_intervals_1kb(beds[1].data)\\neco = beds[0]\\natac = beds[1]\\nnaked = beds[2]\\natac.data, naked.data, theo.data = reindex_data_with_known_intervals(\\n    newint, atac, naked, theo, eco.data.index\\n)\\ntheo.data = reindex_theo_data(naked.data, theo.data)\";\n",
       "                var nbb_formatted_code = \"beds = put_on_even_grounds(beds)\\nbeds = convert_to_intervalindex(beds)\\nnewint = generate_intervals_1kb(beds[1].data)\\neco = beds[0]\\natac = beds[1]\\nnaked = beds[2]\\natac.data, naked.data, theo.data = reindex_data_with_known_intervals(\\n    newint, atac, naked, theo, eco.data.index\\n)\\ntheo.data = reindex_theo_data(naked.data, theo.data)\";\n",
       "                var nbb_cells = Jupyter.notebook.get_cells();\n",
       "                for (var i = 0; i < nbb_cells.length; ++i) {\n",
       "                    if (nbb_cells[i].input_prompt_number == nbb_cell_id) {\n",
       "                        if (nbb_cells[i].get_text() == nbb_unformatted_code) {\n",
       "                             nbb_cells[i].set_text(nbb_formatted_code);\n",
       "                        }\n",
       "                        break;\n",
       "                    }\n",
       "                }\n",
       "            }, 500);\n",
       "            "
      ],
      "text/plain": [
       "<IPython.core.display.Javascript object>"
      ]
     },
     "metadata": {},
     "output_type": "display_data"
    }
   ],
   "source": [
    "beds = put_on_even_grounds(beds)\n",
    "beds = convert_to_intervalindex(beds)\n",
    "newint = generate_intervals_1kb(beds[1].data)\n",
    "eco = beds[0]\n",
    "atac = beds[1]\n",
    "naked = beds[2]\n",
    "atac.data, naked.data, theo.data = reindex_data_with_known_intervals(\n",
    "    newint, atac, naked, theo, eco.data.index\n",
    ")\n",
    "theo.data = reindex_theo_data(naked.data, theo.data)"
   ]
  },
  {
   "cell_type": "markdown",
   "metadata": {},
   "source": [
    "### Naked data validation"
   ]
  },
  {
   "cell_type": "markdown",
   "metadata": {},
   "source": [
    "To validate our naked data we'll use the theoretical data we've just pre-processed and see if they're correlated. There are many ways to check the correlation of these types of data, but in this case we'll try to look at the distributions of the naked data that correspond to different quantiles of the theoretical data. In simple terms, where there's a large concentration of DAM sites we expect to receive higher readings in the naked data, and vice versa for the lower concentration data. To show this correlation we'll generate a \"ridge plot\" for quantiles of the theoretical data."
   ]
  },
  {
   "cell_type": "code",
   "execution_count": 27,
   "metadata": {
    "scrolled": false
   },
   "outputs": [
    {
     "data": {
      "image/png": "[encoded data removed]",
      "text/plain": [
       "<Figure size 864x288 with 5 Axes>"
      ]
     },
     "metadata": {},
     "output_type": "display_data"
    },
    {
     "data": {
      "application/javascript": [
       "\n",
       "            setTimeout(function() {\n",
       "                var nbb_cell_id = 27;\n",
       "                var nbb_unformatted_code = \"long_form_naked_data = generate_df_for_theo_correlation_comparison(\\n    naked.data.copy(), theo.data\\n)\\nfg = show_ridge_plot(long_form_naked_data, name=\\\"naked\\\")\";\n",
       "                var nbb_formatted_code = \"long_form_naked_data = generate_df_for_theo_correlation_comparison(\\n    naked.data.copy(), theo.data\\n)\\nfg = show_ridge_plot(long_form_naked_data, name=\\\"naked\\\")\";\n",
       "                var nbb_cells = Jupyter.notebook.get_cells();\n",
       "                for (var i = 0; i < nbb_cells.length; ++i) {\n",
       "                    if (nbb_cells[i].input_prompt_number == nbb_cell_id) {\n",
       "                        if (nbb_cells[i].get_text() == nbb_unformatted_code) {\n",
       "                             nbb_cells[i].set_text(nbb_formatted_code);\n",
       "                        }\n",
       "                        break;\n",
       "                    }\n",
       "                }\n",
       "            }, 500);\n",
       "            "
      ],
      "text/plain": [
       "<IPython.core.display.Javascript object>"
      ]
     },
     "metadata": {},
     "output_type": "display_data"
    }
   ],
   "source": [
    "long_form_naked_data = generate_df_for_theo_correlation_comparison(\n",
    "    naked.data.copy(), theo.data\n",
    ")\n",
    "fg = show_ridge_plot(long_form_naked_data, name=\"naked\")"
   ]
  },
  {
   "cell_type": "markdown",
   "metadata": {},
   "source": [
    "This pretty-looking plot shows a few interesting things about the naked data:\n",
    "\n",
    "1. The SNR is quite low. Having very low concentration of sites still results in an intensity value of a few hundreds, and adding a lot more sites (5+) only increases this 'affinity' two-fold.\n",
    "2. The high degree of overlap between the distributions may point us towards issues with the data acquisition. The data might be changing too rapidly for the microscope to detect, generating some sort of a bleed-through between the different  quantiles.\n",
    "3. Nonetheless, the correlation between the site density and the intensity is definitely there, which is great.\n",
    "4. The data is stretching towards the right due to a few high values in the higher quantiles. They're probably meaningless."
   ]
  },
  {
   "cell_type": "markdown",
   "metadata": {},
   "source": [
    "We can also think of doing the same analysis to the chromatin data, and look for possible differences."
   ]
  },
  {
   "cell_type": "code",
   "execution_count": 28,
   "metadata": {
    "scrolled": false
   },
   "outputs": [
    {
     "data": {
      "image/png": "[encoded data removed]",
      "text/plain": [
       "<Figure size 864x288 with 5 Axes>"
      ]
     },
     "metadata": {},
     "output_type": "display_data"
    },
    {
     "data": {
      "application/javascript": [
       "\n",
       "            setTimeout(function() {\n",
       "                var nbb_cell_id = 28;\n",
       "                var nbb_unformatted_code = \"long_form_eco_data = generate_df_for_theo_correlation_comparison(\\n    eco.data.copy(), theo.data\\n)\\nfg = show_ridge_plot(long_form_eco_data, name=\\\"chromatin\\\")\";\n",
       "                var nbb_formatted_code = \"long_form_eco_data = generate_df_for_theo_correlation_comparison(\\n    eco.data.copy(), theo.data\\n)\\nfg = show_ridge_plot(long_form_eco_data, name=\\\"chromatin\\\")\";\n",
       "                var nbb_cells = Jupyter.notebook.get_cells();\n",
       "                for (var i = 0; i < nbb_cells.length; ++i) {\n",
       "                    if (nbb_cells[i].input_prompt_number == nbb_cell_id) {\n",
       "                        if (nbb_cells[i].get_text() == nbb_unformatted_code) {\n",
       "                             nbb_cells[i].set_text(nbb_formatted_code);\n",
       "                        }\n",
       "                        break;\n",
       "                    }\n",
       "                }\n",
       "            }, 500);\n",
       "            "
      ],
      "text/plain": [
       "<IPython.core.display.Javascript object>"
      ]
     },
     "metadata": {},
     "output_type": "display_data"
    }
   ],
   "source": [
    "long_form_eco_data = generate_df_for_theo_correlation_comparison(\n",
    "    eco.data.copy(), theo.data\n",
    ")\n",
    "fg = show_ridge_plot(long_form_eco_data, name=\"chromatin\")"
   ]
  },
  {
   "cell_type": "markdown",
   "metadata": {},
   "source": [
    "This plot is very similar to the naked one, but with lower absolute intensity values and a smaller difference between the peaks. It seems that indeed some of the DNA is hidden behind chromatin."
   ]
  },
  {
   "cell_type": "markdown",
   "metadata": {},
   "source": [
    "### Naked data normalization\n",
    "\n",
    "The naked data is now ready to be normalized using the \"improved\" theoretical data. This normalization step occurs in `subtract_background_with_theo` and in `normalize_by_site_density` and consists of two steps:\n",
    "1. **Subtract the background noise.** We identify noise as loci where the theoretical data insists that no Eco sites exist, but the naked data is still showing some readings. This necessarily means that we hit the noise floor, and we can subtract that value without concern. As seen in the histogram below, the noise is noisy, which means that the noise floor isn't contained to a single intensity value. A conservative approach that is applied here is to use the mean value of that Gaussian as the background noise, and clip the data at that value - i.e. all values at or below this value are zeroed.\n",
    "2. **Normalize by site density.** We should also take into account the distribution of site density when observing the naked data. A simple approach is to divide the naked intensity by the theoretical value. Higher densities will lower the the intensity values, while lower ones will increase it. The function `normalize_by_site_density` does exactly that, but we'll only use it on the accessability map, which is the dataset that is created after finding the correlation between the naked data and the chromatin one. This is because the ridge plots we saw above, the ones which show the Eco\\Naked distribution as a function of the theoretical data, show that it this normalization is not as important as you might think.\n",
    "\n",
    "At this point we're only subtracting the BG from the naked data. We'll run the normalization step later."
   ]
  },
  {
   "cell_type": "code",
   "execution_count": 29,
   "metadata": {
    "scrolled": false
   },
   "outputs": [
    {
     "data": {
      "application/javascript": [
       "\n",
       "            setTimeout(function() {\n",
       "                var nbb_cell_id = 29;\n",
       "                var nbb_unformatted_code = \"naked.data = subtract_background_with_theo(naked.data, theo.data)\";\n",
       "                var nbb_formatted_code = \"naked.data = subtract_background_with_theo(naked.data, theo.data)\";\n",
       "                var nbb_cells = Jupyter.notebook.get_cells();\n",
       "                for (var i = 0; i < nbb_cells.length; ++i) {\n",
       "                    if (nbb_cells[i].input_prompt_number == nbb_cell_id) {\n",
       "                        if (nbb_cells[i].get_text() == nbb_unformatted_code) {\n",
       "                             nbb_cells[i].set_text(nbb_formatted_code);\n",
       "                        }\n",
       "                        break;\n",
       "                    }\n",
       "                }\n",
       "            }, 500);\n",
       "            "
      ],
      "text/plain": [
       "<IPython.core.display.Javascript object>"
      ]
     },
     "metadata": {},
     "output_type": "display_data"
    }
   ],
   "source": [
    "naked.data = subtract_background_with_theo(naked.data, theo.data)"
   ]
  },
  {
   "cell_type": "markdown",
   "metadata": {},
   "source": [
    "### Chromatin and naked normalization\n",
    "\n",
    "The next step is to compare the chromatin and naked data to the ATAC in order for us to find areas with similarities. We do that by first equalizing the distributions of the naked and chromatin data to those of the ATAC using the `equalize_distribs` function. This means that we spread them, in a linear fashion, over the same set of values."
   ]
  },
  {
   "cell_type": "code",
   "execution_count": 30,
   "metadata": {},
   "outputs": [
    {
     "data": {
      "image/png": "[encoded data removed]",
      "text/plain": [
       "<Figure size 432x288 with 1 Axes>"
      ]
     },
     "metadata": {},
     "output_type": "display_data"
    },
    {
     "data": {
      "application/javascript": [
       "\n",
       "            setTimeout(function() {\n",
       "                var nbb_cell_id = 30;\n",
       "                var nbb_unformatted_code = \"eco_and_naked = equalize_distribs([eco.data.drop(\\\"chr\\\", axis=1), naked.data], atac.data)\\neco_no_min, naked_no_min = eco_and_naked[0], eco_and_naked[1]\\nax = plot_bg(eco_no_min, naked_no_min, atac.data)\";\n",
       "                var nbb_formatted_code = \"eco_and_naked = equalize_distribs([eco.data.drop(\\\"chr\\\", axis=1), naked.data], atac.data)\\neco_no_min, naked_no_min = eco_and_naked[0], eco_and_naked[1]\\nax = plot_bg(eco_no_min, naked_no_min, atac.data)\";\n",
       "                var nbb_cells = Jupyter.notebook.get_cells();\n",
       "                for (var i = 0; i < nbb_cells.length; ++i) {\n",
       "                    if (nbb_cells[i].input_prompt_number == nbb_cell_id) {\n",
       "                        if (nbb_cells[i].get_text() == nbb_unformatted_code) {\n",
       "                             nbb_cells[i].set_text(nbb_formatted_code);\n",
       "                        }\n",
       "                        break;\n",
       "                    }\n",
       "                }\n",
       "            }, 500);\n",
       "            "
      ],
      "text/plain": [
       "<IPython.core.display.Javascript object>"
      ]
     },
     "metadata": {},
     "output_type": "display_data"
    }
   ],
   "source": [
    "eco_and_naked = equalize_distribs([eco.data.drop(\"chr\", axis=1), naked.data], atac.data)\n",
    "eco_no_min, naked_no_min = eco_and_naked[0], eco_and_naked[1]\n",
    "ax = plot_bg(eco_no_min, naked_no_min, atac.data)"
   ]
  },
  {
   "cell_type": "markdown",
   "metadata": {},
   "source": [
    "### Seeding and expansion\n",
    "\n",
    "The question that remains unanswered is how to compare the ATAC and chromatin tracks. We eventually wish to find close and open areas in the genome, and for that we should use every piece of data we possess. As a start, we'll use _seeding_ to identify similar looking regions. \n",
    "\n",
    "Seeds are areas that show a large similarity in the track's shape between the Eco and ATAC data. To find them, we subtract the now-equalized traces and look for the smallest differences. These points are the seeds, and we expand them by some amount to identify whether this similarity was accidental or whether it truly reflects the underlying data.\n",
    "\n",
    "Interestingly, when looking at seeds from the Eco data they should usually point to areas with an open DNA, but the naked seeds should be scattered around all over the place, since all of the genome was open. Thus we might look for the distribution of events over the loci instead of at the values themselves."
   ]
  },
  {
   "cell_type": "code",
   "execution_count": 48,
   "metadata": {},
   "outputs": [
    {
     "data": {
      "application/javascript": [
       "\n",
       "            setTimeout(function() {\n",
       "                var nbb_cell_id = 48;\n",
       "                var nbb_unformatted_code = \"closest_eco, closest_atac_eco = find_closest_diff(\\n    eco_no_min.loc[:, \\\"intensity\\\"].copy(), atac.data.loc[:, \\\"intensity\\\"].copy()\\n)\\nclosest_naked, closest_atac_naked = find_closest_diff(\\n    naked.data.intensity.copy(), atac.data.intensity.copy()\\n)\\nclusters_eco = expand_seeds(closest_eco.copy())\\nclusters_naked = expand_seeds(closest_naked.copy())\\nclustered_eco, clustered_atac_eco = concat_clusters(\\n    eco_no_min.copy(), atac.data.copy(), clusters_eco.copy()\\n)\\nclustered_naked, clustered_atac_naked = concat_clusters(\\n    naked.data.copy(), atac.data.copy(), clusters_naked.copy()\\n)\\nwrite_intindex_to_disk(\\n    closest_atac_eco,\\n    atac_fname.with_name(\\n        \\\"ATAC_rep1to3_Fold_change_over_control.chr15_seeds_top_similarities_with_eco.bedgraph\\\"\\n    ),\\n)\\nwrite_intindex_to_disk(\\n    closest_atac_naked,\\n    atac_fname.with_name(\\n        \\\"ATAC_rep1to3_Fold_change_over_control.chr15_seeds_top_similarities_with_naked.bedgraph\\\"\\n    ),\\n)\\nwrite_intindex_to_disk(\\n    closest_eco,\\n    eco_fname.with_name(\\n        \\\"chromatin_chr15.filter17_60_75.NoBlacklist.NoMask_seeds_top_similarities_with_atac.bedgraph\\\"\\n    ),\\n)\\nwrite_intindex_to_disk(\\n    clustered_eco,\\n    eco_fname.with_name(\\n        \\\"chromatin_chr15.filter17_60_75.NoBlacklist.NoMask_seeds_top_similarities_with_atac_after_expansion.bedgraph\\\"\\n    ),\\n)\\nwrite_intindex_to_disk(\\n    clustered_atac_eco,\\n    atac_fname.with_name(\\n        \\\"ATAC_rep1to3_Fold_change_over_control.chr15_seeds_top_similarities_with_eco_after_expansion.bedgraph\\\"\\n    ),\\n)\\nwrite_intindex_to_disk(\\n    clustered_atac_naked,\\n    atac_fname.with_name(\\n        \\\"ATAC_rep1to3_Fold_change_over_control.chr15_seeds_top_similarities_with_naked_after_expansion.bedgraph\\\"\\n    ),\\n)\\nwrite_intindex_to_disk(\\n    closest_naked,\\n    naked_fname.with_name(\\n        \\\"NakedAF647_channel2_chr15_NoMissingChromatinWin_no_background_seeds_top_similarities_with_atac.bedgraph\\\"\\n    ),\\n)\\nwrite_intindex_to_disk(\\n    clustered_naked,\\n    naked_fname.with_name(\\n        \\\"NakedAF647_channel2_chr15_NoMissingChromatinWin_no_background_seeds_top_similarities_with_atac_after_expansion.bedgraph\\\"\\n    ),\\n)\";\n",
       "                var nbb_formatted_code = \"closest_eco, closest_atac_eco = find_closest_diff(\\n    eco_no_min.loc[:, \\\"intensity\\\"].copy(), atac.data.loc[:, \\\"intensity\\\"].copy()\\n)\\nclosest_naked, closest_atac_naked = find_closest_diff(\\n    naked.data.intensity.copy(), atac.data.intensity.copy()\\n)\\nclusters_eco = expand_seeds(closest_eco.copy())\\nclusters_naked = expand_seeds(closest_naked.copy())\\nclustered_eco, clustered_atac_eco = concat_clusters(\\n    eco_no_min.copy(), atac.data.copy(), clusters_eco.copy()\\n)\\nclustered_naked, clustered_atac_naked = concat_clusters(\\n    naked.data.copy(), atac.data.copy(), clusters_naked.copy()\\n)\\nwrite_intindex_to_disk(\\n    closest_atac_eco,\\n    atac_fname.with_name(\\n        \\\"ATAC_rep1to3_Fold_change_over_control.chr15_seeds_top_similarities_with_eco.bedgraph\\\"\\n    ),\\n)\\nwrite_intindex_to_disk(\\n    closest_atac_naked,\\n    atac_fname.with_name(\\n        \\\"ATAC_rep1to3_Fold_change_over_control.chr15_seeds_top_similarities_with_naked.bedgraph\\\"\\n    ),\\n)\\nwrite_intindex_to_disk(\\n    closest_eco,\\n    eco_fname.with_name(\\n        \\\"chromatin_chr15.filter17_60_75.NoBlacklist.NoMask_seeds_top_similarities_with_atac.bedgraph\\\"\\n    ),\\n)\\nwrite_intindex_to_disk(\\n    clustered_eco,\\n    eco_fname.with_name(\\n        \\\"chromatin_chr15.filter17_60_75.NoBlacklist.NoMask_seeds_top_similarities_with_atac_after_expansion.bedgraph\\\"\\n    ),\\n)\\nwrite_intindex_to_disk(\\n    clustered_atac_eco,\\n    atac_fname.with_name(\\n        \\\"ATAC_rep1to3_Fold_change_over_control.chr15_seeds_top_similarities_with_eco_after_expansion.bedgraph\\\"\\n    ),\\n)\\nwrite_intindex_to_disk(\\n    clustered_atac_naked,\\n    atac_fname.with_name(\\n        \\\"ATAC_rep1to3_Fold_change_over_control.chr15_seeds_top_similarities_with_naked_after_expansion.bedgraph\\\"\\n    ),\\n)\\nwrite_intindex_to_disk(\\n    closest_naked,\\n    naked_fname.with_name(\\n        \\\"NakedAF647_channel2_chr15_NoMissingChromatinWin_no_background_seeds_top_similarities_with_atac.bedgraph\\\"\\n    ),\\n)\\nwrite_intindex_to_disk(\\n    clustered_naked,\\n    naked_fname.with_name(\\n        \\\"NakedAF647_channel2_chr15_NoMissingChromatinWin_no_background_seeds_top_similarities_with_atac_after_expansion.bedgraph\\\"\\n    ),\\n)\";\n",
       "                var nbb_cells = Jupyter.notebook.get_cells();\n",
       "                for (var i = 0; i < nbb_cells.length; ++i) {\n",
       "                    if (nbb_cells[i].input_prompt_number == nbb_cell_id) {\n",
       "                        if (nbb_cells[i].get_text() == nbb_unformatted_code) {\n",
       "                             nbb_cells[i].set_text(nbb_formatted_code);\n",
       "                        }\n",
       "                        break;\n",
       "                    }\n",
       "                }\n",
       "            }, 500);\n",
       "            "
      ],
      "text/plain": [
       "<IPython.core.display.Javascript object>"
      ]
     },
     "metadata": {},
     "output_type": "display_data"
    }
   ],
   "source": [
    "closest_eco, closest_atac_eco = find_closest_diff(\n",
    "    eco_no_min.loc[:, \"intensity\"].copy(), atac.data.loc[:, \"intensity\"].copy()\n",
    ")\n",
    "closest_naked, closest_atac_naked = find_closest_diff(\n",
    "    naked.data.intensity.copy(), atac.data.intensity.copy()\n",
    ")\n",
    "clusters_eco = expand_seeds(closest_eco.copy())\n",
    "clusters_naked = expand_seeds(closest_naked.copy())\n",
    "clustered_eco, clustered_atac_eco = concat_clusters(\n",
    "    eco_no_min.copy(), atac.data.copy(), clusters_eco.copy()\n",
    ")\n",
    "clustered_naked, clustered_atac_naked = concat_clusters(\n",
    "    naked.data.copy(), atac.data.copy(), clusters_naked.copy()\n",
    ")\n",
    "write_intindex_to_disk(\n",
    "    closest_atac_eco,\n",
    "    atac_fname.parent.with_name(\n",
    "        \"ATAC_rep1to3_Fold_change_over_control.chr15_seeds_top_similarities_with_eco.bedgraph\"\n",
    "    ),\n",
    ")\n",
    "write_intindex_to_disk(\n",
    "    closest_atac_naked,\n",
    "    atac_fname.parent.with_name(\n",
    "        \"ATAC_rep1to3_Fold_change_over_control.chr15_seeds_top_similarities_with_naked.bedgraph\"\n",
    "    ),\n",
    ")\n",
    "write_intindex_to_disk(\n",
    "    closest_eco,\n",
    "    eco_fname.parent.with_name(\n",
    "        \"chromatin_chr15.filter17_60_75.NoBlacklist.NoMask_seeds_top_similarities_with_atac.bedgraph\"\n",
    "    ),\n",
    ")\n",
    "write_intindex_to_disk(\n",
    "    clustered_eco,\n",
    "    eco_fname.parent.with_name(\n",
    "        \"chromatin_chr15.filter17_60_75.NoBlacklist.NoMask_seeds_top_similarities_with_atac_after_expansion.bedgraph\"\n",
    "    ),\n",
    ")\n",
    "write_intindex_to_disk(\n",
    "    clustered_atac_eco,\n",
    "    atac_fname.parent.with_name(\n",
    "        \"ATAC_rep1to3_Fold_change_over_control.chr15_seeds_top_similarities_with_eco_after_expansion.bedgraph\"\n",
    "    ),\n",
    ")\n",
    "write_intindex_to_disk(\n",
    "    clustered_atac_naked,\n",
    "    atac_fname.parent.with_name(\n",
    "        \"ATAC_rep1to3_Fold_change_over_control.chr15_seeds_top_similarities_with_naked_after_expansion.bedgraph\"\n",
    "    ),\n",
    ")\n",
    "write_intindex_to_disk(\n",
    "    closest_naked,\n",
    "    naked_fname.parent.with_name(\n",
    "        \"NakedAF647_channel2_chr15_NoMissingChromatinWin_no_background_seeds_top_similarities_with_atac.bedgraph\"\n",
    "    ),\n",
    ")\n",
    "write_intindex_to_disk(\n",
    "    clustered_naked,\n",
    "    naked_fname.parent.with_name(\n",
    "        \"NakedAF647_channel2_chr15_NoMissingChromatinWin_no_background_seeds_top_similarities_with_atac_after_expansion.bedgraph\"\n",
    "    ),\n",
    ")"
   ]
  },
  {
   "cell_type": "code",
   "execution_count": null,
   "metadata": {},
   "outputs": [],
   "source": [
    "normed_naked = normalize_df_between_01(naked.data.copy())\n",
    "normed_eco = normalize_df_between_01(eco_no_min.copy())\n",
    "sub = normed_eco - normed_naked\n",
    "write_intindex_to_disk(\n",
    "    sub.dropna(),\n",
    "    naked_fname.parent.with_name(\"eco_after_naked_subtraction.bedgraph\"),\n",
    ")"
   ]
  },
  {
   "cell_type": "code",
   "execution_count": null,
   "metadata": {},
   "outputs": [],
   "source": []
  }
 ],
 "metadata": {
  "kernelspec": {
   "display_name": "Python 3",
   "language": "python",
   "name": "python3"
  },
  "language_info": {
   "codemirror_mode": {
    "name": "ipython",
    "version": 3
   },
   "file_extension": ".py",
   "mimetype": "text/x-python",
   "name": "python",
   "nbconvert_exporter": "python",
   "pygments_lexer": "ipython3",
   "version": "3.8.5"
  },
  "varInspector": {
   "cols": {
    "lenName": 16,
    "lenType": 16,
    "lenVar": 40
   },
   "kernels_config": {
    "python": {
     "delete_cmd_postfix": "",
     "delete_cmd_prefix": "del ",
     "library": "var_list.py",
     "varRefreshCmd": "print(var_dic_list())"
    },
    "r": {
     "delete_cmd_postfix": ") ",
     "delete_cmd_prefix": "rm(",
     "library": "var_list.r",
     "varRefreshCmd": "cat(var_dic_list()) "
    }
   },
   "oldHeight": 122.85,
   "position": {
    "height": "40px",
    "left": "1644px",
    "right": "20px",
    "top": "120px",
    "width": "250px"
   },
   "types_to_exclude": [
    "module",
    "function",
    "builtin_function_or_method",
    "instance",
    "_Feature"
   ],
   "varInspector_section_display": "none",
   "window_display": true
  }
 },
 "nbformat": 4,
 "nbformat_minor": 4
}
