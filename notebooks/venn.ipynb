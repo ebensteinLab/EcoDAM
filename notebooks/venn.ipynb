{
 "cells": [
  {
   "cell_type": "markdown",
   "metadata": {},
   "source": [
    "## ATAC - DNase - EcoDAM Comparison"
   ]
  },
  {
   "cell_type": "markdown",
   "metadata": {},
   "source": [
    "Let's try to find the overlapping regions of all three methods in a Venn style way. We'll first normalize the EcoDAM data acording to the (smoothed) theoretical value."
   ]
  },
  {
   "cell_type": "code",
   "execution_count": 1,
   "metadata": {},
   "outputs": [
    {
     "data": {
      "application/javascript": [
       "\n",
       "            setTimeout(function() {\n",
       "                var nbb_cell_id = 1;\n",
       "                var nbb_unformatted_code = \"%load_ext autoreload\\n%autoreload 2\\n%load_ext nb_black\\n\\nimport pathlib\\n\\nimport seaborn as sns\\nimport numpy as np\\nimport pandas as pd\\nimport matplotlib.pyplot as plt\\nimport pybedtools\\n\\nfrom ecodam_py.bedgraph import BedGraphAccessor, equalize_loci\\nfrom ecodam_py.eco_atac_normalization import *\";\n",
       "                var nbb_formatted_code = \"%load_ext autoreload\\n%autoreload 2\\n%load_ext nb_black\\n\\nimport pathlib\\n\\nimport seaborn as sns\\nimport numpy as np\\nimport pandas as pd\\nimport matplotlib.pyplot as plt\\nimport pybedtools\\n\\nfrom ecodam_py.bedgraph import BedGraphAccessor, equalize_loci\\nfrom ecodam_py.eco_atac_normalization import *\";\n",
       "                var nbb_cells = Jupyter.notebook.get_cells();\n",
       "                for (var i = 0; i < nbb_cells.length; ++i) {\n",
       "                    if (nbb_cells[i].input_prompt_number == nbb_cell_id) {\n",
       "                        if (nbb_cells[i].get_text() == nbb_unformatted_code) {\n",
       "                             nbb_cells[i].set_text(nbb_formatted_code);\n",
       "                        }\n",
       "                        break;\n",
       "                    }\n",
       "                }\n",
       "            }, 500);\n",
       "            "
      ],
      "text/plain": [
       "<IPython.core.display.Javascript object>"
      ]
     },
     "metadata": {},
     "output_type": "display_data"
    }
   ],
   "source": [
    "%load_ext autoreload\n",
    "%autoreload 2\n",
    "%load_ext nb_black\n",
    "\n",
    "import pathlib\n",
    "\n",
    "import seaborn as sns\n",
    "import numpy as np\n",
    "import pandas as pd\n",
    "import matplotlib.pyplot as plt\n",
    "import pybedtools\n",
    "\n",
    "from ecodam_py.bedgraph import BedGraphAccessor, equalize_loci\n",
    "from ecodam_py.eco_atac_normalization import *"
   ]
  },
  {
   "cell_type": "code",
   "execution_count": 2,
   "metadata": {},
   "outputs": [
    {
     "data": {
      "text/html": [
       "<div>\n",
       "<style scoped>\n",
       "    .dataframe tbody tr th:only-of-type {\n",
       "        vertical-align: middle;\n",
       "    }\n",
       "\n",
       "    .dataframe tbody tr th {\n",
       "        vertical-align: top;\n",
       "    }\n",
       "\n",
       "    .dataframe thead th {\n",
       "        text-align: right;\n",
       "    }\n",
       "</style>\n",
       "<table border=\"1\" class=\"dataframe\">\n",
       "  <thead>\n",
       "    <tr style=\"text-align: right;\">\n",
       "      <th></th>\n",
       "      <th>chr</th>\n",
       "      <th>start_locus</th>\n",
       "      <th>end_locus</th>\n",
       "      <th>intensity</th>\n",
       "    </tr>\n",
       "  </thead>\n",
       "  <tbody>\n",
       "    <tr>\n",
       "      <th>0</th>\n",
       "      <td>chr1</td>\n",
       "      <td>180739</td>\n",
       "      <td>180871</td>\n",
       "      <td>1</td>\n",
       "    </tr>\n",
       "    <tr>\n",
       "      <th>1</th>\n",
       "      <td>chr1</td>\n",
       "      <td>181375</td>\n",
       "      <td>181601</td>\n",
       "      <td>1</td>\n",
       "    </tr>\n",
       "    <tr>\n",
       "      <th>2</th>\n",
       "      <td>chr1</td>\n",
       "      <td>268011</td>\n",
       "      <td>268120</td>\n",
       "      <td>1</td>\n",
       "    </tr>\n",
       "    <tr>\n",
       "      <th>3</th>\n",
       "      <td>chr1</td>\n",
       "      <td>629084</td>\n",
       "      <td>629310</td>\n",
       "      <td>1</td>\n",
       "    </tr>\n",
       "    <tr>\n",
       "      <th>4</th>\n",
       "      <td>chr1</td>\n",
       "      <td>629512</td>\n",
       "      <td>629596</td>\n",
       "      <td>1</td>\n",
       "    </tr>\n",
       "    <tr>\n",
       "      <th>...</th>\n",
       "      <td>...</td>\n",
       "      <td>...</td>\n",
       "      <td>...</td>\n",
       "      <td>...</td>\n",
       "    </tr>\n",
       "    <tr>\n",
       "      <th>85559</th>\n",
       "      <td>chrY</td>\n",
       "      <td>10994547</td>\n",
       "      <td>10994690</td>\n",
       "      <td>1</td>\n",
       "    </tr>\n",
       "    <tr>\n",
       "      <th>85560</th>\n",
       "      <td>chrY</td>\n",
       "      <td>11302660</td>\n",
       "      <td>11302859</td>\n",
       "      <td>1</td>\n",
       "    </tr>\n",
       "    <tr>\n",
       "      <th>85561</th>\n",
       "      <td>chrY</td>\n",
       "      <td>11329831</td>\n",
       "      <td>11329998</td>\n",
       "      <td>1</td>\n",
       "    </tr>\n",
       "    <tr>\n",
       "      <th>85562</th>\n",
       "      <td>chrY</td>\n",
       "      <td>11494931</td>\n",
       "      <td>11495020</td>\n",
       "      <td>1</td>\n",
       "    </tr>\n",
       "    <tr>\n",
       "      <th>85563</th>\n",
       "      <td>chrY</td>\n",
       "      <td>15355436</td>\n",
       "      <td>15355688</td>\n",
       "      <td>1</td>\n",
       "    </tr>\n",
       "  </tbody>\n",
       "</table>\n",
       "<p>85564 rows × 4 columns</p>\n",
       "</div>"
      ],
      "text/plain": [
       "        chr  start_locus  end_locus  intensity\n",
       "0      chr1       180739     180871          1\n",
       "1      chr1       181375     181601          1\n",
       "2      chr1       268011     268120          1\n",
       "3      chr1       629084     629310          1\n",
       "4      chr1       629512     629596          1\n",
       "...     ...          ...        ...        ...\n",
       "85559  chrY     10994547   10994690          1\n",
       "85560  chrY     11302660   11302859          1\n",
       "85561  chrY     11329831   11329998          1\n",
       "85562  chrY     11494931   11495020          1\n",
       "85563  chrY     15355436   15355688          1\n",
       "\n",
       "[85564 rows x 4 columns]"
      ]
     },
     "execution_count": 2,
     "metadata": {},
     "output_type": "execute_result"
    },
    {
     "data": {
      "application/javascript": [
       "\n",
       "            setTimeout(function() {\n",
       "                var nbb_cell_id = 2;\n",
       "                var nbb_unformatted_code = \"dnase = pybedtools.BedTool(\\n    \\\"/mnt/saphyr/Saphyr_Data/DAM_DLE_VHL_DLE/Michael/R/Refrences/Wu_merged_hotspots_as_windows.sort.bed\\\"\\n)\\n\\ndnase = (\\n    dnase.to_dataframe()\\n    .rename({\\\"chrom\\\": \\\"chr\\\", \\\"start\\\": \\\"start_locus\\\", \\\"end\\\": \\\"end_locus\\\"}, axis=1)\\n    .reset_index(drop=True)\\n    .assign(intensity=1)\\n)\\ndnase\";\n",
       "                var nbb_formatted_code = \"dnase = pybedtools.BedTool(\\n    \\\"/mnt/saphyr/Saphyr_Data/DAM_DLE_VHL_DLE/Michael/R/Refrences/Wu_merged_hotspots_as_windows.sort.bed\\\"\\n)\\n\\ndnase = (\\n    dnase.to_dataframe()\\n    .rename({\\\"chrom\\\": \\\"chr\\\", \\\"start\\\": \\\"start_locus\\\", \\\"end\\\": \\\"end_locus\\\"}, axis=1)\\n    .reset_index(drop=True)\\n    .assign(intensity=1)\\n)\\ndnase\";\n",
       "                var nbb_cells = Jupyter.notebook.get_cells();\n",
       "                for (var i = 0; i < nbb_cells.length; ++i) {\n",
       "                    if (nbb_cells[i].input_prompt_number == nbb_cell_id) {\n",
       "                        if (nbb_cells[i].get_text() == nbb_unformatted_code) {\n",
       "                             nbb_cells[i].set_text(nbb_formatted_code);\n",
       "                        }\n",
       "                        break;\n",
       "                    }\n",
       "                }\n",
       "            }, 500);\n",
       "            "
      ],
      "text/plain": [
       "<IPython.core.display.Javascript object>"
      ]
     },
     "metadata": {},
     "output_type": "display_data"
    }
   ],
   "source": [
    "dnase = pybedtools.BedTool(\n",
    "    \"/mnt/saphyr/Saphyr_Data/DAM_DLE_VHL_DLE/Michael/R/Refrences/Wu_merged_hotspots_as_windows.sort.bed\"\n",
    ")\n",
    "\n",
    "dnase = (\n",
    "    dnase.to_dataframe()\n",
    "    .rename({\"chrom\": \"chr\", \"start\": \"start_locus\", \"end\": \"end_locus\"}, axis=1)\n",
    "    .reset_index(drop=True)\n",
    "    .assign(intensity=1)\n",
    ")\n",
    "dnase"
   ]
  },
  {
   "cell_type": "code",
   "execution_count": 3,
   "metadata": {},
   "outputs": [
    {
     "data": {
      "text/html": [
       "<div>\n",
       "<style scoped>\n",
       "    .dataframe tbody tr th:only-of-type {\n",
       "        vertical-align: middle;\n",
       "    }\n",
       "\n",
       "    .dataframe tbody tr th {\n",
       "        vertical-align: top;\n",
       "    }\n",
       "\n",
       "    .dataframe thead th {\n",
       "        text-align: right;\n",
       "    }\n",
       "</style>\n",
       "<table border=\"1\" class=\"dataframe\">\n",
       "  <thead>\n",
       "    <tr style=\"text-align: right;\">\n",
       "      <th></th>\n",
       "      <th>chr</th>\n",
       "      <th>start_locus</th>\n",
       "      <th>end_locus</th>\n",
       "      <th>intensity</th>\n",
       "    </tr>\n",
       "  </thead>\n",
       "  <tbody>\n",
       "    <tr>\n",
       "      <th>1</th>\n",
       "      <td>chr1</td>\n",
       "      <td>9950</td>\n",
       "      <td>10100</td>\n",
       "      <td>14</td>\n",
       "    </tr>\n",
       "    <tr>\n",
       "      <th>3</th>\n",
       "      <td>chr1</td>\n",
       "      <td>10550</td>\n",
       "      <td>10700</td>\n",
       "      <td>6</td>\n",
       "    </tr>\n",
       "    <tr>\n",
       "      <th>5</th>\n",
       "      <td>chr1</td>\n",
       "      <td>41550</td>\n",
       "      <td>41650</td>\n",
       "      <td>2</td>\n",
       "    </tr>\n",
       "    <tr>\n",
       "      <th>7</th>\n",
       "      <td>chr1</td>\n",
       "      <td>41950</td>\n",
       "      <td>42100</td>\n",
       "      <td>2</td>\n",
       "    </tr>\n",
       "    <tr>\n",
       "      <th>9</th>\n",
       "      <td>chr1</td>\n",
       "      <td>42200</td>\n",
       "      <td>42300</td>\n",
       "      <td>2</td>\n",
       "    </tr>\n",
       "    <tr>\n",
       "      <th>...</th>\n",
       "      <td>...</td>\n",
       "      <td>...</td>\n",
       "      <td>...</td>\n",
       "      <td>...</td>\n",
       "    </tr>\n",
       "    <tr>\n",
       "      <th>7104376</th>\n",
       "      <td>chrEBV</td>\n",
       "      <td>169500</td>\n",
       "      <td>169550</td>\n",
       "      <td>324</td>\n",
       "    </tr>\n",
       "    <tr>\n",
       "      <th>7104377</th>\n",
       "      <td>chrEBV</td>\n",
       "      <td>169550</td>\n",
       "      <td>169600</td>\n",
       "      <td>318</td>\n",
       "    </tr>\n",
       "    <tr>\n",
       "      <th>7104378</th>\n",
       "      <td>chrEBV</td>\n",
       "      <td>169600</td>\n",
       "      <td>169650</td>\n",
       "      <td>142</td>\n",
       "    </tr>\n",
       "    <tr>\n",
       "      <th>7104379</th>\n",
       "      <td>chrEBV</td>\n",
       "      <td>169650</td>\n",
       "      <td>169700</td>\n",
       "      <td>30</td>\n",
       "    </tr>\n",
       "    <tr>\n",
       "      <th>7104381</th>\n",
       "      <td>chrEBV</td>\n",
       "      <td>170650</td>\n",
       "      <td>170750</td>\n",
       "      <td>12</td>\n",
       "    </tr>\n",
       "  </tbody>\n",
       "</table>\n",
       "<p>4670389 rows × 4 columns</p>\n",
       "</div>"
      ],
      "text/plain": [
       "            chr  start_locus  end_locus  intensity\n",
       "1          chr1         9950      10100         14\n",
       "3          chr1        10550      10700          6\n",
       "5          chr1        41550      41650          2\n",
       "7          chr1        41950      42100          2\n",
       "9          chr1        42200      42300          2\n",
       "...         ...          ...        ...        ...\n",
       "7104376  chrEBV       169500     169550        324\n",
       "7104377  chrEBV       169550     169600        318\n",
       "7104378  chrEBV       169600     169650        142\n",
       "7104379  chrEBV       169650     169700         30\n",
       "7104381  chrEBV       170650     170750         12\n",
       "\n",
       "[4670389 rows x 4 columns]"
      ]
     },
     "execution_count": 3,
     "metadata": {},
     "output_type": "execute_result"
    },
    {
     "data": {
      "application/javascript": [
       "\n",
       "            setTimeout(function() {\n",
       "                var nbb_cell_id = 3;\n",
       "                var nbb_unformatted_code = \"nfr_all_chrom = pathlib.Path(\\n    \\\"/mnt/saphyr/Saphyr_Data/DAM_DLE_VHL_DLE/Hagai/hmm_output/ENCFF240YRV.sorted.nfr.bedgraph\\\"\\n)\\nnfr_all_chrom = read_bedgraph(nfr_all_chrom).query(\\\"intensity != 0\\\")\\nnfr_all_chrom\";\n",
       "                var nbb_formatted_code = \"nfr_all_chrom = pathlib.Path(\\n    \\\"/mnt/saphyr/Saphyr_Data/DAM_DLE_VHL_DLE/Hagai/hmm_output/ENCFF240YRV.sorted.nfr.bedgraph\\\"\\n)\\nnfr_all_chrom = read_bedgraph(nfr_all_chrom).query(\\\"intensity != 0\\\")\\nnfr_all_chrom\";\n",
       "                var nbb_cells = Jupyter.notebook.get_cells();\n",
       "                for (var i = 0; i < nbb_cells.length; ++i) {\n",
       "                    if (nbb_cells[i].input_prompt_number == nbb_cell_id) {\n",
       "                        if (nbb_cells[i].get_text() == nbb_unformatted_code) {\n",
       "                             nbb_cells[i].set_text(nbb_formatted_code);\n",
       "                        }\n",
       "                        break;\n",
       "                    }\n",
       "                }\n",
       "            }, 500);\n",
       "            "
      ],
      "text/plain": [
       "<IPython.core.display.Javascript object>"
      ]
     },
     "metadata": {},
     "output_type": "display_data"
    }
   ],
   "source": [
    "nfr_all_chrom = pathlib.Path(\n",
    "    \"/mnt/saphyr/Saphyr_Data/DAM_DLE_VHL_DLE/Hagai/hmm_output/ENCFF240YRV.sorted.nfr.bedgraph\"\n",
    ")\n",
    "nfr_all_chrom = read_bedgraph(nfr_all_chrom).query(\"intensity != 0\")\n",
    "nfr_all_chrom"
   ]
  },
  {
   "cell_type": "markdown",
   "metadata": {},
   "source": [
    "Before performing the intersection we want to use the data from the peak calling procedure rather than the entire dataset, as per Michal's advice."
   ]
  },
  {
   "cell_type": "code",
   "execution_count": 4,
   "metadata": {
    "scrolled": true
   },
   "outputs": [
    {
     "data": {
      "text/html": [
       "<div>\n",
       "<style scoped>\n",
       "    .dataframe tbody tr th:only-of-type {\n",
       "        vertical-align: middle;\n",
       "    }\n",
       "\n",
       "    .dataframe tbody tr th {\n",
       "        vertical-align: top;\n",
       "    }\n",
       "\n",
       "    .dataframe thead th {\n",
       "        text-align: right;\n",
       "    }\n",
       "</style>\n",
       "<table border=\"1\" class=\"dataframe\">\n",
       "  <thead>\n",
       "    <tr style=\"text-align: right;\">\n",
       "      <th></th>\n",
       "      <th>chr</th>\n",
       "      <th>start_locus</th>\n",
       "      <th>end_locus</th>\n",
       "      <th>intensity</th>\n",
       "    </tr>\n",
       "  </thead>\n",
       "  <tbody>\n",
       "    <tr>\n",
       "      <th>0</th>\n",
       "      <td>chr9</td>\n",
       "      <td>113300</td>\n",
       "      <td>114180</td>\n",
       "      <td>1</td>\n",
       "    </tr>\n",
       "    <tr>\n",
       "      <th>1</th>\n",
       "      <td>chr9</td>\n",
       "      <td>214450</td>\n",
       "      <td>215590</td>\n",
       "      <td>1</td>\n",
       "    </tr>\n",
       "    <tr>\n",
       "      <th>2</th>\n",
       "      <td>chr9</td>\n",
       "      <td>272440</td>\n",
       "      <td>274450</td>\n",
       "      <td>1</td>\n",
       "    </tr>\n",
       "    <tr>\n",
       "      <th>3</th>\n",
       "      <td>chr9</td>\n",
       "      <td>296720</td>\n",
       "      <td>298070</td>\n",
       "      <td>1</td>\n",
       "    </tr>\n",
       "    <tr>\n",
       "      <th>4</th>\n",
       "      <td>chr9</td>\n",
       "      <td>468450</td>\n",
       "      <td>472450</td>\n",
       "      <td>1</td>\n",
       "    </tr>\n",
       "    <tr>\n",
       "      <th>...</th>\n",
       "      <td>...</td>\n",
       "      <td>...</td>\n",
       "      <td>...</td>\n",
       "      <td>...</td>\n",
       "    </tr>\n",
       "    <tr>\n",
       "      <th>66570</th>\n",
       "      <td>chr1</td>\n",
       "      <td>632540</td>\n",
       "      <td>632658</td>\n",
       "      <td>1</td>\n",
       "    </tr>\n",
       "    <tr>\n",
       "      <th>66571</th>\n",
       "      <td>chr1</td>\n",
       "      <td>633440</td>\n",
       "      <td>633518</td>\n",
       "      <td>1</td>\n",
       "    </tr>\n",
       "    <tr>\n",
       "      <th>66572</th>\n",
       "      <td>chr1</td>\n",
       "      <td>633916</td>\n",
       "      <td>634111</td>\n",
       "      <td>1</td>\n",
       "    </tr>\n",
       "    <tr>\n",
       "      <th>66573</th>\n",
       "      <td>chr1</td>\n",
       "      <td>634135</td>\n",
       "      <td>634173</td>\n",
       "      <td>1</td>\n",
       "    </tr>\n",
       "    <tr>\n",
       "      <th>66574</th>\n",
       "      <td>chr17</td>\n",
       "      <td>22521381</td>\n",
       "      <td>22521464</td>\n",
       "      <td>1</td>\n",
       "    </tr>\n",
       "  </tbody>\n",
       "</table>\n",
       "<p>66575 rows × 4 columns</p>\n",
       "</div>"
      ],
      "text/plain": [
       "         chr  start_locus  end_locus  intensity\n",
       "0       chr9       113300     114180          1\n",
       "1       chr9       214450     215590          1\n",
       "2       chr9       272440     274450          1\n",
       "3       chr9       296720     298070          1\n",
       "4       chr9       468450     472450          1\n",
       "...      ...          ...        ...        ...\n",
       "66570   chr1       632540     632658          1\n",
       "66571   chr1       633440     633518          1\n",
       "66572   chr1       633916     634111          1\n",
       "66573   chr1       634135     634173          1\n",
       "66574  chr17     22521381   22521464          1\n",
       "\n",
       "[66575 rows x 4 columns]"
      ]
     },
     "execution_count": 4,
     "metadata": {},
     "output_type": "execute_result"
    },
    {
     "data": {
      "application/javascript": [
       "\n",
       "            setTimeout(function() {\n",
       "                var nbb_cell_id = 4;\n",
       "                var nbb_unformatted_code = \"peak_called_atac = read_bedgraph(\\n    pathlib.Path(\\n        \\\"/mnt/saphyr/Saphyr_Data/DAM_DLE_VHL_DLE/Hagai/hmm_output/atac_peaks.bedgraph\\\"\\n    )\\n)\\npeak_called_atac\";\n",
       "                var nbb_formatted_code = \"peak_called_atac = read_bedgraph(\\n    pathlib.Path(\\n        \\\"/mnt/saphyr/Saphyr_Data/DAM_DLE_VHL_DLE/Hagai/hmm_output/atac_peaks.bedgraph\\\"\\n    )\\n)\\npeak_called_atac\";\n",
       "                var nbb_cells = Jupyter.notebook.get_cells();\n",
       "                for (var i = 0; i < nbb_cells.length; ++i) {\n",
       "                    if (nbb_cells[i].input_prompt_number == nbb_cell_id) {\n",
       "                        if (nbb_cells[i].get_text() == nbb_unformatted_code) {\n",
       "                             nbb_cells[i].set_text(nbb_formatted_code);\n",
       "                        }\n",
       "                        break;\n",
       "                    }\n",
       "                }\n",
       "            }, 500);\n",
       "            "
      ],
      "text/plain": [
       "<IPython.core.display.Javascript object>"
      ]
     },
     "metadata": {},
     "output_type": "display_data"
    }
   ],
   "source": [
    "peak_called_atac = read_bedgraph(\n",
    "    pathlib.Path(\n",
    "        \"/mnt/saphyr/Saphyr_Data/DAM_DLE_VHL_DLE/Hagai/hmm_output/atac_peaks.bedgraph\"\n",
    "    )\n",
    ")\n",
    "peak_called_atac"
   ]
  },
  {
   "cell_type": "markdown",
   "metadata": {},
   "source": [
    "We'lll do an unweighted intersection - we're satisfied even if a small portion of the peak touches on an NFR."
   ]
  },
  {
   "cell_type": "code",
   "execution_count": 5,
   "metadata": {},
   "outputs": [
    {
     "data": {
      "application/javascript": [
       "\n",
       "            setTimeout(function() {\n",
       "                var nbb_cell_id = 5;\n",
       "                var nbb_unformatted_code = \"nfr = []\\npeaks = []\\nfor chr_, nfr_group, peak_group in iter_over_bedgraphs_chromosomes(\\n    nfr_all_chrom, peak_called_atac\\n):\\n    cur_peak, cur_nfr = peak_group.bg.unweighted_overlap(nfr_group)\\n    nfr.append(cur_nfr.bg.index_to_columns())\\n    peaks.append(cur_peak.bg.index_to_columns())\\nnfr_all_chrom = pd.concat(nfr, axis=0, ignore_index=True)\";\n",
       "                var nbb_formatted_code = \"nfr = []\\npeaks = []\\nfor chr_, nfr_group, peak_group in iter_over_bedgraphs_chromosomes(\\n    nfr_all_chrom, peak_called_atac\\n):\\n    cur_peak, cur_nfr = peak_group.bg.unweighted_overlap(nfr_group)\\n    nfr.append(cur_nfr.bg.index_to_columns())\\n    peaks.append(cur_peak.bg.index_to_columns())\\nnfr_all_chrom = pd.concat(nfr, axis=0, ignore_index=True)\";\n",
       "                var nbb_cells = Jupyter.notebook.get_cells();\n",
       "                for (var i = 0; i < nbb_cells.length; ++i) {\n",
       "                    if (nbb_cells[i].input_prompt_number == nbb_cell_id) {\n",
       "                        if (nbb_cells[i].get_text() == nbb_unformatted_code) {\n",
       "                             nbb_cells[i].set_text(nbb_formatted_code);\n",
       "                        }\n",
       "                        break;\n",
       "                    }\n",
       "                }\n",
       "            }, 500);\n",
       "            "
      ],
      "text/plain": [
       "<IPython.core.display.Javascript object>"
      ]
     },
     "metadata": {},
     "output_type": "display_data"
    }
   ],
   "source": [
    "nfr = []\n",
    "peaks = []\n",
    "for chr_, nfr_group, peak_group in iter_over_bedgraphs_chromosomes(\n",
    "    nfr_all_chrom, peak_called_atac\n",
    "):\n",
    "    cur_peak, cur_nfr = peak_group.bg.unweighted_overlap(nfr_group)\n",
    "    nfr.append(cur_nfr.bg.index_to_columns())\n",
    "    peaks.append(cur_peak.bg.index_to_columns())\n",
    "nfr_all_chrom = pd.concat(nfr, axis=0, ignore_index=True)"
   ]
  },
  {
   "cell_type": "markdown",
   "metadata": {},
   "source": [
    "Now we'll find the intersection of ATAC and DNase, and we'll finally intersect that with our own data:"
   ]
  },
  {
   "cell_type": "code",
   "execution_count": 11,
   "metadata": {},
   "outputs": [
    {
     "name": "stdout",
     "output_type": "stream",
     "text": [
      "Finished 0.0001\n",
      "Finished 0.01\n",
      "Finished 0.1\n",
      "Finished 0.2\n",
      "Finished 0.3\n",
      "Finished 0.4\n",
      "Finished 0.5\n",
      "Finished 0.6\n",
      "Finished 0.7\n",
      "Finished 0.8\n",
      "Finished 0.9\n",
      "Finished 0.95\n"
     ]
    },
    {
     "data": {
      "application/javascript": [
       "\n",
       "            setTimeout(function() {\n",
       "                var nbb_cell_id = 11;\n",
       "                var nbb_unformatted_code = \"total_intersection = {}\\nfor overlap_pct in [0.0001, 0.01, 0.1, 0.2, 0.3, 0.4, 0.5, 0.6, 0.7, 0.8, 0.9, 0.95]:\\n    dnase_intersection, atac_intersection = [], []\\n    for chr_, dnase_group, atac_group in iter_over_bedgraphs_chromosomes(\\n        dnase, nfr_all_chrom\\n    ):\\n        cur_dnase, cur_atac = dnase_group.bg.weighted_overlap(\\n            atac_group, overlap_pct=overlap_pct\\n        )\\n        dnase_intersection.append(cur_dnase.bg.index_to_columns())\\n        atac_intersection.append(cur_atac.bg.index_to_columns())\\n    dnase_intersection = pd.concat(dnase_intersection, axis=0, ignore_index=True)\\n    atac_intersection = pd.concat(atac_intersection, axis=0, ignore_index=True)\\n    total_intersection[overlap_pct] = len(atac_intersection) / len(nfr_all_chrom)\\n    print(f\\\"Finished {overlap_pct}\\\")\";\n",
       "                var nbb_formatted_code = \"total_intersection = {}\\nfor overlap_pct in [0.0001, 0.01, 0.1, 0.2, 0.3, 0.4, 0.5, 0.6, 0.7, 0.8, 0.9, 0.95]:\\n    dnase_intersection, atac_intersection = [], []\\n    for chr_, dnase_group, atac_group in iter_over_bedgraphs_chromosomes(\\n        dnase, nfr_all_chrom\\n    ):\\n        cur_dnase, cur_atac = dnase_group.bg.weighted_overlap(\\n            atac_group, overlap_pct=overlap_pct\\n        )\\n        dnase_intersection.append(cur_dnase.bg.index_to_columns())\\n        atac_intersection.append(cur_atac.bg.index_to_columns())\\n    dnase_intersection = pd.concat(dnase_intersection, axis=0, ignore_index=True)\\n    atac_intersection = pd.concat(atac_intersection, axis=0, ignore_index=True)\\n    total_intersection[overlap_pct] = len(atac_intersection) / len(nfr_all_chrom)\\n    print(f\\\"Finished {overlap_pct}\\\")\";\n",
       "                var nbb_cells = Jupyter.notebook.get_cells();\n",
       "                for (var i = 0; i < nbb_cells.length; ++i) {\n",
       "                    if (nbb_cells[i].input_prompt_number == nbb_cell_id) {\n",
       "                        if (nbb_cells[i].get_text() == nbb_unformatted_code) {\n",
       "                             nbb_cells[i].set_text(nbb_formatted_code);\n",
       "                        }\n",
       "                        break;\n",
       "                    }\n",
       "                }\n",
       "            }, 500);\n",
       "            "
      ],
      "text/plain": [
       "<IPython.core.display.Javascript object>"
      ]
     },
     "metadata": {},
     "output_type": "display_data"
    }
   ],
   "source": [
    "total_intersection = {}\n",
    "for overlap_pct in [0.0001, 0.01, 0.1, 0.2, 0.3, 0.4, 0.5, 0.6, 0.7, 0.8, 0.9, 0.95]:\n",
    "    dnase_intersection, atac_intersection = [], []\n",
    "    for chr_, dnase_group, atac_group in iter_over_bedgraphs_chromosomes(\n",
    "        dnase, nfr_all_chrom\n",
    "    ):\n",
    "        cur_dnase, cur_atac = dnase_group.bg.weighted_overlap(\n",
    "            atac_group, overlap_pct=overlap_pct\n",
    "        )\n",
    "        dnase_intersection.append(cur_dnase.bg.index_to_columns())\n",
    "        atac_intersection.append(cur_atac.bg.index_to_columns())\n",
    "    dnase_intersection = pd.concat(dnase_intersection, axis=0, ignore_index=True)\n",
    "    atac_intersection = pd.concat(atac_intersection, axis=0, ignore_index=True)\n",
    "    total_intersection[overlap_pct] = len(atac_intersection) / len(nfr_all_chrom)\n",
    "    print(f\"Finished {overlap_pct}\")"
   ]
  },
  {
   "cell_type": "code",
   "execution_count": 12,
   "metadata": {},
   "outputs": [
    {
     "data": {
      "text/plain": [
       "{0.0001: 0.14136361588031185,\n",
       " 0.01: 0.14077779279888242,\n",
       " 0.1: 0.13104411698436302,\n",
       " 0.2: 0.12161086326288435,\n",
       " 0.3: 0.11201237739023327,\n",
       " 0.4: 0.10296967238970754,\n",
       " 0.5: 0.09487329698226007,\n",
       " 0.6: 0.08680696378411669,\n",
       " 0.7: 0.07995734006278822,\n",
       " 0.8: 0.07276223093446292,\n",
       " 0.9: 0.06639328256199961,\n",
       " 0.95: 0.06362939930602496}"
      ]
     },
     "execution_count": 12,
     "metadata": {},
     "output_type": "execute_result"
    },
    {
     "data": {
      "application/javascript": [
       "\n",
       "            setTimeout(function() {\n",
       "                var nbb_cell_id = 12;\n",
       "                var nbb_unformatted_code = \"total_intersection\";\n",
       "                var nbb_formatted_code = \"total_intersection\";\n",
       "                var nbb_cells = Jupyter.notebook.get_cells();\n",
       "                for (var i = 0; i < nbb_cells.length; ++i) {\n",
       "                    if (nbb_cells[i].input_prompt_number == nbb_cell_id) {\n",
       "                        if (nbb_cells[i].get_text() == nbb_unformatted_code) {\n",
       "                             nbb_cells[i].set_text(nbb_formatted_code);\n",
       "                        }\n",
       "                        break;\n",
       "                    }\n",
       "                }\n",
       "            }, 500);\n",
       "            "
      ],
      "text/plain": [
       "<IPython.core.display.Javascript object>"
      ]
     },
     "metadata": {},
     "output_type": "display_data"
    }
   ],
   "source": [
    "total_intersection"
   ]
  },
  {
   "cell_type": "code",
   "execution_count": 13,
   "metadata": {},
   "outputs": [
    {
     "data": {
      "text/plain": [
       "0.0005259221167780842"
      ]
     },
     "execution_count": 13,
     "metadata": {},
     "output_type": "execute_result"
    },
    {
     "data": {
      "application/javascript": [
       "\n",
       "            setTimeout(function() {\n",
       "                var nbb_cell_id = 13;\n",
       "                var nbb_unformatted_code = \"len(dnase_intersection) / len(dnase)\";\n",
       "                var nbb_formatted_code = \"len(dnase_intersection) / len(dnase)\";\n",
       "                var nbb_cells = Jupyter.notebook.get_cells();\n",
       "                for (var i = 0; i < nbb_cells.length; ++i) {\n",
       "                    if (nbb_cells[i].input_prompt_number == nbb_cell_id) {\n",
       "                        if (nbb_cells[i].get_text() == nbb_unformatted_code) {\n",
       "                             nbb_cells[i].set_text(nbb_formatted_code);\n",
       "                        }\n",
       "                        break;\n",
       "                    }\n",
       "                }\n",
       "            }, 500);\n",
       "            "
      ],
      "text/plain": [
       "<IPython.core.display.Javascript object>"
      ]
     },
     "metadata": {},
     "output_type": "display_data"
    }
   ],
   "source": [
    "len(dnase_intersection) / len(dnase)"
   ]
  },
  {
   "cell_type": "code",
   "execution_count": 14,
   "metadata": {},
   "outputs": [
    {
     "data": {
      "text/plain": [
       "Text(0.5, 1.0, 'ATAC NFR Coverage as a function of overlap requirement with DNase')"
      ]
     },
     "execution_count": 14,
     "metadata": {},
     "output_type": "execute_result"
    },
    {
     "data": {
      "image/png": "[encoded data removed]",
      "text/plain": [
       "<Figure size 432x288 with 1 Axes>"
      ]
     },
     "metadata": {
      "needs_background": "light"
     },
     "output_type": "display_data"
    },
    {
     "data": {
      "application/javascript": [
       "\n",
       "            setTimeout(function() {\n",
       "                var nbb_cell_id = 14;\n",
       "                var nbb_unformatted_code = \"total_intersection_df = pd.DataFrame.from_dict(\\n    total_intersection, orient=\\\"index\\\", columns=[\\\"Overlap percentage requirement\\\"]\\n)\\nax0 = total_intersection_df.reset_index().plot.scatter(\\n    x=\\\"index\\\", y=\\\"Overlap percentage requirement\\\"\\n)\\nax0.set_ylabel(\\\"ATAC NFR Coverage %\\\")\\nax0.set_xlabel(\\\"Overlap %\\\")\\nax0.set_title(\\\"ATAC NFR Coverage as a function of overlap requirement with DNase\\\")\";\n",
       "                var nbb_formatted_code = \"total_intersection_df = pd.DataFrame.from_dict(\\n    total_intersection, orient=\\\"index\\\", columns=[\\\"Overlap percentage requirement\\\"]\\n)\\nax0 = total_intersection_df.reset_index().plot.scatter(\\n    x=\\\"index\\\", y=\\\"Overlap percentage requirement\\\"\\n)\\nax0.set_ylabel(\\\"ATAC NFR Coverage %\\\")\\nax0.set_xlabel(\\\"Overlap %\\\")\\nax0.set_title(\\\"ATAC NFR Coverage as a function of overlap requirement with DNase\\\")\";\n",
       "                var nbb_cells = Jupyter.notebook.get_cells();\n",
       "                for (var i = 0; i < nbb_cells.length; ++i) {\n",
       "                    if (nbb_cells[i].input_prompt_number == nbb_cell_id) {\n",
       "                        if (nbb_cells[i].get_text() == nbb_unformatted_code) {\n",
       "                             nbb_cells[i].set_text(nbb_formatted_code);\n",
       "                        }\n",
       "                        break;\n",
       "                    }\n",
       "                }\n",
       "            }, 500);\n",
       "            "
      ],
      "text/plain": [
       "<IPython.core.display.Javascript object>"
      ]
     },
     "metadata": {},
     "output_type": "display_data"
    }
   ],
   "source": [
    "total_intersection_df = pd.DataFrame.from_dict(\n",
    "    total_intersection, orient=\"index\", columns=[\"Overlap percentage requirement\"]\n",
    ")\n",
    "ax0 = total_intersection_df.reset_index().plot.scatter(\n",
    "    x=\"index\", y=\"Overlap percentage requirement\"\n",
    ")\n",
    "ax0.set_ylabel(\"ATAC NFR Coverage %\")\n",
    "ax0.set_xlabel(\"Overlap %\")\n",
    "ax0.set_title(\"ATAC NFR Coverage as a function of overlap requirement with DNase\")"
   ]
  },
  {
   "cell_type": "markdown",
   "metadata": {},
   "source": [
    "In broad strokes, all DNase areas are covered with ATAC NFR areas, while the DNase only covers about 7% of the NFR. We can check the data on a chromosome-by-chromosome level:"
   ]
  },
  {
   "cell_type": "code",
   "execution_count": 15,
   "metadata": {},
   "outputs": [
    {
     "data": {
      "text/plain": [
       "Text(0.5, 1.0, 'ATAC vs DNase overlap')"
      ]
     },
     "execution_count": 15,
     "metadata": {},
     "output_type": "execute_result"
    },
    {
     "data": {
      "image/png": "[encoded data removed]",
      "text/plain": [
       "<Figure size 432x288 with 1 Axes>"
      ]
     },
     "metadata": {
      "needs_background": "light"
     },
     "output_type": "display_data"
    },
    {
     "data": {
      "application/javascript": [
       "\n",
       "            setTimeout(function() {\n",
       "                var nbb_cell_id = 15;\n",
       "                var nbb_unformatted_code = \"atac_per_chr = {}\\nfor chr_, dnase_group, atac_group in iter_over_bedgraphs_chromosomes(\\n    dnase, nfr_all_chrom\\n):\\n    dnase_int_grouped = dnase_intersection.query(\\\"chr == @chr_\\\")\\n    atac_int_grouped = atac_intersection.query(\\\"chr == @chr_\\\")\\n    atac_per_chr[chr_] = len(atac_int_grouped) / len(atac_group)\\n\\natac_per_chr_df = pd.DataFrame.from_dict(\\n    atac_per_chr, orient=\\\"index\\\", columns=[\\\"Overlap fraction\\\"]\\n)\\nax = atac_per_chr_df.plot.bar()\\nax.set_ylabel(\\\"Overlap fraction\\\")\\nax.set_title(\\\"ATAC vs DNase overlap\\\")\";\n",
       "                var nbb_formatted_code = \"atac_per_chr = {}\\nfor chr_, dnase_group, atac_group in iter_over_bedgraphs_chromosomes(\\n    dnase, nfr_all_chrom\\n):\\n    dnase_int_grouped = dnase_intersection.query(\\\"chr == @chr_\\\")\\n    atac_int_grouped = atac_intersection.query(\\\"chr == @chr_\\\")\\n    atac_per_chr[chr_] = len(atac_int_grouped) / len(atac_group)\\n\\natac_per_chr_df = pd.DataFrame.from_dict(\\n    atac_per_chr, orient=\\\"index\\\", columns=[\\\"Overlap fraction\\\"]\\n)\\nax = atac_per_chr_df.plot.bar()\\nax.set_ylabel(\\\"Overlap fraction\\\")\\nax.set_title(\\\"ATAC vs DNase overlap\\\")\";\n",
       "                var nbb_cells = Jupyter.notebook.get_cells();\n",
       "                for (var i = 0; i < nbb_cells.length; ++i) {\n",
       "                    if (nbb_cells[i].input_prompt_number == nbb_cell_id) {\n",
       "                        if (nbb_cells[i].get_text() == nbb_unformatted_code) {\n",
       "                             nbb_cells[i].set_text(nbb_formatted_code);\n",
       "                        }\n",
       "                        break;\n",
       "                    }\n",
       "                }\n",
       "            }, 500);\n",
       "            "
      ],
      "text/plain": [
       "<IPython.core.display.Javascript object>"
      ]
     },
     "metadata": {},
     "output_type": "display_data"
    }
   ],
   "source": [
    "atac_per_chr = {}\n",
    "for chr_, dnase_group, atac_group in iter_over_bedgraphs_chromosomes(\n",
    "    dnase, nfr_all_chrom\n",
    "):\n",
    "    dnase_int_grouped = dnase_intersection.query(\"chr == @chr_\")\n",
    "    atac_int_grouped = atac_intersection.query(\"chr == @chr_\")\n",
    "    atac_per_chr[chr_] = len(atac_int_grouped) / len(atac_group)\n",
    "\n",
    "atac_per_chr_df = pd.DataFrame.from_dict(\n",
    "    atac_per_chr, orient=\"index\", columns=[\"Overlap fraction\"]\n",
    ")\n",
    "ax = atac_per_chr_df.plot.bar()\n",
    "ax.set_ylabel(\"Overlap fraction\")\n",
    "ax.set_title(\"ATAC vs DNase overlap\")"
   ]
  },
  {
   "cell_type": "markdown",
   "metadata": {},
   "source": [
    "Not too informative, but definitely reassuring."
   ]
  },
  {
   "cell_type": "markdown",
   "metadata": {},
   "source": [
    "## Adding the EcoDAM data"
   ]
  },
  {
   "cell_type": "markdown",
   "metadata": {},
   "source": [
    "To do that we'll need to normalize that data with the theoretical site density first."
   ]
  },
  {
   "cell_type": "code",
   "execution_count": 16,
   "metadata": {},
   "outputs": [
    {
     "data": {
      "text/html": [
       "<div>\n",
       "<style scoped>\n",
       "    .dataframe tbody tr th:only-of-type {\n",
       "        vertical-align: middle;\n",
       "    }\n",
       "\n",
       "    .dataframe tbody tr th {\n",
       "        vertical-align: top;\n",
       "    }\n",
       "\n",
       "    .dataframe thead th {\n",
       "        text-align: right;\n",
       "    }\n",
       "</style>\n",
       "<table border=\"1\" class=\"dataframe\">\n",
       "  <thead>\n",
       "    <tr style=\"text-align: right;\">\n",
       "      <th></th>\n",
       "      <th>chr</th>\n",
       "      <th>start_locus</th>\n",
       "      <th>end_locus</th>\n",
       "      <th>intensity</th>\n",
       "    </tr>\n",
       "  </thead>\n",
       "  <tbody>\n",
       "    <tr>\n",
       "      <th>0</th>\n",
       "      <td>chr1</td>\n",
       "      <td>10598</td>\n",
       "      <td>11298</td>\n",
       "      <td>0.001302</td>\n",
       "    </tr>\n",
       "    <tr>\n",
       "      <th>1</th>\n",
       "      <td>chr1</td>\n",
       "      <td>11298</td>\n",
       "      <td>11998</td>\n",
       "      <td>0.002080</td>\n",
       "    </tr>\n",
       "    <tr>\n",
       "      <th>2</th>\n",
       "      <td>chr1</td>\n",
       "      <td>11998</td>\n",
       "      <td>12698</td>\n",
       "      <td>0.003104</td>\n",
       "    </tr>\n",
       "    <tr>\n",
       "      <th>3</th>\n",
       "      <td>chr1</td>\n",
       "      <td>12698</td>\n",
       "      <td>13398</td>\n",
       "      <td>0.003867</td>\n",
       "    </tr>\n",
       "    <tr>\n",
       "      <th>4</th>\n",
       "      <td>chr1</td>\n",
       "      <td>13398</td>\n",
       "      <td>14098</td>\n",
       "      <td>0.003854</td>\n",
       "    </tr>\n",
       "    <tr>\n",
       "      <th>...</th>\n",
       "      <td>...</td>\n",
       "      <td>...</td>\n",
       "      <td>...</td>\n",
       "      <td>...</td>\n",
       "    </tr>\n",
       "    <tr>\n",
       "      <th>4317590</th>\n",
       "      <td>chr9</td>\n",
       "      <td>138330839</td>\n",
       "      <td>138331539</td>\n",
       "      <td>0.002366</td>\n",
       "    </tr>\n",
       "    <tr>\n",
       "      <th>4317591</th>\n",
       "      <td>chr9</td>\n",
       "      <td>138331539</td>\n",
       "      <td>138332239</td>\n",
       "      <td>0.002161</td>\n",
       "    </tr>\n",
       "    <tr>\n",
       "      <th>4317592</th>\n",
       "      <td>chr9</td>\n",
       "      <td>138332239</td>\n",
       "      <td>138332939</td>\n",
       "      <td>0.002025</td>\n",
       "    </tr>\n",
       "    <tr>\n",
       "      <th>4317593</th>\n",
       "      <td>chr9</td>\n",
       "      <td>138332939</td>\n",
       "      <td>138333639</td>\n",
       "      <td>0.001958</td>\n",
       "    </tr>\n",
       "    <tr>\n",
       "      <th>4317594</th>\n",
       "      <td>chr9</td>\n",
       "      <td>138333639</td>\n",
       "      <td>138334339</td>\n",
       "      <td>0.001766</td>\n",
       "    </tr>\n",
       "  </tbody>\n",
       "</table>\n",
       "<p>4317595 rows × 4 columns</p>\n",
       "</div>"
      ],
      "text/plain": [
       "          chr  start_locus  end_locus  intensity\n",
       "0        chr1        10598      11298   0.001302\n",
       "1        chr1        11298      11998   0.002080\n",
       "2        chr1        11998      12698   0.003104\n",
       "3        chr1        12698      13398   0.003867\n",
       "4        chr1        13398      14098   0.003854\n",
       "...       ...          ...        ...        ...\n",
       "4317590  chr9    138330839  138331539   0.002366\n",
       "4317591  chr9    138331539  138332239   0.002161\n",
       "4317592  chr9    138332239  138332939   0.002025\n",
       "4317593  chr9    138332939  138333639   0.001958\n",
       "4317594  chr9    138333639  138334339   0.001766\n",
       "\n",
       "[4317595 rows x 4 columns]"
      ]
     },
     "execution_count": 16,
     "metadata": {},
     "output_type": "execute_result"
    },
    {
     "data": {
      "application/javascript": [
       "\n",
       "            setTimeout(function() {\n",
       "                var nbb_cell_id = 16;\n",
       "                var nbb_unformatted_code = \"smoothed_theo_fname = pathlib.Path(\\n    \\\"/mnt/saphyr/Saphyr_Data/DAM_DLE_VHL_DLE/Theoretical_EcoDam/New folder/Hg38.EcoDam.insilico.canonical.keynames.bg_smoothed_7kb_resampled_with_700_overlapping_bp.bedgraph\\\"\\n)\\nsmoothed_theo = read_bedgraph(smoothed_theo_fname)\\nsmoothed_theo\";\n",
       "                var nbb_formatted_code = \"smoothed_theo_fname = pathlib.Path(\\n    \\\"/mnt/saphyr/Saphyr_Data/DAM_DLE_VHL_DLE/Theoretical_EcoDam/New folder/Hg38.EcoDam.insilico.canonical.keynames.bg_smoothed_7kb_resampled_with_700_overlapping_bp.bedgraph\\\"\\n)\\nsmoothed_theo = read_bedgraph(smoothed_theo_fname)\\nsmoothed_theo\";\n",
       "                var nbb_cells = Jupyter.notebook.get_cells();\n",
       "                for (var i = 0; i < nbb_cells.length; ++i) {\n",
       "                    if (nbb_cells[i].input_prompt_number == nbb_cell_id) {\n",
       "                        if (nbb_cells[i].get_text() == nbb_unformatted_code) {\n",
       "                             nbb_cells[i].set_text(nbb_formatted_code);\n",
       "                        }\n",
       "                        break;\n",
       "                    }\n",
       "                }\n",
       "            }, 500);\n",
       "            "
      ],
      "text/plain": [
       "<IPython.core.display.Javascript object>"
      ]
     },
     "metadata": {},
     "output_type": "display_data"
    }
   ],
   "source": [
    "smoothed_theo_fname = pathlib.Path(\n",
    "    \"/mnt/saphyr/Saphyr_Data/DAM_DLE_VHL_DLE/Theoretical_EcoDam/New folder/Hg38.EcoDam.insilico.canonical.keynames.bg_smoothed_7kb_resampled_with_700_overlapping_bp.bedgraph\"\n",
    ")\n",
    "smoothed_theo = read_bedgraph(smoothed_theo_fname)\n",
    "smoothed_theo"
   ]
  },
  {
   "cell_type": "code",
   "execution_count": 17,
   "metadata": {},
   "outputs": [
    {
     "data": {
      "text/html": [
       "<div>\n",
       "<style scoped>\n",
       "    .dataframe tbody tr th:only-of-type {\n",
       "        vertical-align: middle;\n",
       "    }\n",
       "\n",
       "    .dataframe tbody tr th {\n",
       "        vertical-align: top;\n",
       "    }\n",
       "\n",
       "    .dataframe thead th {\n",
       "        text-align: right;\n",
       "    }\n",
       "</style>\n",
       "<table border=\"1\" class=\"dataframe\">\n",
       "  <thead>\n",
       "    <tr style=\"text-align: right;\">\n",
       "      <th></th>\n",
       "      <th>chr</th>\n",
       "      <th>start_locus</th>\n",
       "      <th>end_locus</th>\n",
       "      <th>intensity</th>\n",
       "    </tr>\n",
       "  </thead>\n",
       "  <tbody>\n",
       "    <tr>\n",
       "      <th>0</th>\n",
       "      <td>chr2</td>\n",
       "      <td>136500</td>\n",
       "      <td>137500</td>\n",
       "      <td>180.51904</td>\n",
       "    </tr>\n",
       "    <tr>\n",
       "      <th>1</th>\n",
       "      <td>chr2</td>\n",
       "      <td>138500</td>\n",
       "      <td>139500</td>\n",
       "      <td>210.61580</td>\n",
       "    </tr>\n",
       "    <tr>\n",
       "      <th>2</th>\n",
       "      <td>chr2</td>\n",
       "      <td>139500</td>\n",
       "      <td>140500</td>\n",
       "      <td>262.29640</td>\n",
       "    </tr>\n",
       "    <tr>\n",
       "      <th>3</th>\n",
       "      <td>chr2</td>\n",
       "      <td>140500</td>\n",
       "      <td>141500</td>\n",
       "      <td>199.44180</td>\n",
       "    </tr>\n",
       "    <tr>\n",
       "      <th>4</th>\n",
       "      <td>chr2</td>\n",
       "      <td>141500</td>\n",
       "      <td>142500</td>\n",
       "      <td>171.83911</td>\n",
       "    </tr>\n",
       "    <tr>\n",
       "      <th>...</th>\n",
       "      <td>...</td>\n",
       "      <td>...</td>\n",
       "      <td>...</td>\n",
       "      <td>...</td>\n",
       "    </tr>\n",
       "    <tr>\n",
       "      <th>2174836</th>\n",
       "      <td>chrX</td>\n",
       "      <td>155885500</td>\n",
       "      <td>155886500</td>\n",
       "      <td>352.23490</td>\n",
       "    </tr>\n",
       "    <tr>\n",
       "      <th>2174837</th>\n",
       "      <td>chrX</td>\n",
       "      <td>155886508</td>\n",
       "      <td>155887508</td>\n",
       "      <td>358.92380</td>\n",
       "    </tr>\n",
       "    <tr>\n",
       "      <th>2174838</th>\n",
       "      <td>chrX</td>\n",
       "      <td>155887500</td>\n",
       "      <td>155888500</td>\n",
       "      <td>431.41670</td>\n",
       "    </tr>\n",
       "    <tr>\n",
       "      <th>2174839</th>\n",
       "      <td>chrX</td>\n",
       "      <td>155888492</td>\n",
       "      <td>155889492</td>\n",
       "      <td>329.18573</td>\n",
       "    </tr>\n",
       "    <tr>\n",
       "      <th>2174840</th>\n",
       "      <td>chrX</td>\n",
       "      <td>155889500</td>\n",
       "      <td>155890500</td>\n",
       "      <td>300.79285</td>\n",
       "    </tr>\n",
       "  </tbody>\n",
       "</table>\n",
       "<p>2174841 rows × 4 columns</p>\n",
       "</div>"
      ],
      "text/plain": [
       "          chr  start_locus  end_locus  intensity\n",
       "0        chr2       136500     137500  180.51904\n",
       "1        chr2       138500     139500  210.61580\n",
       "2        chr2       139500     140500  262.29640\n",
       "3        chr2       140500     141500  199.44180\n",
       "4        chr2       141500     142500  171.83911\n",
       "...       ...          ...        ...        ...\n",
       "2174836  chrX    155885500  155886500  352.23490\n",
       "2174837  chrX    155886508  155887508  358.92380\n",
       "2174838  chrX    155887500  155888500  431.41670\n",
       "2174839  chrX    155888492  155889492  329.18573\n",
       "2174840  chrX    155889500  155890500  300.79285\n",
       "\n",
       "[2174841 rows x 4 columns]"
      ]
     },
     "execution_count": 17,
     "metadata": {},
     "output_type": "execute_result"
    },
    {
     "data": {
      "application/javascript": [
       "\n",
       "            setTimeout(function() {\n",
       "                var nbb_cell_id = 17;\n",
       "                var nbb_unformatted_code = \"chromatin = read_bedgraph(\\n    pathlib.Path(\\n        \\\"/mnt/saphyr/Saphyr_Data/DAM_DLE_VHL_DLE/Michael/Chromatin_rep1/filtered_xmap/pipeline_bedgraphs/NoBlackMask/Chromatin_WholeGenome.bedgraph\\\"\\n    )\\n)\\nchromatin\";\n",
       "                var nbb_formatted_code = \"chromatin = read_bedgraph(\\n    pathlib.Path(\\n        \\\"/mnt/saphyr/Saphyr_Data/DAM_DLE_VHL_DLE/Michael/Chromatin_rep1/filtered_xmap/pipeline_bedgraphs/NoBlackMask/Chromatin_WholeGenome.bedgraph\\\"\\n    )\\n)\\nchromatin\";\n",
       "                var nbb_cells = Jupyter.notebook.get_cells();\n",
       "                for (var i = 0; i < nbb_cells.length; ++i) {\n",
       "                    if (nbb_cells[i].input_prompt_number == nbb_cell_id) {\n",
       "                        if (nbb_cells[i].get_text() == nbb_unformatted_code) {\n",
       "                             nbb_cells[i].set_text(nbb_formatted_code);\n",
       "                        }\n",
       "                        break;\n",
       "                    }\n",
       "                }\n",
       "            }, 500);\n",
       "            "
      ],
      "text/plain": [
       "<IPython.core.display.Javascript object>"
      ]
     },
     "metadata": {},
     "output_type": "display_data"
    }
   ],
   "source": [
    "chromatin = read_bedgraph(\n",
    "    pathlib.Path(\n",
    "        \"/mnt/saphyr/Saphyr_Data/DAM_DLE_VHL_DLE/Michael/Chromatin_rep1/filtered_xmap/pipeline_bedgraphs/NoBlackMask/Chromatin_WholeGenome.bedgraph\"\n",
    "    )\n",
    ")\n",
    "chromatin"
   ]
  },
  {
   "cell_type": "code",
   "execution_count": 18,
   "metadata": {
    "scrolled": true
   },
   "outputs": [
    {
     "name": "stderr",
     "output_type": "stream",
     "text": [
      "/home/hagaih/miniconda3/envs/ecodam/lib/python3.8/site-packages/pandas/core/indexing.py:1745: SettingWithCopyWarning: \n",
      "A value is trying to be set on a copy of a slice from a DataFrame.\n",
      "Try using .loc[row_indexer,col_indexer] = value instead\n",
      "\n",
      "See the caveats in the documentation: https://pandas.pydata.org/pandas-docs/stable/user_guide/indexing.html#returning-a-view-versus-a-copy\n",
      "  isetter(ilocs[0], value)\n",
      "/home/hagaih/miniconda3/envs/ecodam/lib/python3.8/site-packages/pandas/core/indexing.py:1745: SettingWithCopyWarning: \n",
      "A value is trying to be set on a copy of a slice from a DataFrame.\n",
      "Try using .loc[row_indexer,col_indexer] = value instead\n",
      "\n",
      "See the caveats in the documentation: https://pandas.pydata.org/pandas-docs/stable/user_guide/indexing.html#returning-a-view-versus-a-copy\n",
      "  isetter(ilocs[0], value)\n",
      "/home/hagaih/miniconda3/envs/ecodam/lib/python3.8/site-packages/pandas/core/indexing.py:1745: SettingWithCopyWarning: \n",
      "A value is trying to be set on a copy of a slice from a DataFrame.\n",
      "Try using .loc[row_indexer,col_indexer] = value instead\n",
      "\n",
      "See the caveats in the documentation: https://pandas.pydata.org/pandas-docs/stable/user_guide/indexing.html#returning-a-view-versus-a-copy\n",
      "  isetter(ilocs[0], value)\n",
      "/home/hagaih/miniconda3/envs/ecodam/lib/python3.8/site-packages/pandas/core/indexing.py:1745: SettingWithCopyWarning: \n",
      "A value is trying to be set on a copy of a slice from a DataFrame.\n",
      "Try using .loc[row_indexer,col_indexer] = value instead\n",
      "\n",
      "See the caveats in the documentation: https://pandas.pydata.org/pandas-docs/stable/user_guide/indexing.html#returning-a-view-versus-a-copy\n",
      "  isetter(ilocs[0], value)\n",
      "/home/hagaih/miniconda3/envs/ecodam/lib/python3.8/site-packages/pandas/core/indexing.py:1745: SettingWithCopyWarning: \n",
      "A value is trying to be set on a copy of a slice from a DataFrame.\n",
      "Try using .loc[row_indexer,col_indexer] = value instead\n",
      "\n",
      "See the caveats in the documentation: https://pandas.pydata.org/pandas-docs/stable/user_guide/indexing.html#returning-a-view-versus-a-copy\n",
      "  isetter(ilocs[0], value)\n",
      "/home/hagaih/miniconda3/envs/ecodam/lib/python3.8/site-packages/pandas/core/indexing.py:1745: SettingWithCopyWarning: \n",
      "A value is trying to be set on a copy of a slice from a DataFrame.\n",
      "Try using .loc[row_indexer,col_indexer] = value instead\n",
      "\n",
      "See the caveats in the documentation: https://pandas.pydata.org/pandas-docs/stable/user_guide/indexing.html#returning-a-view-versus-a-copy\n",
      "  isetter(ilocs[0], value)\n",
      "/home/hagaih/miniconda3/envs/ecodam/lib/python3.8/site-packages/pandas/core/indexing.py:1745: SettingWithCopyWarning: \n",
      "A value is trying to be set on a copy of a slice from a DataFrame.\n",
      "Try using .loc[row_indexer,col_indexer] = value instead\n",
      "\n",
      "See the caveats in the documentation: https://pandas.pydata.org/pandas-docs/stable/user_guide/indexing.html#returning-a-view-versus-a-copy\n",
      "  isetter(ilocs[0], value)\n",
      "/home/hagaih/miniconda3/envs/ecodam/lib/python3.8/site-packages/pandas/core/indexing.py:1745: SettingWithCopyWarning: \n",
      "A value is trying to be set on a copy of a slice from a DataFrame.\n",
      "Try using .loc[row_indexer,col_indexer] = value instead\n",
      "\n",
      "See the caveats in the documentation: https://pandas.pydata.org/pandas-docs/stable/user_guide/indexing.html#returning-a-view-versus-a-copy\n",
      "  isetter(ilocs[0], value)\n",
      "/home/hagaih/miniconda3/envs/ecodam/lib/python3.8/site-packages/pandas/core/indexing.py:1745: SettingWithCopyWarning: \n",
      "A value is trying to be set on a copy of a slice from a DataFrame.\n",
      "Try using .loc[row_indexer,col_indexer] = value instead\n",
      "\n",
      "See the caveats in the documentation: https://pandas.pydata.org/pandas-docs/stable/user_guide/indexing.html#returning-a-view-versus-a-copy\n",
      "  isetter(ilocs[0], value)\n",
      "/home/hagaih/miniconda3/envs/ecodam/lib/python3.8/site-packages/pandas/core/indexing.py:1745: SettingWithCopyWarning: \n",
      "A value is trying to be set on a copy of a slice from a DataFrame.\n",
      "Try using .loc[row_indexer,col_indexer] = value instead\n",
      "\n",
      "See the caveats in the documentation: https://pandas.pydata.org/pandas-docs/stable/user_guide/indexing.html#returning-a-view-versus-a-copy\n",
      "  isetter(ilocs[0], value)\n",
      "/home/hagaih/miniconda3/envs/ecodam/lib/python3.8/site-packages/pandas/core/indexing.py:1745: SettingWithCopyWarning: \n",
      "A value is trying to be set on a copy of a slice from a DataFrame.\n",
      "Try using .loc[row_indexer,col_indexer] = value instead\n",
      "\n",
      "See the caveats in the documentation: https://pandas.pydata.org/pandas-docs/stable/user_guide/indexing.html#returning-a-view-versus-a-copy\n",
      "  isetter(ilocs[0], value)\n",
      "/home/hagaih/miniconda3/envs/ecodam/lib/python3.8/site-packages/pandas/core/indexing.py:1745: SettingWithCopyWarning: \n",
      "A value is trying to be set on a copy of a slice from a DataFrame.\n",
      "Try using .loc[row_indexer,col_indexer] = value instead\n",
      "\n",
      "See the caveats in the documentation: https://pandas.pydata.org/pandas-docs/stable/user_guide/indexing.html#returning-a-view-versus-a-copy\n",
      "  isetter(ilocs[0], value)\n",
      "/home/hagaih/miniconda3/envs/ecodam/lib/python3.8/site-packages/pandas/core/indexing.py:1745: SettingWithCopyWarning: \n",
      "A value is trying to be set on a copy of a slice from a DataFrame.\n",
      "Try using .loc[row_indexer,col_indexer] = value instead\n",
      "\n",
      "See the caveats in the documentation: https://pandas.pydata.org/pandas-docs/stable/user_guide/indexing.html#returning-a-view-versus-a-copy\n",
      "  isetter(ilocs[0], value)\n",
      "/home/hagaih/miniconda3/envs/ecodam/lib/python3.8/site-packages/pandas/core/indexing.py:1745: SettingWithCopyWarning: \n",
      "A value is trying to be set on a copy of a slice from a DataFrame.\n",
      "Try using .loc[row_indexer,col_indexer] = value instead\n",
      "\n",
      "See the caveats in the documentation: https://pandas.pydata.org/pandas-docs/stable/user_guide/indexing.html#returning-a-view-versus-a-copy\n",
      "  isetter(ilocs[0], value)\n",
      "/home/hagaih/miniconda3/envs/ecodam/lib/python3.8/site-packages/pandas/core/indexing.py:1745: SettingWithCopyWarning: \n",
      "A value is trying to be set on a copy of a slice from a DataFrame.\n",
      "Try using .loc[row_indexer,col_indexer] = value instead\n",
      "\n",
      "See the caveats in the documentation: https://pandas.pydata.org/pandas-docs/stable/user_guide/indexing.html#returning-a-view-versus-a-copy\n",
      "  isetter(ilocs[0], value)\n",
      "/home/hagaih/miniconda3/envs/ecodam/lib/python3.8/site-packages/pandas/core/indexing.py:1745: SettingWithCopyWarning: \n",
      "A value is trying to be set on a copy of a slice from a DataFrame.\n",
      "Try using .loc[row_indexer,col_indexer] = value instead\n",
      "\n",
      "See the caveats in the documentation: https://pandas.pydata.org/pandas-docs/stable/user_guide/indexing.html#returning-a-view-versus-a-copy\n",
      "  isetter(ilocs[0], value)\n",
      "/home/hagaih/miniconda3/envs/ecodam/lib/python3.8/site-packages/pandas/core/indexing.py:1745: SettingWithCopyWarning: \n",
      "A value is trying to be set on a copy of a slice from a DataFrame.\n",
      "Try using .loc[row_indexer,col_indexer] = value instead\n",
      "\n",
      "See the caveats in the documentation: https://pandas.pydata.org/pandas-docs/stable/user_guide/indexing.html#returning-a-view-versus-a-copy\n",
      "  isetter(ilocs[0], value)\n",
      "/home/hagaih/miniconda3/envs/ecodam/lib/python3.8/site-packages/pandas/core/indexing.py:1745: SettingWithCopyWarning: \n",
      "A value is trying to be set on a copy of a slice from a DataFrame.\n",
      "Try using .loc[row_indexer,col_indexer] = value instead\n",
      "\n",
      "See the caveats in the documentation: https://pandas.pydata.org/pandas-docs/stable/user_guide/indexing.html#returning-a-view-versus-a-copy\n",
      "  isetter(ilocs[0], value)\n",
      "/home/hagaih/miniconda3/envs/ecodam/lib/python3.8/site-packages/pandas/core/indexing.py:1745: SettingWithCopyWarning: \n",
      "A value is trying to be set on a copy of a slice from a DataFrame.\n",
      "Try using .loc[row_indexer,col_indexer] = value instead\n",
      "\n",
      "See the caveats in the documentation: https://pandas.pydata.org/pandas-docs/stable/user_guide/indexing.html#returning-a-view-versus-a-copy\n",
      "  isetter(ilocs[0], value)\n",
      "/home/hagaih/miniconda3/envs/ecodam/lib/python3.8/site-packages/pandas/core/indexing.py:1745: SettingWithCopyWarning: \n",
      "A value is trying to be set on a copy of a slice from a DataFrame.\n",
      "Try using .loc[row_indexer,col_indexer] = value instead\n",
      "\n",
      "See the caveats in the documentation: https://pandas.pydata.org/pandas-docs/stable/user_guide/indexing.html#returning-a-view-versus-a-copy\n",
      "  isetter(ilocs[0], value)\n",
      "/home/hagaih/miniconda3/envs/ecodam/lib/python3.8/site-packages/pandas/core/indexing.py:1745: SettingWithCopyWarning: \n",
      "A value is trying to be set on a copy of a slice from a DataFrame.\n",
      "Try using .loc[row_indexer,col_indexer] = value instead\n",
      "\n",
      "See the caveats in the documentation: https://pandas.pydata.org/pandas-docs/stable/user_guide/indexing.html#returning-a-view-versus-a-copy\n",
      "  isetter(ilocs[0], value)\n"
     ]
    },
    {
     "name": "stderr",
     "output_type": "stream",
     "text": [
      "/home/hagaih/miniconda3/envs/ecodam/lib/python3.8/site-packages/pandas/core/indexing.py:1745: SettingWithCopyWarning: \n",
      "A value is trying to be set on a copy of a slice from a DataFrame.\n",
      "Try using .loc[row_indexer,col_indexer] = value instead\n",
      "\n",
      "See the caveats in the documentation: https://pandas.pydata.org/pandas-docs/stable/user_guide/indexing.html#returning-a-view-versus-a-copy\n",
      "  isetter(ilocs[0], value)\n"
     ]
    },
    {
     "data": {
      "application/javascript": [
       "\n",
       "            setTimeout(function() {\n",
       "                var nbb_cell_id = 18;\n",
       "                var nbb_unformatted_code = \"chrom_intersection, nfr_intersection, dnase_chrom_intersection = [], [], []\\nfor (\\n    chr_,\\n    chrom_group,\\n    theo_group,\\n    dnase_group,\\n    nfr_group,\\n) in iter_over_bedgraphs_chromosomes(chromatin, smoothed_theo, dnase, nfr_all_chrom):\\n    equalized_chrom, equalized_theo = equalize_loci(chrom_group.copy(), theo_group.copy())\\n    # Normalze the chromatin data\\n    mask, norm_by = prepare_site_density_for_norm(equalized_theo.even)\\n    equalized_chrom.even.loc[~mask, \\\"intensity\\\"] *= norm_by\\n    equalized_chrom.even.loc[mask, \\\"intensity\\\"] = 0\\n    # Find open areas and filter\\n    chrom_top = equalized_chrom.even.intensity.quantile(0.9)\\n    chrom_top = equalized_chrom.even.query(\\\"intensity > @chrom_top\\\")\\n    #         dnase_even, dnase_at_1bp, _, _ = equalize_loci(dnase_group.copy(), theo_group.copy())\\n    #         nfr_even, nfr_at_1bp, _, _ = equalize_loci(nfr_group.copy(), theo_group.copy())\\n\\n    try:\\n        nfr_chrom, cur_nfr = chrom_top.bg.weighted_overlap(nfr_group)\\n        dnase_chrom, _ = chrom_top.bg.weighted_overlap(dnase_group)\\n        chrom_intersection.append(nfr_chrom.bg.index_to_columns())\\n        nfr_intersection.append(cur_nfr.bg.index_to_columns())\\n        dnase_chrom_intersection.append(dnase_chrom.bg.index_to_columns())\\n    except AssertionError:\\n        continue\\n\\nchrom_intersection = pd.concat(chrom_intersection, axis=0, ignore_index=True)\\nnfr_intersection = pd.concat(nfr_intersection, axis=0, ignore_index=True)\\ndnase_chrom_intersection = pd.concat(\\n    dnase_chrom_intersection, axis=0, ignore_index=True\\n)\";\n",
       "                var nbb_formatted_code = \"chrom_intersection, nfr_intersection, dnase_chrom_intersection = [], [], []\\nfor (\\n    chr_,\\n    chrom_group,\\n    theo_group,\\n    dnase_group,\\n    nfr_group,\\n) in iter_over_bedgraphs_chromosomes(chromatin, smoothed_theo, dnase, nfr_all_chrom):\\n    equalized_chrom, equalized_theo = equalize_loci(\\n        chrom_group.copy(), theo_group.copy()\\n    )\\n    # Normalze the chromatin data\\n    mask, norm_by = prepare_site_density_for_norm(equalized_theo.even)\\n    equalized_chrom.even.loc[~mask, \\\"intensity\\\"] *= norm_by\\n    equalized_chrom.even.loc[mask, \\\"intensity\\\"] = 0\\n    # Find open areas and filter\\n    chrom_top = equalized_chrom.even.intensity.quantile(0.9)\\n    chrom_top = equalized_chrom.even.query(\\\"intensity > @chrom_top\\\")\\n    #         dnase_even, dnase_at_1bp, _, _ = equalize_loci(dnase_group.copy(), theo_group.copy())\\n    #         nfr_even, nfr_at_1bp, _, _ = equalize_loci(nfr_group.copy(), theo_group.copy())\\n\\n    try:\\n        nfr_chrom, cur_nfr = chrom_top.bg.weighted_overlap(nfr_group)\\n        dnase_chrom, _ = chrom_top.bg.weighted_overlap(dnase_group)\\n        chrom_intersection.append(nfr_chrom.bg.index_to_columns())\\n        nfr_intersection.append(cur_nfr.bg.index_to_columns())\\n        dnase_chrom_intersection.append(dnase_chrom.bg.index_to_columns())\\n    except AssertionError:\\n        continue\\n\\nchrom_intersection = pd.concat(chrom_intersection, axis=0, ignore_index=True)\\nnfr_intersection = pd.concat(nfr_intersection, axis=0, ignore_index=True)\\ndnase_chrom_intersection = pd.concat(\\n    dnase_chrom_intersection, axis=0, ignore_index=True\\n)\";\n",
       "                var nbb_cells = Jupyter.notebook.get_cells();\n",
       "                for (var i = 0; i < nbb_cells.length; ++i) {\n",
       "                    if (nbb_cells[i].input_prompt_number == nbb_cell_id) {\n",
       "                        if (nbb_cells[i].get_text() == nbb_unformatted_code) {\n",
       "                             nbb_cells[i].set_text(nbb_formatted_code);\n",
       "                        }\n",
       "                        break;\n",
       "                    }\n",
       "                }\n",
       "            }, 500);\n",
       "            "
      ],
      "text/plain": [
       "<IPython.core.display.Javascript object>"
      ]
     },
     "metadata": {},
     "output_type": "display_data"
    }
   ],
   "source": [
    "chrom_intersection, nfr_intersection, dnase_chrom_intersection = [], [], []\n",
    "for (\n",
    "    chr_,\n",
    "    chrom_group,\n",
    "    theo_group,\n",
    "    dnase_group,\n",
    "    nfr_group,\n",
    ") in iter_over_bedgraphs_chromosomes(chromatin, smoothed_theo, dnase, nfr_all_chrom):\n",
    "    equalized_chrom, equalized_theo = equalize_loci(\n",
    "        chrom_group.copy(), theo_group.copy()\n",
    "    )\n",
    "    # Normalze the chromatin data\n",
    "    mask, norm_by = prepare_site_density_for_norm(equalized_theo.even)\n",
    "    equalized_chrom.even.loc[~mask, \"intensity\"] *= norm_by\n",
    "    equalized_chrom.even.loc[mask, \"intensity\"] = 0\n",
    "    # Find open areas and filter\n",
    "    chrom_top = equalized_chrom.even.intensity.quantile(0.9)\n",
    "    chrom_top = equalized_chrom.even.query(\"intensity > @chrom_top\")\n",
    "    #         dnase_even, dnase_at_1bp, _, _ = equalize_loci(dnase_group.copy(), theo_group.copy())\n",
    "    #         nfr_even, nfr_at_1bp, _, _ = equalize_loci(nfr_group.copy(), theo_group.copy())\n",
    "\n",
    "    try:\n",
    "        nfr_chrom, cur_nfr = chrom_top.bg.weighted_overlap(nfr_group)\n",
    "        dnase_chrom, _ = chrom_top.bg.weighted_overlap(dnase_group)\n",
    "        chrom_intersection.append(nfr_chrom.bg.index_to_columns())\n",
    "        nfr_intersection.append(cur_nfr.bg.index_to_columns())\n",
    "        dnase_chrom_intersection.append(dnase_chrom.bg.index_to_columns())\n",
    "    except AssertionError:\n",
    "        continue\n",
    "\n",
    "chrom_intersection = pd.concat(chrom_intersection, axis=0, ignore_index=True)\n",
    "nfr_intersection = pd.concat(nfr_intersection, axis=0, ignore_index=True)\n",
    "dnase_chrom_intersection = pd.concat(\n",
    "    dnase_chrom_intersection, axis=0, ignore_index=True\n",
    ")"
   ]
  },
  {
   "cell_type": "code",
   "execution_count": 19,
   "metadata": {},
   "outputs": [
    {
     "data": {
      "text/plain": [
       "Text(0.5, 1.0, 'DNase overlap')"
      ]
     },
     "execution_count": 19,
     "metadata": {},
     "output_type": "execute_result"
    },
    {
     "data": {
      "image/png": "[encoded data removed]",
      "text/plain": [
       "<Figure size 432x288 with 1 Axes>"
      ]
     },
     "metadata": {
      "needs_background": "light"
     },
     "output_type": "display_data"
    },
    {
     "data": {
      "image/png": "[encoded data removed]",
      "text/plain": [
       "<Figure size 432x288 with 1 Axes>"
      ]
     },
     "metadata": {
      "needs_background": "light"
     },
     "output_type": "display_data"
    },
    {
     "data": {
      "application/javascript": [
       "\n",
       "            setTimeout(function() {\n",
       "                var nbb_cell_id = 19;\n",
       "                var nbb_unformatted_code = \"nfr_per_chr = {}\\ndnase_nfr = {}\\nfor chr_, chrom_group, nfr_group, dnase_group in iter_over_bedgraphs_chromosomes(\\n    chromatin, nfr_all_chrom, dnase\\n):\\n    nfr_int_grouped = nfr_intersection.query(\\\"chr == @chr_\\\")\\n    nfr_per_chr[chr_] = len(nfr_int_grouped) / len(nfr_group)\\n    dnase_chrom_int_grouped = dnase_chrom_intersection.query(\\\"chr == @chr_\\\")\\n    dnase_nfr[chr_] = len(dnase_chrom_int_grouped) / len(dnase_group)\\nnfr_per_chr_df = pd.DataFrame.from_dict(\\n    nfr_per_chr, orient=\\\"index\\\", columns=[\\\"Overlap fraction\\\"]\\n)\\nax = nfr_per_chr_df.plot.bar()\\nax.set_ylabel(\\\"Overlap fraction (ATAC vs. Chromatin)\\\")\\nax.set_title(\\\"ATAC Overlap\\\")\\n\\ndnase_chrom_df = pd.DataFrame.from_dict(\\n    dnase_nfr, orient=\\\"index\\\", columns=[\\\"Overlap fraction\\\"]\\n)\\naxx = dnase_chrom_df.plot.bar()\\naxx.set_ylabel(\\\"Overlap fraction (DNase vs Chromatin)\\\")\\naxx.set_title(\\\"DNase overlap\\\")\";\n",
       "                var nbb_formatted_code = \"nfr_per_chr = {}\\ndnase_nfr = {}\\nfor chr_, chrom_group, nfr_group, dnase_group in iter_over_bedgraphs_chromosomes(\\n    chromatin, nfr_all_chrom, dnase\\n):\\n    nfr_int_grouped = nfr_intersection.query(\\\"chr == @chr_\\\")\\n    nfr_per_chr[chr_] = len(nfr_int_grouped) / len(nfr_group)\\n    dnase_chrom_int_grouped = dnase_chrom_intersection.query(\\\"chr == @chr_\\\")\\n    dnase_nfr[chr_] = len(dnase_chrom_int_grouped) / len(dnase_group)\\nnfr_per_chr_df = pd.DataFrame.from_dict(\\n    nfr_per_chr, orient=\\\"index\\\", columns=[\\\"Overlap fraction\\\"]\\n)\\nax = nfr_per_chr_df.plot.bar()\\nax.set_ylabel(\\\"Overlap fraction (ATAC vs. Chromatin)\\\")\\nax.set_title(\\\"ATAC Overlap\\\")\\n\\ndnase_chrom_df = pd.DataFrame.from_dict(\\n    dnase_nfr, orient=\\\"index\\\", columns=[\\\"Overlap fraction\\\"]\\n)\\naxx = dnase_chrom_df.plot.bar()\\naxx.set_ylabel(\\\"Overlap fraction (DNase vs Chromatin)\\\")\\naxx.set_title(\\\"DNase overlap\\\")\";\n",
       "                var nbb_cells = Jupyter.notebook.get_cells();\n",
       "                for (var i = 0; i < nbb_cells.length; ++i) {\n",
       "                    if (nbb_cells[i].input_prompt_number == nbb_cell_id) {\n",
       "                        if (nbb_cells[i].get_text() == nbb_unformatted_code) {\n",
       "                             nbb_cells[i].set_text(nbb_formatted_code);\n",
       "                        }\n",
       "                        break;\n",
       "                    }\n",
       "                }\n",
       "            }, 500);\n",
       "            "
      ],
      "text/plain": [
       "<IPython.core.display.Javascript object>"
      ]
     },
     "metadata": {},
     "output_type": "display_data"
    }
   ],
   "source": [
    "nfr_per_chr = {}\n",
    "dnase_nfr = {}\n",
    "for chr_, chrom_group, nfr_group, dnase_group in iter_over_bedgraphs_chromosomes(\n",
    "    chromatin, nfr_all_chrom, dnase\n",
    "):\n",
    "    nfr_int_grouped = nfr_intersection.query(\"chr == @chr_\")\n",
    "    nfr_per_chr[chr_] = len(nfr_int_grouped) / len(nfr_group)\n",
    "    dnase_chrom_int_grouped = dnase_chrom_intersection.query(\"chr == @chr_\")\n",
    "    dnase_nfr[chr_] = len(dnase_chrom_int_grouped) / len(dnase_group)\n",
    "nfr_per_chr_df = pd.DataFrame.from_dict(\n",
    "    nfr_per_chr, orient=\"index\", columns=[\"Overlap fraction\"]\n",
    ")\n",
    "ax = nfr_per_chr_df.plot.bar()\n",
    "ax.set_ylabel(\"Overlap fraction (ATAC vs. Chromatin)\")\n",
    "ax.set_title(\"ATAC Overlap\")\n",
    "\n",
    "dnase_chrom_df = pd.DataFrame.from_dict(\n",
    "    dnase_nfr, orient=\"index\", columns=[\"Overlap fraction\"]\n",
    ")\n",
    "axx = dnase_chrom_df.plot.bar()\n",
    "axx.set_ylabel(\"Overlap fraction (DNase vs Chromatin)\")\n",
    "axx.set_title(\"DNase overlap\")"
   ]
  },
  {
   "cell_type": "code",
   "execution_count": 20,
   "metadata": {},
   "outputs": [
    {
     "data": {
      "text/plain": [
       "<AxesSubplot:>"
      ]
     },
     "execution_count": 20,
     "metadata": {},
     "output_type": "execute_result"
    },
    {
     "data": {
      "image/png": "[encoded data removed]",
      "text/plain": [
       "<Figure size 432x288 with 1 Axes>"
      ]
     },
     "metadata": {
      "needs_background": "light"
     },
     "output_type": "display_data"
    },
    {
     "data": {
      "application/javascript": [
       "\n",
       "            setTimeout(function() {\n",
       "                var nbb_cell_id = 20;\n",
       "                var nbb_unformatted_code = \"chromatin.groupby(\\\"chr\\\").get_group(\\\"chr10\\\").intensity.hist(bins=100)\";\n",
       "                var nbb_formatted_code = \"chromatin.groupby(\\\"chr\\\").get_group(\\\"chr10\\\").intensity.hist(bins=100)\";\n",
       "                var nbb_cells = Jupyter.notebook.get_cells();\n",
       "                for (var i = 0; i < nbb_cells.length; ++i) {\n",
       "                    if (nbb_cells[i].input_prompt_number == nbb_cell_id) {\n",
       "                        if (nbb_cells[i].get_text() == nbb_unformatted_code) {\n",
       "                             nbb_cells[i].set_text(nbb_formatted_code);\n",
       "                        }\n",
       "                        break;\n",
       "                    }\n",
       "                }\n",
       "            }, 500);\n",
       "            "
      ],
      "text/plain": [
       "<IPython.core.display.Javascript object>"
      ]
     },
     "metadata": {},
     "output_type": "display_data"
    }
   ],
   "source": [
    "chromatin.groupby(\"chr\").get_group(\"chr10\").intensity.hist(bins=100)"
   ]
  },
  {
   "cell_type": "code",
   "execution_count": 21,
   "metadata": {},
   "outputs": [
    {
     "data": {
      "text/plain": [
       "<AxesSubplot:>"
      ]
     },
     "execution_count": 21,
     "metadata": {},
     "output_type": "execute_result"
    },
    {
     "data": {
      "image/png": "[encoded data removed]",
      "text/plain": [
       "<Figure size 432x288 with 1 Axes>"
      ]
     },
     "metadata": {
      "needs_background": "light"
     },
     "output_type": "display_data"
    },
    {
     "data": {
      "application/javascript": [
       "\n",
       "            setTimeout(function() {\n",
       "                var nbb_cell_id = 21;\n",
       "                var nbb_unformatted_code = \"chromatin.groupby('chr').get_group('chr8').intensity.hist(bins=100)\";\n",
       "                var nbb_formatted_code = \"chromatin.groupby(\\\"chr\\\").get_group(\\\"chr8\\\").intensity.hist(bins=100)\";\n",
       "                var nbb_cells = Jupyter.notebook.get_cells();\n",
       "                for (var i = 0; i < nbb_cells.length; ++i) {\n",
       "                    if (nbb_cells[i].input_prompt_number == nbb_cell_id) {\n",
       "                        if (nbb_cells[i].get_text() == nbb_unformatted_code) {\n",
       "                             nbb_cells[i].set_text(nbb_formatted_code);\n",
       "                        }\n",
       "                        break;\n",
       "                    }\n",
       "                }\n",
       "            }, 500);\n",
       "            "
      ],
      "text/plain": [
       "<IPython.core.display.Javascript object>"
      ]
     },
     "metadata": {},
     "output_type": "display_data"
    }
   ],
   "source": [
    "chromatin.groupby(\"chr\").get_group(\"chr8\").intensity.hist(bins=100)"
   ]
  },
  {
   "cell_type": "code",
   "execution_count": null,
   "metadata": {},
   "outputs": [],
   "source": []
  }
 ],
 "metadata": {
  "kernelspec": {
   "display_name": "Python 3",
   "language": "python",
   "name": "python3"
  },
  "language_info": {
   "codemirror_mode": {
    "name": "ipython",
    "version": 3
   },
   "file_extension": ".py",
   "mimetype": "text/x-python",
   "name": "python",
   "nbconvert_exporter": "python",
   "pygments_lexer": "ipython3",
   "version": "3.8.5"
  },
  "varInspector": {
   "cols": {
    "lenName": 16,
    "lenType": 16,
    "lenVar": 40
   },
   "kernels_config": {
    "python": {
     "delete_cmd_postfix": "",
     "delete_cmd_prefix": "del ",
     "library": "var_list.py",
     "varRefreshCmd": "print(var_dic_list())"
    },
    "r": {
     "delete_cmd_postfix": ") ",
     "delete_cmd_prefix": "rm(",
     "library": "var_list.r",
     "varRefreshCmd": "cat(var_dic_list()) "
    }
   },
   "types_to_exclude": [
    "module",
    "function",
    "builtin_function_or_method",
    "instance",
    "_Feature"
   ],
   "window_display": false
  }
 },
 "nbformat": 4,
 "nbformat_minor": 4
}
