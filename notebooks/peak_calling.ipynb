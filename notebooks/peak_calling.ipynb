{
 "cells": [
  {
   "cell_type": "markdown",
   "metadata": {},
   "source": [
    "# Peak Calling Experimentation"
   ]
  },
  {
   "cell_type": "markdown",
   "metadata": {},
   "source": [
    "This notebook contains the recipes and processes used during the work on peak calling and peak detection."
   ]
  },
  {
   "cell_type": "markdown",
   "metadata": {},
   "source": [
    "## Data Origins"
   ]
  },
  {
   "cell_type": "markdown",
   "metadata": {},
   "source": [
    "The ATAC data before peak calling was taken from here: https://www.encodeproject.org/files/ENCFF240YRV/\n",
    "\n",
    "The ATAC data after peak calling, used as a reference point, is from here: https://www.encodeproject.org/files/ENCFF220HIK/ (bigBED) or here: https://www.encodeproject.org/files/ENCFF168UYI/ (bed)"
   ]
  },
  {
   "cell_type": "markdown",
   "metadata": {},
   "source": [
    "## Overview"
   ]
  },
  {
   "cell_type": "markdown",
   "metadata": {},
   "source": [
    "The intent is to run both the MACS2 pipeline and thr HMMRATAC pipeline on the ATAC data and re-create the results as they appear in ENCODE. Once we have that we'll use standard peak detection algorithms to get approximately the same peaks from the ATAC data, and then use the same method to find the peaks in the Eco data.\n",
    "\n",
    "To run the MACS2 pipeline I've used the project's [README](https://github.com/macs3-project/MACS) and likewise for the [HMMRATAC](https://github.com/LiuLabUB/HMMRATAC) workflow.\n",
    "\n",
    "The shell-based pipelines are run from the `/mnt/saphyr/Saphyr_Data/DAM_DLE_VHL_DLE/Hagai` folder."
   ]
  },
  {
   "cell_type": "markdown",
   "metadata": {},
   "source": [
    "## ATAC Data Validation"
   ]
  },
  {
   "cell_type": "markdown",
   "metadata": {},
   "source": [
    "The first step is to validate our pipelines, i.e. achieve similar results to data that can be found in ENCODE by running our own scripts. Below we do just that:"
   ]
  },
  {
   "cell_type": "markdown",
   "metadata": {},
   "source": [
    "### MACS 2 Pipeline"
   ]
  },
  {
   "cell_type": "markdown",
   "metadata": {},
   "source": [
    "`macs2 callpeak -t ENCFF240YRV.bam --name test_after_peakcalling --outdir ./macs2_output`"
   ]
  },
  {
   "cell_type": "markdown",
   "metadata": {},
   "source": [
    "The results, as seen in IGV (lowest trace), indicate that it works, more or less. The results are quite similar to the data as exists in the reference without any changes to the parameters."
   ]
  },
  {
   "cell_type": "markdown",
   "metadata": {},
   "source": [
    "![MACS2 results](figures/macs2_peak_results_igv.png)"
   ]
  },
  {
   "cell_type": "markdown",
   "metadata": {},
   "source": [
    "### HMMRATAC Pipeline"
   ]
  },
  {
   "cell_type": "markdown",
   "metadata": {},
   "source": [
    "`/opt/samtools/bin/samtools sort ENCFF240YRV.bam -o hmm_output/ENCFF240YRV.sorted.bam`"
   ]
  },
  {
   "cell_type": "markdown",
   "metadata": {},
   "source": [
    "`/opt/samtools/bin/samtools index hmm_output/ENCFF240YRV.sorted.bam hmm_output/ENCFF240YRV.sorted.bam.bai`"
   ]
  },
  {
   "cell_type": "markdown",
   "metadata": {},
   "source": [
    "`/opt/samtools/bin/samtools view -H hmm_output/ENCFF240YRV.sorted.bam | perl -ne 'if(/^@SQ.*?SN:(\\w+)\\s+LN:(\\d+)/){print $1,\"\\t\",$2,\"\\n\"}' > hmm_output/genome.info`\n"
   ]
  },
  {
   "cell_type": "markdown",
   "metadata": {},
   "source": [
    "`java -jar hmm_output/HMMRATAC_V1.2.10_exe.jar -b hmm_output/ENCFF240YRV.sorted.bam -i hmm_output/ENCFF240YRV.sorted.bam.bai -g hmm_output/genome.info`"
   ]
  },
  {
   "cell_type": "markdown",
   "metadata": {},
   "source": [
    "This pipeline, without any filteration step on the results, also showed the peaks quite nicely:\n",
    "\n",
    "![HMMRATAC peaks](figures/hmmratac_peak_results_igv.png)"
   ]
  },
  {
   "cell_type": "markdown",
   "metadata": {},
   "source": [
    "### Conclusion\n",
    "\n",
    "As seen in the output images, both pipelines resulted in satisfactory outputs. We'll now move to using standard peak detection and see if we can get the same results."
   ]
  },
  {
   "cell_type": "markdown",
   "metadata": {},
   "source": [
    "## ATAC Data Peak Finding"
   ]
  },
  {
   "cell_type": "markdown",
   "metadata": {},
   "source": [
    "We'll try to achieve similar results using peak finding on the ATAC data. First we'll generate a few constants and do some preprocessing to get the data ready for peak detection."
   ]
  },
  {
   "cell_type": "code",
   "execution_count": 21,
   "metadata": {},
   "outputs": [
    {
     "output_type": "display_data",
     "data": {
      "text/plain": "<IPython.core.display.Javascript object>",
      "application/javascript": "\n            setTimeout(function() {\n                var nbb_cell_id = 21;\n                var nbb_unformatted_code = \"%load_ext nb_black\\n\\nimport pathlib\\nimport numpy as np\\nimport pandas as pd\\nimport matplotlib.pyplot as plt\\nimport scipy.signal\\nimport scipy.spatial\\n\\nfrom ecodam_py.bedgraph import BedGraph\\nfrom ecodam_py.peak_calling import (\\n    preprocess_data,\\n    define_peak_surroundings,\\n    color_peak_surroundings,\\n)\\nfrom ecodam_py.eco_atac_normalization import write_intindex_to_disk\";\n                var nbb_formatted_code = \"%load_ext nb_black\\n\\nimport pathlib\\nimport numpy as np\\nimport pandas as pd\\nimport matplotlib.pyplot as plt\\nimport scipy.signal\\nimport scipy.spatial\\n\\nfrom ecodam_py.bedgraph import BedGraph\\nfrom ecodam_py.peak_calling import (\\n    preprocess_data,\\n    define_peak_surroundings,\\n    color_peak_surroundings,\\n)\\nfrom ecodam_py.eco_atac_normalization import write_intindex_to_disk\";\n                var nbb_cells = Jupyter.notebook.get_cells();\n                for (var i = 0; i < nbb_cells.length; ++i) {\n                    if (nbb_cells[i].input_prompt_number == nbb_cell_id) {\n                        if (nbb_cells[i].get_text() == nbb_unformatted_code) {\n                             nbb_cells[i].set_text(nbb_formatted_code);\n                        }\n                        break;\n                    }\n                }\n            }, 500);\n            "
     },
     "metadata": {}
    }
   ],
   "source": [
    "%load_ext nb_black\n",
    "\n",
    "import pathlib\n",
    "import numpy as np\n",
    "import pandas as pd\n",
    "import matplotlib.pyplot as plt\n",
    "import scipy.signal\n",
    "import scipy.spatial\n",
    "\n",
    "from ecodam_py.bedgraph import BedGraph\n",
    "from ecodam_py.peak_calling import (\n",
    "    preprocess_data,\n",
    "    define_peak_surroundings,\n",
    "    color_peak_surroundings,\n",
    ")\n",
    "from ecodam_py.eco_atac_normalization import write_intindex_to_disk"
   ]
  },
  {
   "cell_type": "code",
   "execution_count": 2,
   "metadata": {},
   "outputs": [
    {
     "data": {
      "application/javascript": [
       "\n",
       "            setTimeout(function() {\n",
       "                var nbb_cell_id = 2;\n",
       "                var nbb_unformatted_code = \"atac_fname = pathlib.Path(\\n    \\\"/mnt/saphyr/Saphyr_Data/DAM_DLE_VHL_DLE/Hagai/original_data_after_normalization/ATAC_rep1to3_Fold_change_over_control.chr15_after_normalization.bedgraph\\\"\\n)\\neco_fname = pathlib.Path(\\n    \\\"/mnt/saphyr/Saphyr_Data/DAM_DLE_VHL_DLE/Hagai/original_data_after_normalization/chromatin_chr15.filter17_60_75.NoBlacklist.NoMask_after_normalization.bedgraph\\\"\\n)\";\n",
       "                var nbb_formatted_code = \"atac_fname = pathlib.Path(\\n    \\\"/mnt/saphyr/Saphyr_Data/DAM_DLE_VHL_DLE/Hagai/original_data_after_normalization/ATAC_rep1to3_Fold_change_over_control.chr15_after_normalization.bedgraph\\\"\\n)\\neco_fname = pathlib.Path(\\n    \\\"/mnt/saphyr/Saphyr_Data/DAM_DLE_VHL_DLE/Hagai/original_data_after_normalization/chromatin_chr15.filter17_60_75.NoBlacklist.NoMask_after_normalization.bedgraph\\\"\\n)\";\n",
       "                var nbb_cells = Jupyter.notebook.get_cells();\n",
       "                for (var i = 0; i < nbb_cells.length; ++i) {\n",
       "                    if (nbb_cells[i].input_prompt_number == nbb_cell_id) {\n",
       "                        if (nbb_cells[i].get_text() == nbb_unformatted_code) {\n",
       "                             nbb_cells[i].set_text(nbb_formatted_code);\n",
       "                        }\n",
       "                        break;\n",
       "                    }\n",
       "                }\n",
       "            }, 500);\n",
       "            "
      ],
      "text/plain": [
       "<IPython.core.display.Javascript object>"
      ]
     },
     "metadata": {},
     "output_type": "display_data"
    }
   ],
   "source": [
    "atac_fname = pathlib.Path(\n",
    "    \"/mnt/saphyr/Saphyr_Data/DAM_DLE_VHL_DLE/Hagai/original_data_after_normalization/ATAC_rep1to3_Fold_change_over_control.chr15_after_normalization.bedgraph\"\n",
    ")\n",
    "eco_fname = pathlib.Path(\n",
    "    \"/mnt/saphyr/Saphyr_Data/DAM_DLE_VHL_DLE/Hagai/original_data_after_normalization/chromatin_chr15.filter17_60_75.NoBlacklist.NoMask_after_normalization.bedgraph\"\n",
    ")"
   ]
  },
  {
   "cell_type": "code",
   "execution_count": 4,
   "metadata": {},
   "outputs": [
    {
     "data": {
      "application/javascript": [
       "\n",
       "            setTimeout(function() {\n",
       "                var nbb_cell_id = 4;\n",
       "                var nbb_unformatted_code = \"atac = preprocess_data(atac_fname)\\natac_peak_indices, _ = scipy.signal.find_peaks(atac.data.intensity, prominence=0.95)\\natac_peaks = atac.data.copy().iloc[atac_peak_indices]\\nwrite_intindex_to_disk(\\n    atac_peaks,\\n    atac_fname.parent.with_name(\\n        \\\"ATAC_rep1to3_Fold_change_over_control.chr15_after_normalization_peaks.bedgraph\\\"\\n    ),\\n)\";\n",
       "                var nbb_formatted_code = \"atac = preprocess_data(atac_fname)\\natac_peak_indices, _ = scipy.signal.find_peaks(atac.data.intensity, prominence=0.95)\\natac_peaks = atac.data.copy().iloc[atac_peak_indices]\\nwrite_intindex_to_disk(\\n    atac_peaks,\\n    atac_fname.parent.with_name(\\n        \\\"ATAC_rep1to3_Fold_change_over_control.chr15_after_normalization_peaks.bedgraph\\\"\\n    ),\\n)\";\n",
       "                var nbb_cells = Jupyter.notebook.get_cells();\n",
       "                for (var i = 0; i < nbb_cells.length; ++i) {\n",
       "                    if (nbb_cells[i].input_prompt_number == nbb_cell_id) {\n",
       "                        if (nbb_cells[i].get_text() == nbb_unformatted_code) {\n",
       "                             nbb_cells[i].set_text(nbb_formatted_code);\n",
       "                        }\n",
       "                        break;\n",
       "                    }\n",
       "                }\n",
       "            }, 500);\n",
       "            "
      ],
      "text/plain": [
       "<IPython.core.display.Javascript object>"
      ]
     },
     "metadata": {},
     "output_type": "display_data"
    }
   ],
   "source": [
    "atac = preprocess_data(atac_fname)\n",
    "atac_peak_indices, _ = scipy.signal.find_peaks(atac.data.intensity, prominence=0.95)\n",
    "atac_peaks = atac.data.copy().iloc[atac_peak_indices]\n",
    "write_intindex_to_disk(\n",
    "    atac_peaks,\n",
    "    atac_fname.parent.with_name(\n",
    "        \"ATAC_rep1to3_Fold_change_over_control.chr15_after_normalization_peaks.bedgraph\"\n",
    "    ),\n",
    ")"
   ]
  },
  {
   "cell_type": "markdown",
   "metadata": {},
   "source": [
    "The results are quite promising and seem to be on par with the peak calling data, especially since we have it as a reference."
   ]
  },
  {
   "cell_type": "markdown",
   "metadata": {},
   "source": [
    "## Eco Data Peak Finding"
   ]
  },
  {
   "cell_type": "markdown",
   "metadata": {},
   "source": [
    "We'll use the Eco data after normalization for this purpose. Unfortunately, we can't use the same peak calling algorithms because the Eco data is recorded using a completely different protocol, one which doesn't generate BAM files which are the basis for any peak calling algorithm. \n",
    "\n",
    "Due to this limitation we resort to standard peak detection techniques and compare their outputs."
   ]
  },
  {
   "cell_type": "code",
   "execution_count": 5,
   "metadata": {},
   "outputs": [
    {
     "data": {
      "application/javascript": [
       "\n",
       "            setTimeout(function() {\n",
       "                var nbb_cell_id = 5;\n",
       "                var nbb_unformatted_code = \"eco = preprocess_data(eco_fname)\\neco_peak_indices, _ = scipy.signal.find_peaks(eco.data.intensity, prominence=2)\\neco_peaks = eco.data.copy().iloc[eco_peak_indices]\\nwrite_intindex_to_disk(\\n    eco_peaks,\\n    eco_fname.parent.with_name(\\n        \\\"chromatin_chr15.filter17_60_75.NoBlacklist.NoMask_after_normalization_peaks.bedgraph\\\",\\n    ),\\n)\";\n",
       "                var nbb_formatted_code = \"eco = preprocess_data(eco_fname)\\neco_peak_indices, _ = scipy.signal.find_peaks(eco.data.intensity, prominence=2)\\neco_peaks = eco.data.copy().iloc[eco_peak_indices]\\nwrite_intindex_to_disk(\\n    eco_peaks,\\n    eco_fname.parent.with_name(\\n        \\\"chromatin_chr15.filter17_60_75.NoBlacklist.NoMask_after_normalization_peaks.bedgraph\\\",\\n    ),\\n)\";\n",
       "                var nbb_cells = Jupyter.notebook.get_cells();\n",
       "                for (var i = 0; i < nbb_cells.length; ++i) {\n",
       "                    if (nbb_cells[i].input_prompt_number == nbb_cell_id) {\n",
       "                        if (nbb_cells[i].get_text() == nbb_unformatted_code) {\n",
       "                             nbb_cells[i].set_text(nbb_formatted_code);\n",
       "                        }\n",
       "                        break;\n",
       "                    }\n",
       "                }\n",
       "            }, 500);\n",
       "            "
      ],
      "text/plain": [
       "<IPython.core.display.Javascript object>"
      ]
     },
     "metadata": {},
     "output_type": "display_data"
    }
   ],
   "source": [
    "eco = preprocess_data(eco_fname)\n",
    "eco_peak_indices, _ = scipy.signal.find_peaks(eco.data.intensity, prominence=2)\n",
    "eco_peaks = eco.data.copy().iloc[eco_peak_indices]\n",
    "write_intindex_to_disk(\n",
    "    eco_peaks,\n",
    "    eco_fname.parent.with_name(\n",
    "        \"chromatin_chr15.filter17_60_75.NoBlacklist.NoMask_after_normalization_peaks.bedgraph\",\n",
    "    ),\n",
    ")"
   ]
  },
  {
   "cell_type": "markdown",
   "metadata": {},
   "source": [
    "The peaks look fine-ish.\n",
    "\n",
    "![Chromatin peaks](figures/chromatin_peak_finding.png)"
   ]
  },
  {
   "cell_type": "markdown",
   "metadata": {},
   "source": [
    "## Analysis and comparison\n",
    "\n",
    "To better see the correlation between the Eco and ATAC peaks we'll use color to discern genomic areas which contain peaks from the ATAC data, Eco data, and both.\n",
    "\n",
    "The overlap is sometimes pretty much on point, but sometimes they completely miss each other."
   ]
  },
  {
   "cell_type": "code",
   "execution_count": 6,
   "metadata": {},
   "outputs": [
    {
     "data": {
      "application/javascript": [
       "\n",
       "            setTimeout(function() {\n",
       "                var nbb_cell_id = 6;\n",
       "                var nbb_unformatted_code = \"atac_split, atac_indices, eco_split, eco_indices = define_peak_surroundings(\\n    atac.data, atac_peak_indices, eco.data, eco_peak_indices\\n)\";\n",
       "                var nbb_formatted_code = \"atac_split, atac_indices, eco_split, eco_indices = define_peak_surroundings(\\n    atac.data, atac_peak_indices, eco.data, eco_peak_indices\\n)\";\n",
       "                var nbb_cells = Jupyter.notebook.get_cells();\n",
       "                for (var i = 0; i < nbb_cells.length; ++i) {\n",
       "                    if (nbb_cells[i].input_prompt_number == nbb_cell_id) {\n",
       "                        if (nbb_cells[i].get_text() == nbb_unformatted_code) {\n",
       "                             nbb_cells[i].set_text(nbb_formatted_code);\n",
       "                        }\n",
       "                        break;\n",
       "                    }\n",
       "                }\n",
       "            }, 500);\n",
       "            "
      ],
      "text/plain": [
       "<IPython.core.display.Javascript object>"
      ]
     },
     "metadata": {},
     "output_type": "display_data"
    }
   ],
   "source": [
    "atac_split, atac_indices, eco_split, eco_indices = define_peak_surroundings(\n",
    "    atac.data, atac_peak_indices, eco.data, eco_peak_indices\n",
    ")"
   ]
  },
  {
   "cell_type": "code",
   "execution_count": 18,
   "metadata": {},
   "outputs": [
    {
     "data": {
      "application/javascript": [
       "/* Put everything inside the global mpl namespace */\n",
       "/* global mpl */\n",
       "window.mpl = {};\n",
       "\n",
       "mpl.get_websocket_type = function () {\n",
       "    if (typeof WebSocket !== 'undefined') {\n",
       "        return WebSocket;\n",
       "    } else if (typeof MozWebSocket !== 'undefined') {\n",
       "        return MozWebSocket;\n",
       "    } else {\n",
       "        alert(\n",
       "            'Your browser does not have WebSocket support. ' +\n",
       "                'Please try Chrome, Safari or Firefox ≥ 6. ' +\n",
       "                'Firefox 4 and 5 are also supported but you ' +\n",
       "                'have to enable WebSockets in about:config.'\n",
       "        );\n",
       "    }\n",
       "};\n",
       "\n",
       "mpl.figure = function (figure_id, websocket, ondownload, parent_element) {\n",
       "    this.id = figure_id;\n",
       "\n",
       "    this.ws = websocket;\n",
       "\n",
       "    this.supports_binary = this.ws.binaryType !== undefined;\n",
       "\n",
       "    if (!this.supports_binary) {\n",
       "        var warnings = document.getElementById('mpl-warnings');\n",
       "        if (warnings) {\n",
       "            warnings.style.display = 'block';\n",
       "            warnings.textContent =\n",
       "                'This browser does not support binary websocket messages. ' +\n",
       "                'Performance may be slow.';\n",
       "        }\n",
       "    }\n",
       "\n",
       "    this.imageObj = new Image();\n",
       "\n",
       "    this.context = undefined;\n",
       "    this.message = undefined;\n",
       "    this.canvas = undefined;\n",
       "    this.rubberband_canvas = undefined;\n",
       "    this.rubberband_context = undefined;\n",
       "    this.format_dropdown = undefined;\n",
       "\n",
       "    this.image_mode = 'full';\n",
       "\n",
       "    this.root = document.createElement('div');\n",
       "    this.root.setAttribute('style', 'display: inline-block');\n",
       "    this._root_extra_style(this.root);\n",
       "\n",
       "    parent_element.appendChild(this.root);\n",
       "\n",
       "    this._init_header(this);\n",
       "    this._init_canvas(this);\n",
       "    this._init_toolbar(this);\n",
       "\n",
       "    var fig = this;\n",
       "\n",
       "    this.waiting = false;\n",
       "\n",
       "    this.ws.onopen = function () {\n",
       "        fig.send_message('supports_binary', { value: fig.supports_binary });\n",
       "        fig.send_message('send_image_mode', {});\n",
       "        if (fig.ratio !== 1) {\n",
       "            fig.send_message('set_dpi_ratio', { dpi_ratio: fig.ratio });\n",
       "        }\n",
       "        fig.send_message('refresh', {});\n",
       "    };\n",
       "\n",
       "    this.imageObj.onload = function () {\n",
       "        if (fig.image_mode === 'full') {\n",
       "            // Full images could contain transparency (where diff images\n",
       "            // almost always do), so we need to clear the canvas so that\n",
       "            // there is no ghosting.\n",
       "            fig.context.clearRect(0, 0, fig.canvas.width, fig.canvas.height);\n",
       "        }\n",
       "        fig.context.drawImage(fig.imageObj, 0, 0);\n",
       "    };\n",
       "\n",
       "    this.imageObj.onunload = function () {\n",
       "        fig.ws.close();\n",
       "    };\n",
       "\n",
       "    this.ws.onmessage = this._make_on_message_function(this);\n",
       "\n",
       "    this.ondownload = ondownload;\n",
       "};\n",
       "\n",
       "mpl.figure.prototype._init_header = function () {\n",
       "    var titlebar = document.createElement('div');\n",
       "    titlebar.classList =\n",
       "        'ui-dialog-titlebar ui-widget-header ui-corner-all ui-helper-clearfix';\n",
       "    var titletext = document.createElement('div');\n",
       "    titletext.classList = 'ui-dialog-title';\n",
       "    titletext.setAttribute(\n",
       "        'style',\n",
       "        'width: 100%; text-align: center; padding: 3px;'\n",
       "    );\n",
       "    titlebar.appendChild(titletext);\n",
       "    this.root.appendChild(titlebar);\n",
       "    this.header = titletext;\n",
       "};\n",
       "\n",
       "mpl.figure.prototype._canvas_extra_style = function (_canvas_div) {};\n",
       "\n",
       "mpl.figure.prototype._root_extra_style = function (_canvas_div) {};\n",
       "\n",
       "mpl.figure.prototype._init_canvas = function () {\n",
       "    var fig = this;\n",
       "\n",
       "    var canvas_div = (this.canvas_div = document.createElement('div'));\n",
       "    canvas_div.setAttribute(\n",
       "        'style',\n",
       "        'border: 1px solid #ddd;' +\n",
       "            'box-sizing: content-box;' +\n",
       "            'clear: both;' +\n",
       "            'min-height: 1px;' +\n",
       "            'min-width: 1px;' +\n",
       "            'outline: 0;' +\n",
       "            'overflow: hidden;' +\n",
       "            'position: relative;' +\n",
       "            'resize: both;'\n",
       "    );\n",
       "\n",
       "    function on_keyboard_event_closure(name) {\n",
       "        return function (event) {\n",
       "            return fig.key_event(event, name);\n",
       "        };\n",
       "    }\n",
       "\n",
       "    canvas_div.addEventListener(\n",
       "        'keydown',\n",
       "        on_keyboard_event_closure('key_press')\n",
       "    );\n",
       "    canvas_div.addEventListener(\n",
       "        'keyup',\n",
       "        on_keyboard_event_closure('key_release')\n",
       "    );\n",
       "\n",
       "    this._canvas_extra_style(canvas_div);\n",
       "    this.root.appendChild(canvas_div);\n",
       "\n",
       "    var canvas = (this.canvas = document.createElement('canvas'));\n",
       "    canvas.classList.add('mpl-canvas');\n",
       "    canvas.setAttribute('style', 'box-sizing: content-box;');\n",
       "\n",
       "    this.context = canvas.getContext('2d');\n",
       "\n",
       "    var backingStore =\n",
       "        this.context.backingStorePixelRatio ||\n",
       "        this.context.webkitBackingStorePixelRatio ||\n",
       "        this.context.mozBackingStorePixelRatio ||\n",
       "        this.context.msBackingStorePixelRatio ||\n",
       "        this.context.oBackingStorePixelRatio ||\n",
       "        this.context.backingStorePixelRatio ||\n",
       "        1;\n",
       "\n",
       "    this.ratio = (window.devicePixelRatio || 1) / backingStore;\n",
       "    if (this.ratio !== 1) {\n",
       "        fig.send_message('set_dpi_ratio', { dpi_ratio: this.ratio });\n",
       "    }\n",
       "\n",
       "    var rubberband_canvas = (this.rubberband_canvas = document.createElement(\n",
       "        'canvas'\n",
       "    ));\n",
       "    rubberband_canvas.setAttribute(\n",
       "        'style',\n",
       "        'box-sizing: content-box; position: absolute; left: 0; top: 0; z-index: 1;'\n",
       "    );\n",
       "\n",
       "    var resizeObserver = new ResizeObserver(function (entries) {\n",
       "        var nentries = entries.length;\n",
       "        for (var i = 0; i < nentries; i++) {\n",
       "            var entry = entries[i];\n",
       "            var width, height;\n",
       "            if (entry.contentBoxSize) {\n",
       "                if (entry.contentBoxSize instanceof Array) {\n",
       "                    // Chrome 84 implements new version of spec.\n",
       "                    width = entry.contentBoxSize[0].inlineSize;\n",
       "                    height = entry.contentBoxSize[0].blockSize;\n",
       "                } else {\n",
       "                    // Firefox implements old version of spec.\n",
       "                    width = entry.contentBoxSize.inlineSize;\n",
       "                    height = entry.contentBoxSize.blockSize;\n",
       "                }\n",
       "            } else {\n",
       "                // Chrome <84 implements even older version of spec.\n",
       "                width = entry.contentRect.width;\n",
       "                height = entry.contentRect.height;\n",
       "            }\n",
       "\n",
       "            // Keep the size of the canvas and rubber band canvas in sync with\n",
       "            // the canvas container.\n",
       "            if (entry.devicePixelContentBoxSize) {\n",
       "                // Chrome 84 implements new version of spec.\n",
       "                canvas.setAttribute(\n",
       "                    'width',\n",
       "                    entry.devicePixelContentBoxSize[0].inlineSize\n",
       "                );\n",
       "                canvas.setAttribute(\n",
       "                    'height',\n",
       "                    entry.devicePixelContentBoxSize[0].blockSize\n",
       "                );\n",
       "            } else {\n",
       "                canvas.setAttribute('width', width * fig.ratio);\n",
       "                canvas.setAttribute('height', height * fig.ratio);\n",
       "            }\n",
       "            canvas.setAttribute(\n",
       "                'style',\n",
       "                'width: ' + width + 'px; height: ' + height + 'px;'\n",
       "            );\n",
       "\n",
       "            rubberband_canvas.setAttribute('width', width);\n",
       "            rubberband_canvas.setAttribute('height', height);\n",
       "\n",
       "            // And update the size in Python. We ignore the initial 0/0 size\n",
       "            // that occurs as the element is placed into the DOM, which should\n",
       "            // otherwise not happen due to the minimum size styling.\n",
       "            if (width != 0 && height != 0) {\n",
       "                fig.request_resize(width, height);\n",
       "            }\n",
       "        }\n",
       "    });\n",
       "    resizeObserver.observe(canvas_div);\n",
       "\n",
       "    function on_mouse_event_closure(name) {\n",
       "        return function (event) {\n",
       "            return fig.mouse_event(event, name);\n",
       "        };\n",
       "    }\n",
       "\n",
       "    rubberband_canvas.addEventListener(\n",
       "        'mousedown',\n",
       "        on_mouse_event_closure('button_press')\n",
       "    );\n",
       "    rubberband_canvas.addEventListener(\n",
       "        'mouseup',\n",
       "        on_mouse_event_closure('button_release')\n",
       "    );\n",
       "    // Throttle sequential mouse events to 1 every 20ms.\n",
       "    rubberband_canvas.addEventListener(\n",
       "        'mousemove',\n",
       "        on_mouse_event_closure('motion_notify')\n",
       "    );\n",
       "\n",
       "    rubberband_canvas.addEventListener(\n",
       "        'mouseenter',\n",
       "        on_mouse_event_closure('figure_enter')\n",
       "    );\n",
       "    rubberband_canvas.addEventListener(\n",
       "        'mouseleave',\n",
       "        on_mouse_event_closure('figure_leave')\n",
       "    );\n",
       "\n",
       "    canvas_div.addEventListener('wheel', function (event) {\n",
       "        if (event.deltaY < 0) {\n",
       "            event.step = 1;\n",
       "        } else {\n",
       "            event.step = -1;\n",
       "        }\n",
       "        on_mouse_event_closure('scroll')(event);\n",
       "    });\n",
       "\n",
       "    canvas_div.appendChild(canvas);\n",
       "    canvas_div.appendChild(rubberband_canvas);\n",
       "\n",
       "    this.rubberband_context = rubberband_canvas.getContext('2d');\n",
       "    this.rubberband_context.strokeStyle = '#000000';\n",
       "\n",
       "    this._resize_canvas = function (width, height, forward) {\n",
       "        if (forward) {\n",
       "            canvas_div.style.width = width + 'px';\n",
       "            canvas_div.style.height = height + 'px';\n",
       "        }\n",
       "    };\n",
       "\n",
       "    // Disable right mouse context menu.\n",
       "    this.rubberband_canvas.addEventListener('contextmenu', function (_e) {\n",
       "        event.preventDefault();\n",
       "        return false;\n",
       "    });\n",
       "\n",
       "    function set_focus() {\n",
       "        canvas.focus();\n",
       "        canvas_div.focus();\n",
       "    }\n",
       "\n",
       "    window.setTimeout(set_focus, 100);\n",
       "};\n",
       "\n",
       "mpl.figure.prototype._init_toolbar = function () {\n",
       "    var fig = this;\n",
       "\n",
       "    var toolbar = document.createElement('div');\n",
       "    toolbar.classList = 'mpl-toolbar';\n",
       "    this.root.appendChild(toolbar);\n",
       "\n",
       "    function on_click_closure(name) {\n",
       "        return function (_event) {\n",
       "            return fig.toolbar_button_onclick(name);\n",
       "        };\n",
       "    }\n",
       "\n",
       "    function on_mouseover_closure(tooltip) {\n",
       "        return function (event) {\n",
       "            if (!event.currentTarget.disabled) {\n",
       "                return fig.toolbar_button_onmouseover(tooltip);\n",
       "            }\n",
       "        };\n",
       "    }\n",
       "\n",
       "    fig.buttons = {};\n",
       "    var buttonGroup = document.createElement('div');\n",
       "    buttonGroup.classList = 'mpl-button-group';\n",
       "    for (var toolbar_ind in mpl.toolbar_items) {\n",
       "        var name = mpl.toolbar_items[toolbar_ind][0];\n",
       "        var tooltip = mpl.toolbar_items[toolbar_ind][1];\n",
       "        var image = mpl.toolbar_items[toolbar_ind][2];\n",
       "        var method_name = mpl.toolbar_items[toolbar_ind][3];\n",
       "\n",
       "        if (!name) {\n",
       "            /* Instead of a spacer, we start a new button group. */\n",
       "            if (buttonGroup.hasChildNodes()) {\n",
       "                toolbar.appendChild(buttonGroup);\n",
       "            }\n",
       "            buttonGroup = document.createElement('div');\n",
       "            buttonGroup.classList = 'mpl-button-group';\n",
       "            continue;\n",
       "        }\n",
       "\n",
       "        var button = (fig.buttons[name] = document.createElement('button'));\n",
       "        button.classList = 'mpl-widget';\n",
       "        button.setAttribute('role', 'button');\n",
       "        button.setAttribute('aria-disabled', 'false');\n",
       "        button.addEventListener('click', on_click_closure(method_name));\n",
       "        button.addEventListener('mouseover', on_mouseover_closure(tooltip));\n",
       "\n",
       "        var icon_img = document.createElement('img');\n",
       "        icon_img.src = '_images/' + image + '.png';\n",
       "        icon_img.srcset = '_images/' + image + '_large.png 2x';\n",
       "        icon_img.alt = tooltip;\n",
       "        button.appendChild(icon_img);\n",
       "\n",
       "        buttonGroup.appendChild(button);\n",
       "    }\n",
       "\n",
       "    if (buttonGroup.hasChildNodes()) {\n",
       "        toolbar.appendChild(buttonGroup);\n",
       "    }\n",
       "\n",
       "    var fmt_picker = document.createElement('select');\n",
       "    fmt_picker.classList = 'mpl-widget';\n",
       "    toolbar.appendChild(fmt_picker);\n",
       "    this.format_dropdown = fmt_picker;\n",
       "\n",
       "    for (var ind in mpl.extensions) {\n",
       "        var fmt = mpl.extensions[ind];\n",
       "        var option = document.createElement('option');\n",
       "        option.selected = fmt === mpl.default_extension;\n",
       "        option.innerHTML = fmt;\n",
       "        fmt_picker.appendChild(option);\n",
       "    }\n",
       "\n",
       "    var status_bar = document.createElement('span');\n",
       "    status_bar.classList = 'mpl-message';\n",
       "    toolbar.appendChild(status_bar);\n",
       "    this.message = status_bar;\n",
       "};\n",
       "\n",
       "mpl.figure.prototype.request_resize = function (x_pixels, y_pixels) {\n",
       "    // Request matplotlib to resize the figure. Matplotlib will then trigger a resize in the client,\n",
       "    // which will in turn request a refresh of the image.\n",
       "    this.send_message('resize', { width: x_pixels, height: y_pixels });\n",
       "};\n",
       "\n",
       "mpl.figure.prototype.send_message = function (type, properties) {\n",
       "    properties['type'] = type;\n",
       "    properties['figure_id'] = this.id;\n",
       "    this.ws.send(JSON.stringify(properties));\n",
       "};\n",
       "\n",
       "mpl.figure.prototype.send_draw_message = function () {\n",
       "    if (!this.waiting) {\n",
       "        this.waiting = true;\n",
       "        this.ws.send(JSON.stringify({ type: 'draw', figure_id: this.id }));\n",
       "    }\n",
       "};\n",
       "\n",
       "mpl.figure.prototype.handle_save = function (fig, _msg) {\n",
       "    var format_dropdown = fig.format_dropdown;\n",
       "    var format = format_dropdown.options[format_dropdown.selectedIndex].value;\n",
       "    fig.ondownload(fig, format);\n",
       "};\n",
       "\n",
       "mpl.figure.prototype.handle_resize = function (fig, msg) {\n",
       "    var size = msg['size'];\n",
       "    if (size[0] !== fig.canvas.width || size[1] !== fig.canvas.height) {\n",
       "        fig._resize_canvas(size[0], size[1], msg['forward']);\n",
       "        fig.send_message('refresh', {});\n",
       "    }\n",
       "};\n",
       "\n",
       "mpl.figure.prototype.handle_rubberband = function (fig, msg) {\n",
       "    var x0 = msg['x0'] / fig.ratio;\n",
       "    var y0 = (fig.canvas.height - msg['y0']) / fig.ratio;\n",
       "    var x1 = msg['x1'] / fig.ratio;\n",
       "    var y1 = (fig.canvas.height - msg['y1']) / fig.ratio;\n",
       "    x0 = Math.floor(x0) + 0.5;\n",
       "    y0 = Math.floor(y0) + 0.5;\n",
       "    x1 = Math.floor(x1) + 0.5;\n",
       "    y1 = Math.floor(y1) + 0.5;\n",
       "    var min_x = Math.min(x0, x1);\n",
       "    var min_y = Math.min(y0, y1);\n",
       "    var width = Math.abs(x1 - x0);\n",
       "    var height = Math.abs(y1 - y0);\n",
       "\n",
       "    fig.rubberband_context.clearRect(\n",
       "        0,\n",
       "        0,\n",
       "        fig.canvas.width / fig.ratio,\n",
       "        fig.canvas.height / fig.ratio\n",
       "    );\n",
       "\n",
       "    fig.rubberband_context.strokeRect(min_x, min_y, width, height);\n",
       "};\n",
       "\n",
       "mpl.figure.prototype.handle_figure_label = function (fig, msg) {\n",
       "    // Updates the figure title.\n",
       "    fig.header.textContent = msg['label'];\n",
       "};\n",
       "\n",
       "mpl.figure.prototype.handle_cursor = function (fig, msg) {\n",
       "    var cursor = msg['cursor'];\n",
       "    switch (cursor) {\n",
       "        case 0:\n",
       "            cursor = 'pointer';\n",
       "            break;\n",
       "        case 1:\n",
       "            cursor = 'default';\n",
       "            break;\n",
       "        case 2:\n",
       "            cursor = 'crosshair';\n",
       "            break;\n",
       "        case 3:\n",
       "            cursor = 'move';\n",
       "            break;\n",
       "    }\n",
       "    fig.rubberband_canvas.style.cursor = cursor;\n",
       "};\n",
       "\n",
       "mpl.figure.prototype.handle_message = function (fig, msg) {\n",
       "    fig.message.textContent = msg['message'];\n",
       "};\n",
       "\n",
       "mpl.figure.prototype.handle_draw = function (fig, _msg) {\n",
       "    // Request the server to send over a new figure.\n",
       "    fig.send_draw_message();\n",
       "};\n",
       "\n",
       "mpl.figure.prototype.handle_image_mode = function (fig, msg) {\n",
       "    fig.image_mode = msg['mode'];\n",
       "};\n",
       "\n",
       "mpl.figure.prototype.handle_history_buttons = function (fig, msg) {\n",
       "    for (var key in msg) {\n",
       "        if (!(key in fig.buttons)) {\n",
       "            continue;\n",
       "        }\n",
       "        fig.buttons[key].disabled = !msg[key];\n",
       "        fig.buttons[key].setAttribute('aria-disabled', !msg[key]);\n",
       "    }\n",
       "};\n",
       "\n",
       "mpl.figure.prototype.handle_navigate_mode = function (fig, msg) {\n",
       "    if (msg['mode'] === 'PAN') {\n",
       "        fig.buttons['Pan'].classList.add('active');\n",
       "        fig.buttons['Zoom'].classList.remove('active');\n",
       "    } else if (msg['mode'] === 'ZOOM') {\n",
       "        fig.buttons['Pan'].classList.remove('active');\n",
       "        fig.buttons['Zoom'].classList.add('active');\n",
       "    } else {\n",
       "        fig.buttons['Pan'].classList.remove('active');\n",
       "        fig.buttons['Zoom'].classList.remove('active');\n",
       "    }\n",
       "};\n",
       "\n",
       "mpl.figure.prototype.updated_canvas_event = function () {\n",
       "    // Called whenever the canvas gets updated.\n",
       "    this.send_message('ack', {});\n",
       "};\n",
       "\n",
       "// A function to construct a web socket function for onmessage handling.\n",
       "// Called in the figure constructor.\n",
       "mpl.figure.prototype._make_on_message_function = function (fig) {\n",
       "    return function socket_on_message(evt) {\n",
       "        if (evt.data instanceof Blob) {\n",
       "            /* FIXME: We get \"Resource interpreted as Image but\n",
       "             * transferred with MIME type text/plain:\" errors on\n",
       "             * Chrome.  But how to set the MIME type?  It doesn't seem\n",
       "             * to be part of the websocket stream */\n",
       "            evt.data.type = 'image/png';\n",
       "\n",
       "            /* Free the memory for the previous frames */\n",
       "            if (fig.imageObj.src) {\n",
       "                (window.URL || window.webkitURL).revokeObjectURL(\n",
       "                    fig.imageObj.src\n",
       "                );\n",
       "            }\n",
       "\n",
       "            fig.imageObj.src = (window.URL || window.webkitURL).createObjectURL(\n",
       "                evt.data\n",
       "            );\n",
       "            fig.updated_canvas_event();\n",
       "            fig.waiting = false;\n",
       "            return;\n",
       "        } else if (\n",
       "            typeof evt.data === 'string' &&\n",
       "            evt.data.slice(0, 21) === 'data:image/png;base64'\n",
       "        ) {\n",
       "            fig.imageObj.src = evt.data;\n",
       "            fig.updated_canvas_event();\n",
       "            fig.waiting = false;\n",
       "            return;\n",
       "        }\n",
       "\n",
       "        var msg = JSON.parse(evt.data);\n",
       "        var msg_type = msg['type'];\n",
       "\n",
       "        // Call the  \"handle_{type}\" callback, which takes\n",
       "        // the figure and JSON message as its only arguments.\n",
       "        try {\n",
       "            var callback = fig['handle_' + msg_type];\n",
       "        } catch (e) {\n",
       "            console.log(\n",
       "                \"No handler for the '\" + msg_type + \"' message type: \",\n",
       "                msg\n",
       "            );\n",
       "            return;\n",
       "        }\n",
       "\n",
       "        if (callback) {\n",
       "            try {\n",
       "                // console.log(\"Handling '\" + msg_type + \"' message: \", msg);\n",
       "                callback(fig, msg);\n",
       "            } catch (e) {\n",
       "                console.log(\n",
       "                    \"Exception inside the 'handler_\" + msg_type + \"' callback:\",\n",
       "                    e,\n",
       "                    e.stack,\n",
       "                    msg\n",
       "                );\n",
       "            }\n",
       "        }\n",
       "    };\n",
       "};\n",
       "\n",
       "// from http://stackoverflow.com/questions/1114465/getting-mouse-location-in-canvas\n",
       "mpl.findpos = function (e) {\n",
       "    //this section is from http://www.quirksmode.org/js/events_properties.html\n",
       "    var targ;\n",
       "    if (!e) {\n",
       "        e = window.event;\n",
       "    }\n",
       "    if (e.target) {\n",
       "        targ = e.target;\n",
       "    } else if (e.srcElement) {\n",
       "        targ = e.srcElement;\n",
       "    }\n",
       "    if (targ.nodeType === 3) {\n",
       "        // defeat Safari bug\n",
       "        targ = targ.parentNode;\n",
       "    }\n",
       "\n",
       "    // pageX,Y are the mouse positions relative to the document\n",
       "    var boundingRect = targ.getBoundingClientRect();\n",
       "    var x = e.pageX - (boundingRect.left + document.body.scrollLeft);\n",
       "    var y = e.pageY - (boundingRect.top + document.body.scrollTop);\n",
       "\n",
       "    return { x: x, y: y };\n",
       "};\n",
       "\n",
       "/*\n",
       " * return a copy of an object with only non-object keys\n",
       " * we need this to avoid circular references\n",
       " * http://stackoverflow.com/a/24161582/3208463\n",
       " */\n",
       "function simpleKeys(original) {\n",
       "    return Object.keys(original).reduce(function (obj, key) {\n",
       "        if (typeof original[key] !== 'object') {\n",
       "            obj[key] = original[key];\n",
       "        }\n",
       "        return obj;\n",
       "    }, {});\n",
       "}\n",
       "\n",
       "mpl.figure.prototype.mouse_event = function (event, name) {\n",
       "    var canvas_pos = mpl.findpos(event);\n",
       "\n",
       "    if (name === 'button_press') {\n",
       "        this.canvas.focus();\n",
       "        this.canvas_div.focus();\n",
       "    }\n",
       "\n",
       "    var x = canvas_pos.x * this.ratio;\n",
       "    var y = canvas_pos.y * this.ratio;\n",
       "\n",
       "    this.send_message(name, {\n",
       "        x: x,\n",
       "        y: y,\n",
       "        button: event.button,\n",
       "        step: event.step,\n",
       "        guiEvent: simpleKeys(event),\n",
       "    });\n",
       "\n",
       "    /* This prevents the web browser from automatically changing to\n",
       "     * the text insertion cursor when the button is pressed.  We want\n",
       "     * to control all of the cursor setting manually through the\n",
       "     * 'cursor' event from matplotlib */\n",
       "    event.preventDefault();\n",
       "    return false;\n",
       "};\n",
       "\n",
       "mpl.figure.prototype._key_event_extra = function (_event, _name) {\n",
       "    // Handle any extra behaviour associated with a key event\n",
       "};\n",
       "\n",
       "mpl.figure.prototype.key_event = function (event, name) {\n",
       "    // Prevent repeat events\n",
       "    if (name === 'key_press') {\n",
       "        if (event.which === this._key) {\n",
       "            return;\n",
       "        } else {\n",
       "            this._key = event.which;\n",
       "        }\n",
       "    }\n",
       "    if (name === 'key_release') {\n",
       "        this._key = null;\n",
       "    }\n",
       "\n",
       "    var value = '';\n",
       "    if (event.ctrlKey && event.which !== 17) {\n",
       "        value += 'ctrl+';\n",
       "    }\n",
       "    if (event.altKey && event.which !== 18) {\n",
       "        value += 'alt+';\n",
       "    }\n",
       "    if (event.shiftKey && event.which !== 16) {\n",
       "        value += 'shift+';\n",
       "    }\n",
       "\n",
       "    value += 'k';\n",
       "    value += event.which.toString();\n",
       "\n",
       "    this._key_event_extra(event, name);\n",
       "\n",
       "    this.send_message(name, { key: value, guiEvent: simpleKeys(event) });\n",
       "    return false;\n",
       "};\n",
       "\n",
       "mpl.figure.prototype.toolbar_button_onclick = function (name) {\n",
       "    if (name === 'download') {\n",
       "        this.handle_save(this, null);\n",
       "    } else {\n",
       "        this.send_message('toolbar_button', { name: name });\n",
       "    }\n",
       "};\n",
       "\n",
       "mpl.figure.prototype.toolbar_button_onmouseover = function (tooltip) {\n",
       "    this.message.textContent = tooltip;\n",
       "};\n",
       "mpl.toolbar_items = [[\"Home\", \"Reset original view\", \"fa fa-home icon-home\", \"home\"], [\"Back\", \"Back to previous view\", \"fa fa-arrow-left icon-arrow-left\", \"back\"], [\"Forward\", \"Forward to next view\", \"fa fa-arrow-right icon-arrow-right\", \"forward\"], [\"\", \"\", \"\", \"\"], [\"Pan\", \"Left button pans, Right button zooms\\nx/y fixes axis, CTRL fixes aspect\", \"fa fa-arrows icon-move\", \"pan\"], [\"Zoom\", \"Zoom to rectangle\\nx/y fixes axis, CTRL fixes aspect\", \"fa fa-square-o icon-check-empty\", \"zoom\"], [\"\", \"\", \"\", \"\"], [\"Download\", \"Download plot\", \"fa fa-floppy-o icon-save\", \"download\"]];\n",
       "\n",
       "mpl.extensions = [\"eps\", \"jpeg\", \"pdf\", \"png\", \"ps\", \"raw\", \"svg\", \"tif\"];\n",
       "\n",
       "mpl.default_extension = \"png\";/* global mpl */\n",
       "\n",
       "var comm_websocket_adapter = function (comm) {\n",
       "    // Create a \"websocket\"-like object which calls the given IPython comm\n",
       "    // object with the appropriate methods. Currently this is a non binary\n",
       "    // socket, so there is still some room for performance tuning.\n",
       "    var ws = {};\n",
       "\n",
       "    ws.close = function () {\n",
       "        comm.close();\n",
       "    };\n",
       "    ws.send = function (m) {\n",
       "        //console.log('sending', m);\n",
       "        comm.send(m);\n",
       "    };\n",
       "    // Register the callback with on_msg.\n",
       "    comm.on_msg(function (msg) {\n",
       "        //console.log('receiving', msg['content']['data'], msg);\n",
       "        // Pass the mpl event to the overridden (by mpl) onmessage function.\n",
       "        ws.onmessage(msg['content']['data']);\n",
       "    });\n",
       "    return ws;\n",
       "};\n",
       "\n",
       "mpl.mpl_figure_comm = function (comm, msg) {\n",
       "    // This is the function which gets called when the mpl process\n",
       "    // starts-up an IPython Comm through the \"matplotlib\" channel.\n",
       "\n",
       "    var id = msg.content.data.id;\n",
       "    // Get hold of the div created by the display call when the Comm\n",
       "    // socket was opened in Python.\n",
       "    var element = document.getElementById(id);\n",
       "    var ws_proxy = comm_websocket_adapter(comm);\n",
       "\n",
       "    function ondownload(figure, _format) {\n",
       "        window.open(figure.canvas.toDataURL());\n",
       "    }\n",
       "\n",
       "    var fig = new mpl.figure(id, ws_proxy, ondownload, element);\n",
       "\n",
       "    // Call onopen now - mpl needs it, as it is assuming we've passed it a real\n",
       "    // web socket which is closed, not our websocket->open comm proxy.\n",
       "    ws_proxy.onopen();\n",
       "\n",
       "    fig.parent_element = element;\n",
       "    fig.cell_info = mpl.find_output_cell(\"<div id='\" + id + \"'></div>\");\n",
       "    if (!fig.cell_info) {\n",
       "        console.error('Failed to find cell for figure', id, fig);\n",
       "        return;\n",
       "    }\n",
       "    fig.cell_info[0].output_area.element.one(\n",
       "        'cleared',\n",
       "        { fig: fig },\n",
       "        fig._remove_fig_handler\n",
       "    );\n",
       "};\n",
       "\n",
       "mpl.figure.prototype.handle_close = function (fig, msg) {\n",
       "    var width = fig.canvas.width / fig.ratio;\n",
       "    fig.cell_info[0].output_area.element.off(\n",
       "        'cleared',\n",
       "        fig._remove_fig_handler\n",
       "    );\n",
       "\n",
       "    // Update the output cell to use the data from the current canvas.\n",
       "    fig.push_to_output();\n",
       "    var dataURL = fig.canvas.toDataURL();\n",
       "    // Re-enable the keyboard manager in IPython - without this line, in FF,\n",
       "    // the notebook keyboard shortcuts fail.\n",
       "    IPython.keyboard_manager.enable();\n",
       "    fig.parent_element.innerHTML =\n",
       "        '<img src=\"' + dataURL + '\" width=\"' + width + '\">';\n",
       "    fig.close_ws(fig, msg);\n",
       "};\n",
       "\n",
       "mpl.figure.prototype.close_ws = function (fig, msg) {\n",
       "    fig.send_message('closing', msg);\n",
       "    // fig.ws.close()\n",
       "};\n",
       "\n",
       "mpl.figure.prototype.push_to_output = function (_remove_interactive) {\n",
       "    // Turn the data on the canvas into data in the output cell.\n",
       "    var width = this.canvas.width / this.ratio;\n",
       "    var dataURL = this.canvas.toDataURL();\n",
       "    this.cell_info[1]['text/html'] =\n",
       "        '<img src=\"' + dataURL + '\" width=\"' + width + '\">';\n",
       "};\n",
       "\n",
       "mpl.figure.prototype.updated_canvas_event = function () {\n",
       "    // Tell IPython that the notebook contents must change.\n",
       "    IPython.notebook.set_dirty(true);\n",
       "    this.send_message('ack', {});\n",
       "    var fig = this;\n",
       "    // Wait a second, then push the new image to the DOM so\n",
       "    // that it is saved nicely (might be nice to debounce this).\n",
       "    setTimeout(function () {\n",
       "        fig.push_to_output();\n",
       "    }, 1000);\n",
       "};\n",
       "\n",
       "mpl.figure.prototype._init_toolbar = function () {\n",
       "    var fig = this;\n",
       "\n",
       "    var toolbar = document.createElement('div');\n",
       "    toolbar.classList = 'btn-toolbar';\n",
       "    this.root.appendChild(toolbar);\n",
       "\n",
       "    function on_click_closure(name) {\n",
       "        return function (_event) {\n",
       "            return fig.toolbar_button_onclick(name);\n",
       "        };\n",
       "    }\n",
       "\n",
       "    function on_mouseover_closure(tooltip) {\n",
       "        return function (event) {\n",
       "            if (!event.currentTarget.disabled) {\n",
       "                return fig.toolbar_button_onmouseover(tooltip);\n",
       "            }\n",
       "        };\n",
       "    }\n",
       "\n",
       "    fig.buttons = {};\n",
       "    var buttonGroup = document.createElement('div');\n",
       "    buttonGroup.classList = 'btn-group';\n",
       "    var button;\n",
       "    for (var toolbar_ind in mpl.toolbar_items) {\n",
       "        var name = mpl.toolbar_items[toolbar_ind][0];\n",
       "        var tooltip = mpl.toolbar_items[toolbar_ind][1];\n",
       "        var image = mpl.toolbar_items[toolbar_ind][2];\n",
       "        var method_name = mpl.toolbar_items[toolbar_ind][3];\n",
       "\n",
       "        if (!name) {\n",
       "            /* Instead of a spacer, we start a new button group. */\n",
       "            if (buttonGroup.hasChildNodes()) {\n",
       "                toolbar.appendChild(buttonGroup);\n",
       "            }\n",
       "            buttonGroup = document.createElement('div');\n",
       "            buttonGroup.classList = 'btn-group';\n",
       "            continue;\n",
       "        }\n",
       "\n",
       "        button = fig.buttons[name] = document.createElement('button');\n",
       "        button.classList = 'btn btn-default';\n",
       "        button.href = '#';\n",
       "        button.title = name;\n",
       "        button.innerHTML = '<i class=\"fa ' + image + ' fa-lg\"></i>';\n",
       "        button.addEventListener('click', on_click_closure(method_name));\n",
       "        button.addEventListener('mouseover', on_mouseover_closure(tooltip));\n",
       "        buttonGroup.appendChild(button);\n",
       "    }\n",
       "\n",
       "    if (buttonGroup.hasChildNodes()) {\n",
       "        toolbar.appendChild(buttonGroup);\n",
       "    }\n",
       "\n",
       "    // Add the status bar.\n",
       "    var status_bar = document.createElement('span');\n",
       "    status_bar.classList = 'mpl-message pull-right';\n",
       "    toolbar.appendChild(status_bar);\n",
       "    this.message = status_bar;\n",
       "\n",
       "    // Add the close button to the window.\n",
       "    var buttongrp = document.createElement('div');\n",
       "    buttongrp.classList = 'btn-group inline pull-right';\n",
       "    button = document.createElement('button');\n",
       "    button.classList = 'btn btn-mini btn-primary';\n",
       "    button.href = '#';\n",
       "    button.title = 'Stop Interaction';\n",
       "    button.innerHTML = '<i class=\"fa fa-power-off icon-remove icon-large\"></i>';\n",
       "    button.addEventListener('click', function (_evt) {\n",
       "        fig.handle_close(fig, {});\n",
       "    });\n",
       "    button.addEventListener(\n",
       "        'mouseover',\n",
       "        on_mouseover_closure('Stop Interaction')\n",
       "    );\n",
       "    buttongrp.appendChild(button);\n",
       "    var titlebar = this.root.querySelector('.ui-dialog-titlebar');\n",
       "    titlebar.insertBefore(buttongrp, titlebar.firstChild);\n",
       "};\n",
       "\n",
       "mpl.figure.prototype._remove_fig_handler = function (event) {\n",
       "    var fig = event.data.fig;\n",
       "    fig.close_ws(fig, {});\n",
       "};\n",
       "\n",
       "mpl.figure.prototype._root_extra_style = function (el) {\n",
       "    el.style.boxSizing = 'content-box'; // override notebook setting of border-box.\n",
       "};\n",
       "\n",
       "mpl.figure.prototype._canvas_extra_style = function (el) {\n",
       "    // this is important to make the div 'focusable\n",
       "    el.setAttribute('tabindex', 0);\n",
       "    // reach out to IPython and tell the keyboard manager to turn it's self\n",
       "    // off when our div gets focus\n",
       "\n",
       "    // location in version 3\n",
       "    if (IPython.notebook.keyboard_manager) {\n",
       "        IPython.notebook.keyboard_manager.register_events(el);\n",
       "    } else {\n",
       "        // location in version 2\n",
       "        IPython.keyboard_manager.register_events(el);\n",
       "    }\n",
       "};\n",
       "\n",
       "mpl.figure.prototype._key_event_extra = function (event, _name) {\n",
       "    var manager = IPython.notebook.keyboard_manager;\n",
       "    if (!manager) {\n",
       "        manager = IPython.keyboard_manager;\n",
       "    }\n",
       "\n",
       "    // Check for shift+enter\n",
       "    if (event.shiftKey && event.which === 13) {\n",
       "        this.canvas_div.blur();\n",
       "        // select the cell after this one\n",
       "        var index = IPython.notebook.find_cell_index(this.cell_info[0]);\n",
       "        IPython.notebook.select(index + 1);\n",
       "    }\n",
       "};\n",
       "\n",
       "mpl.figure.prototype.handle_save = function (fig, _msg) {\n",
       "    fig.ondownload(fig, null);\n",
       "};\n",
       "\n",
       "mpl.find_output_cell = function (html_output) {\n",
       "    // Return the cell and output element which can be found *uniquely* in the notebook.\n",
       "    // Note - this is a bit hacky, but it is done because the \"notebook_saving.Notebook\"\n",
       "    // IPython event is triggered only after the cells have been serialised, which for\n",
       "    // our purposes (turning an active figure into a static one), is too late.\n",
       "    var cells = IPython.notebook.get_cells();\n",
       "    var ncells = cells.length;\n",
       "    for (var i = 0; i < ncells; i++) {\n",
       "        var cell = cells[i];\n",
       "        if (cell.cell_type === 'code') {\n",
       "            for (var j = 0; j < cell.output_area.outputs.length; j++) {\n",
       "                var data = cell.output_area.outputs[j];\n",
       "                if (data.data) {\n",
       "                    // IPython >= 3 moved mimebundle to data attribute of output\n",
       "                    data = data.data;\n",
       "                }\n",
       "                if (data['text/html'] === html_output) {\n",
       "                    return [cell, data, j];\n",
       "                }\n",
       "            }\n",
       "        }\n",
       "    }\n",
       "};\n",
       "\n",
       "// Register the function which deals with the matplotlib target/channel.\n",
       "// The kernel may be null if the page has been refreshed.\n",
       "if (IPython.notebook.kernel !== null) {\n",
       "    IPython.notebook.kernel.comm_manager.register_target(\n",
       "        'matplotlib',\n",
       "        mpl.mpl_figure_comm\n",
       "    );\n",
       "}\n"
      ],
      "text/plain": [
       "<IPython.core.display.Javascript object>"
      ]
     },
     "metadata": {},
     "output_type": "display_data"
    },
    {
     "data": {
      "text/html": [
       "<img src=\"data:image/png;base64,iVBORw0KGgoAAAANSUhEUgAAAoAAAAHgCAYAAAA10dzkAAAgAElEQVR4nO3dfXTX5WH//zeEJED06/EWoQhUB6hoVerAejrYhpa1Utt6rJ6qK1ZnFZ3i9HiDdM1oxdZq7abVblqK7rTRVZGsIt6wDsGbVgdGoUm5E8QUI/ajJEAQAuH1+6M1PwMBE668cnHl/Xycc/3BJ/m8z5snVF795C4TAAAAciWLfQMAAADoWgxAAACAnGEAAgAA5AwDEAAAIGcYgAAAADnDAAQAAMgZBiAAAEDOMAABAAByhgEIAACQMwxAAACAnGEAAgAA5AwDEAAAIGcYgAAAADnDAAQAAMgZBiAAAEDOMAABAAByhgEIAACQMwxAAACAnGEAAgAA5AwDEAAAIGcYgAAAADnDAAQAAMgZBiAAAEDOMAABAAByhgEIAACQMwxAAACAnGEAAgAA5AwDEAAAIGcYgAAAADnDAAQAAMgZBiAAAEDOMAABAAByhgEIAACQMwxAAACAnGEAAgAA5AwDEAAAIGcYgAAAADnDAAQAAMgZBiAAAEDOMAABAAByhgEIAACQMwxAAACAnGEAdpIFCxZowoQJ6t+/v7Is0+zZszt8jZ07d+qOO+7Q0KFDVVJSooEDB2r69OmGuwUAAHnGAOwkc+fO1dSpUzVr1qx9HoBXX321hg8frv/+7//W6tWrVVVVpXnz5hnuFgAA5BkD0KCtAbht2zbdcMMNGjBggPr27atRo0Zp/vz5LW+vqalRr169tGzZsi6+WwAAkDcMQIO2BuAFF1yg008/XQsXLtSqVat0xx13qLS0VCtWrJAk3X777Ro2bJjuvPNODRkyRIMHD9all16q9957L8ZvAQAAdGMMQINdB+CqVavUo0cPrVu3rtX7jRs3TlOmTJEkXX755SotLdXo0aO1cOFCzZ8/XyeffLL+5m/+pkvvHQAAdH8MQINdB+Avf/lLZVmmsrKyVqdXr14677zzJEmXXXaZsizT8uXLW563ePFiZVnGh4UBAECnYgAa7DoAH3nkERUVFWnZsmVauXJlq1NXVydJ+va3v61evXq1us6WLVuUZZmeffbZLr1/AADQvTEADXYdgMuXL1eWZVq4cOEen/PMM88oyzKtWrWq5bHXXnttt1cFAQAAQjEAO8mmTZtUVVWlqqoqZVmmu+66S1VVVVq7dq0k6cILL9SQIUM0a9YsrV69Wq+88oq+//3v68knn5QkNTc3a+TIkRozZoxeffVVLVq0SKNHj9aZZ54Z87cFAAC6IQZgJ5k/f76yLNvtTJw4UZLU1NSkb3/72xoyZIiKi4t15JFH6itf+YqWLFnSco1169bpnHPO0QEHHKB+/frp4osv5quAAQBAp2MAAgAA5AwDEAAAIGcYgAAAADnDAAQAAMgZBmCA5uZm1dbWqr6+Xg0NDRwOh8PhcBI49fX1qq2tVXNzc+wpEQ0DMEBtbW2bX/nL4XA4HA5n/z+1tbWxp0Q0DMAA9fX1LX+BOvv/nRQKBVVUVKhQKET/f0rd8dCXxt3h0Ji+qZ9YjT98Aae+vj72lIiGARigoaFBWZapoaGh06/d1NSkyspKNTU1dfq1Qd+uQGM/GnvR1y9WY+e/36lgAAZgAKaLvn409qOxF339GIDxMAADMADTRV8/GvvR2Iu+fgzAeBiAARiA6aKvH439aOxFXz8GYDwMwAAMwHTR14/GfjT22lvfnTt3qqmpSR988AEn4GzcuFFz5szRxo0bO/W6TU1N2rlz5x7/bBmADMAgDMB00dePxn409tpT323btunNN99UTU0NJ/BUV1dr0aJFqq6u7vRrv/nmm9q2bVubf7YMQAZgEAZguujrR2M/Gnu11be5uVnLli3TypUrVV9fry1btkR/FS3l09jYqPXr16uxsbHTrrllyxbV19dr5cqVWrZsWZvf7JkByAAMwgBMF339aOxHY6+2+n7wwQeqqalRY2NjxDvrPpqbm7VhwwbLT+RobGxUTU2NPvjgg93exgBkAAZhAKaLvn409qOx194GYFujAh3nHIB7+7NiADIAgzAA00VfPxr70diLAejHAIyHARiAAZgu+vrR2I/GXgxAPwZgPAzAAAzAdNHXj8Z+NPbq6AD85fJfdunZVy+++KJ69uyp8ePHS5ImTpyoLMv2ej70i1/8Qj179tTll1/e5rUbGhp0yy23aPjw4SotLVW/fv00btw4zZo1q81vy8IAjIcBGIABmC76+tHYj8Ze3XUAXnrppZo8ebLKysq0du1a1dfXq66uruVkWaaZM2e2euxD48aN080336yDDjpoty+E2bBhg0aMGKGBAwfqwQcfVHV1tZYvX677779fxxxzjDZs2LDbvTAA42EABmAApou+fjT2o7FXdxyAmzdv1oEHHqhly5bp/PPP17Rp03Z7nyzLNHv27N0eX7Nmjfr06aP6+nqNHj1aDz30UKu3T5o0SWVlZVq3bt1uz920aZO2b9++2+MMwHgYgAEYgOmirx+N/Wjs1R0H4IwZM3TqqadKkp544gkNGTJktw/N7mkA/vM//7POPfdcSdI999yjMWPGtLytublZBx98sL75zW926H4YgPEwAAMwANNFXz8a+9HYqzsOwNNPP13/+q//Kknavn27DjvsMM2bN6/V+7Q1AJubm3XUUUepsrJSkvTHP/5RxcXFWrlypSRp/fr1yrJMd911V4fuhwEYDwMwAAMwXfT1o7Efjb262wBctmyZevXqpXfeeaflsauuukpf+9rXWr1fWwPwqaee0iGHHNLqR6udddZZmjJliiTpnXfeUZZl+tGPftShe2IAxsMADMAATBd9/WjsR2Ov7jYAb7jhBmVZpqKiopbTs2dPlZaW6v333295v7YG4Fe/+tXdntujRw8NGDBAO3bs4EPACWIABmAApou+fjT2o7FXdxqA27dvV79+/fTDH/5QS5cubXWGDRume+65p+V9dx2AhUJBJSUleuSRR1o97/XXX9f/+3//T0888YQk6YorrtjjF4Fs3ryZLwLZzzAAAzAA00VfPxr70dirOw3A2bNnq6SkRPX19bu97ZZbbtHJJ5/c8utdB+CPfvQj9e/fv82RdsEFF+jLX/6yJOn999/Xscceq4EDB+qhhx5SdXW1VqxYoRkzZugv/uIv+DYw+xkGYAAGYLro60djPxp7dacBOGHCBH3hC19o822LFy9WlmVavHixpN0H4Iknnqgrr7yyzefOmjWr1ecV1tfX6+abb9bQoUNVUlKifv366YwzztDs2bP5RtD7GQZgAAZguujrR2M/Gnvxo+D8GIDxMAADMADTRV8/GvvR2IsB6McAjIcBGIABmC76+tHYj8ZeDEA/BmA8DMAADMB00dePxn409mIA+jEA42EABmAApou+fjT2o7EXA9CPARhPbgfg9u3bNXXqVA0ZMkS9e/fWJz/5SU2bNq1DfwkZgOmirx+N/WjsxQD0YwDGk9sBeOutt+rQQw/VnDlztGbNGj366KM64IADWn5GYnswANNFXz8a+9HYiwHoxwCMJ7cD8KyzztIll1zS6rFzzjlHF110UbuvwQBMF339aOxHYy8GoB8DMJ7cDsDvfe97Gjx4sJYvXy5Jeu2113TEEUeooqJij8/ZunWrGhoaWk5tba2yLFOhUFBTU1OnnsbGRlVWVqqxsbHTr82hL427x6Fx1/fduHGjqqur1djYqObmZk7g2bFjhzZs2NDy84Q78zQ2Nqq6ulobN27c7c+2UCgwAGPfQCw7d+7UzTffrB49eqhXr17q0aOHbrvttr0+p7y8XFmW7XYqKipUWVnJ4XA4nG5+5syZo0WLFmn9+vXasGEDZz8+69ev16JFizRnzpzd/hwrKioYgLFvIJaHH35YAwcO1MMPP6wlS5boP//zP3XIIYfowQcf3ONzeAWw+xz60rg7HBp3fV9eAeQVwO4itwNw4MCB+vGPf9zqse9+97saPnx4u6/B5wCmi75+NPajsVdbfff2eWW/+O3aLj0dNXHixDY/ijV+/PigTh8aO3ZsyzVLSko0YMAATZgwQbNmzdrjc4YNG6bi4mK99dZbe7ze9773vd3e9vnPf15Zlqm8vHyP1+ZzAPcutwPwkEMO0X333dfqsdtuu01Dhw5t9zUYgOmirx+N/Wjs1R0H4N/93d+prq6u1Xn//feDOn1o7Nixuuyyy1RXV6e33npLv/nNb3TjjTequLhYl1122W7v//zzz2vQoEE699xz9d3vfrfN6x111FEaNmxYq8fXrVun0tJS9e/fnwEYILcDcOLEifrEJz7R8m1gHn/8cR122GG68cYb230NBmC66OtHYz8ae3XHAfilL31pj2/fsGGDLrvsMh1xxBEqLS3ViBEj9MQTT7S8/bHHHtPxxx+vkpISDR48WHfeeWer548dO1aTJ0/e7bo/+9nPlGWZ5s2b1+rxiy++WDfddJMeffRRHX300dq5c+du15s0aZIOPfRQvfDCCy2PT58+XV/84hd10kknMQAD5HYAbty4UZMnT9agQYPUu3dvHX300Zo6daq2bdvW7mswANNFXz8a+9HYK08DsLm5WaeddppGjBihZ599Vm+88YaeeOIJzZ07V5K0aNEi9ezZU9/5zne0fPlyzZw5U3369NHMmTNbrrGnAdjc3KyDDz5YkyZNanls48aNKisr05IlS1QoFNSvXz/97//+b6vnfXi9a665RpdeemnL40OHDtXs2bMZgIFyOwA7AwMwXfT1o7Efjb264wAsKipSWVlZq/Od73xHzzzzjHr27NnyrdF2dcEFF+jMM89s9dgNN9yg448/vuXXexqAkjR69Gh9/vOfb/n1/fffr5NPPlnNzX/6PoDXXHONLrzwwlbP+fB6r7/+ug488EBt3rxZCxYs0BFHHKGmpiYGYCAGYAAGYLro60djPxp7dccBeMYZZ2jlypWtznvvvafbb79dgwYN2uNzTznlFP3Lv/xLq8cqKytVXFysHTt2SNr7ABw1apS+8IUvtPx69OjRuvPOO1sG4Msvv6w+ffpow4YNLe/z0euNHDlSDz74oCZOnKjrr79ekhiAgRiAARiA6aKvH439aOzVHQfgnj4EfPfdd+91AJ588smaNm1aq8dmz57drgG4Y8cOHXzwwbrqqqskSdXV1cqyTD179lRRUVHLybKs1RdnfvR6P/7xj/WXf/mXKisrU3V1tSQGYCgGYAAGYLro60djPxp75WkAPvfcc/v0IeARI0a0/HpPA3DGjBnKsqzlc/yuu+46jRkzRkuXLtXrr7+uF198Ua+//rpuvPFGffrTn27zeu+//7569+6t0aNHt7ydARiGARiAAZgu+vrR2I/GXt1xALb1bWD++Mc/SpL++q//WieccIKeffZZrV69WnPnztVTTz0lSVq8eHGrLwJ58MEH2/wikA+/DUxtba1++9vftnwbmA+/AKSpqUmHH364fvKTn0hq/bOAV6xYoSzL9Nprr7Vc76ODcsOGDdq8eXPLrxmAYRiAARiA6aKvH439aOzVHQdgW98I+sMfgPDee+/pG9/4hg499FD17t1bJ5xwgubMmdPy/A+/DUxxcbEGDRqkO+64o9X1d/1G0P3799eECRP0+OOPt7pGz5499c4770hqPQAl6cQTT9TVV1/dcr09fU6hxAAMxQAMwABMF339aOxHY6+ODkB03K4DsDMxAPeOARiAAZgu+vrR2I/GXgxAPwZgPAzAAAzAdNHXj8Z+NPZiAPoxAONhAAZgAKaLvn409qOxFwPQjwEYDwMwAAMwXfT1o7Efjb0YgH4MwHgYgAEYgOmirx+N/WjsxQD0YwDGwwAMwABMF339aOxHY6+9DcAtW7ZEvLPuwzkAt2zZwgDcCwZgAAZguujrR2M/Gnu11XfHjh2qqalRoVCIeGfdh3MAFgoF1dTUtPyouo9iADIAgzAA00VfPxr70dhrT33ffvvtlhG4ZcsWffDBB5x9PI2NjVq/fr0aGxs77ZpbtmxpGX9vv/12m3+2DEAGYBAGYLro60djPxp77anvzp07W0YgJ+xUV1dr0aJFqq6u7vRrv/3229q5c2ebf7YMQAZgEAZguujrR2M/Gnt9XN8dO3ZEfwUt9bNx40bNmTNHGzdu7NTrtvVh349iADIAgzAA00VfPxr70diLvn6xGjMAGYBBGIDpoq8fjf1o7EVfPwZgPAzAAAzAdNHXj8Z+NPairx8DMB4GYAAGYLro60djPxp70dePARgPAzAAAzBd9PWjsR+NvejrxwCMhwEYgAGYLvr60diPxl709WMAxsMADMAATBd9/WjsR2Mv+voxAONhAAZgAKaLvn409qOxF339GIDxMAADMADTRV8/GvvR2Iu+fgzAeBiAARiA6aKvH439aOxFXz8GYDwMwAAMwHTR14/GfjT2oq8fAzAeBmAABmC66OtHYz8ae9HXjwEYDwMwAAMwXfT1o7Efjb3o68cAjIcBGIABmC76+tHYj8Ze9PVjAMbDAAzAAEwXff1o7EdjL/r6MQDjyfUAHDx4sLIs2+1ceeWV7Xo+AzBd9PWjsR+NvejrxwCMJ9cD8N1331VdXV3LmTdvnrIs0/z589v1fAZguujrR2M/GnvR148BGE+uB+CuJk+erGOOOUY7d+5s1/szANNFXz8a+9HYi75+DMB4GIB/tm3bNh166KGaPn36Ht9n69atamhoaDm1tbXKskyFQkFNTU2dehobG1VZWanGxsZOvzaHvjTuHofG9E39xGpcKBQYgLFvYH/xX//1XyoqKtK6dev2+D7l5eVtfs5gRUWFKisrORwOh8PhJHAqKioYgLFvYH/xuc99ThMmTNjr+/AKYPc59KVxdzg0pm/qh1cA42EASnrzzTfVs2dPVVZWduh5fA5guujrR2M/GnvR1y9WYz4HkAEo6U8f2j3yyCO1ffv2Dj2PAZgu+vrR2I/GXvT1YwDGk/sB2NzcrEGDBummm27q8HMZgOmirx+N/WjsRV8/BmA8uR+AzzzzjLIs0/Llyzv8XAZguujrR2M/GnvR148BGE/uB2AIBmC66OtHYz8ae9HXjwEYDwMwAAMwXfT1o7Efjb3o68cAjIcBGIABmC76+tHYj8Ze9PVjAMbDAAzAAEwXff1o7EdjL/r6MQDjYQAGYACmi75+NPajsRd9/RiA8TAAAzAA00VfPxr70diLvn4MwHgYgAEYgOmirx+N/WjsRV8/BmA8DMAADMB00dePxn409qKvHwMwHgZgAAZguujrR2M/GnvR148BGA8DMAADMF309aOxH4296OvHAIyHARiAAZgu+vrR2I/GXvT1YwDGwwAMwABMF339aOxHYy/6+jEA42EABmAApou+fjT2o7EXff0YgPEwAAMwANNFXz8a+9HYi75+DMB4GIABGIDpoq8fjf1o7EVfPwZgPAzAAAzAdNHXj8Z+NPairx8DMB4GYAAGYLro60djPxp70dePARgPAzAAAzBd9PWjsR+NvejrxwCMhwEYgAGYLvr60diPxl709WMAxsMADMAATBd9/WjsR2Mv+voxAONhAAZgAKaLvn409qOxF339GIDxMAADMADTRV8/GvvR2Iu+fgzAeBiAARiA6aKvH439aOxFXz8GYDwMwAAMwHTR14/GfjT2oq8fAzAeBmAABmC66OtHYz8ae9HXjwEYDwMwAAMwXfT1o7Efjb3o68cAjIcBGIABmC76+tHYj8Ze9PVjAMbDAAzAAEwXff1o7EdjL/r6MQDjYQAGYACmi75+NPajsRd9/RiA8TAAAzAA00VfPxr70diLvn4MwHgYgAEYgOmirx+N/WjsRV8/BmA8DMAADMB00dePxn409qKvHwMwnlwPwD/84Q+68MILdcghh6hPnz466aSTtGjRonY/nwGYLvr60diPxl709WMAxpPbAfj+++9r8ODBuvjii/Xyyy9rzZo1+p//+R+tWrWq3ddgAKaLvn409qOxF339GIDx5HYA3nTTTfrsZz8bdA0GYLro60djPxp70dePARhPbgfgcccdp2uvvVbnnnuuDj/8cJ188sm6//779/qcrVu3qqGhoeXU1tYqyzIVCgU1NTV16mlsbFRlZaUaGxs7/doc+tK4exwa0zf1E6txoVBgAMa+gVhKS0tVWlqqKVOm6NVXX9W///u/q3fv3nrooYf2+Jzy8nJlWbbbqaioUGVlJYfD4XA4nARORUUFAzD2DcRSXFysz3zmM60eu/rqq3Xaaaft8Tm8Ath9Dn1p3B0Ojemb+uEVwHhyOwAHDRqkSy+9tNVj9913nwYMGNDua/A5gOmirx+N/WjsRV+/WI35HMAcD8Cvfe1ru30RyLXXXrvbq4J7wwBMF339aOxHYy/6+jEA48ntAHzllVfUq1cvTZ8+XStXrtQvfvEL9e3bVz//+c/bfQ0GYLro60djPxp70dePARhPbgegJD3xxBM64YQTVFpaqmOPPfZjvwp4VwzAdNHXj8Z+NPairx8DMJ5cD8BQDMB00dePxn409qKvHwMwHgZgAAZguujrR2M/GnvR148BGA8DMAADMF309aOxH4296OvHAIyHARiAAZgu+vrR2I/GXvT1YwDGwwAMwABMF339aOxHYy/6+jEA42EABmAApou+fjT2o7EXff0YgPEwAAMwANNFXz8a+9HYi75+DMB4GIABGIDpoq8fjf1o7EVfPwZgPAzAAAzAdNHXj8Z+NPairx8DMB4GYAAGYLro60djPxp70dePARgPAzAAAzBd9PWjsR+NvejrxwCMhwEYgAGYLvr60diPxl709WMAxsMADMAATBd9/WjsR2Mv+voxAONhAAZgAKaLvn409qOxF339GIDxMAADMADTRV8/GvvR2Iu+fgzAeBiAARiA6aKvH439aOxFXz8GYDwMwAAMwHTR14/GfjT2oq8fAzAeBmAABmC66OtHYz8ae9HXjwEYDwMwAAMwXfT1o7Efjb3o68cAjIcBGIABmC76+tHYj8Ze9PVjAMbDAAzAAEwXff1o7EdjL/r6MQDjYQAGYACmi75+NPajsRd9/RiA8TAAAzAA00VfPxr70diLvn4MwHgYgAEYgOmirx+N/WjsRV8/BmA8DMAADMB00dePxn409qKvHwMwHgZgAAZguujrR2M/GnvR148BGA8DMAADMF309aOxH4296OvHAIyHARiAAZgu+vrR2I/GXvT1YwDGwwAMwABMF339aOxHYy/6+jEA42EABmAApou+fjT2o7EXff0YgPEwAAMwANNFXz8a+9HYi75+DMB4GIABGIDpoq8fjf1o7EVfPwZgPLkdgOXl5cqyrNXp169fh67BAEwXff1o7EdjL/r6MQDjyfUAHDFihOrq6lrOu+++26FrMADTRV8/GvvR2Iu+fgzAeHI9AE866aSgazAA00VfPxr70diLvn4MwHhyPQD79u2r/v37a8iQITr//PP1xhtvdOgaDMB00dePxn409qKvHwMwntwOwLlz5+qxxx7TkiVLNG/ePI0dO1b9+vVToVDY43O2bt2qhoaGllNbW6ssy1QoFNTU1NSpp7GxUZWVlWpsbOz0a3PoS+PucWhM39RPrMaFQoEBGPsG9hebN29Wv3799MMf/nCP79PWF45kWaaKigpVVlZyOBwOh8NJ4FRUVDAAY9/A/uSMM87QFVdcsce38wpg9zn0pXF3ODSmb+qHVwDjYQD+2datW/WJT3xC06ZNa/dz+BzAdNHXj8Z+NPair1+sxnwOYI4H4PXXX6/nnntOq1ev1m9/+1tNmDBBBx54oN588812X4MBmC76+tHYj8Ze9PVjAMaT2wF4/vnnq3///iouLtaAAQN0zjnnqLq6ukPXYACmi75+NPajsRd9/RiA8eR2AHYGBmC66OtHYz8ae9HXjwEYDwMwAAMwXfT1o7Efjb3o68cAjIcBGIABmC76+tHYj8Ze9PVjAMbDAAzAAEwXff1o7EdjL/r6MQDjYQAGYACmi75+NPajsRd9/RiA8TAAAzAA00VfPxr70diLvn4MwHgYgAEYgOmirx+N/WjsRV8/BmA8DMAADMB00dePxn409qKvHwMwHgZgAAZguujrR2M/GnvR148BGA8DMAADMF309aOxH4296OvHAIyHARiAAZgu+vrR2I/GXvT1YwDGwwAMwABMF339aOxHYy/6+jEA42EABmAApou+fjT2o7EXff0YgPEwAAMwANNFXz8a+9HYi75+DMB4GIABGIDpoq8fjf1o7EVfPwZgPAzAAAzAdNHXj8Z+NPairx8DMB4GYAAGYLro60djPxp70dePARgPAzAAAzBd9PWjsR+NvejrxwCMhwEYgAGYLvr60diPxl709WMAxsMADMAATBd9/WjsR2Mv+voxAONhAAZgAKaLvn409qOxF339GIDxMAADMADTRV8/GvvR2Iu+fgzAeBiAARiA6aKvH439aOxFXz8GYDwMwAAMwHTR14/GfjT2oq8fAzAeBmAABmC66OtHYz8ae9HXjwEYDwMwAAMwXfT1o7Efjb3o68cAjIcBGIABmC76+tHYj8Ze9PVjAMbDAAzAAEwXff1o7EdjL/r6MQDjYQAGYACmi75+NPajsRd9/RiA8TAAAzAA00VfPxr70diLvn4MwHgYgAEYgOmirx+N/WjsRV8/BmA8DMAADMB00dePxn409qKvHwMwHgbgn912223KskyTJ09u93MYgOmirx+N/WjsRV8/BmA8DEBJr7zyioYMGaJPfepTDMCcoK8fjf1o7EVfPwZgPLkfgJs2bdLQoUM1b948jR07lgGYE/T1o7Efjb3o68cAjCf3A/DrX/+6rr32WkliAOYIff1o7EdjL/r6MQDjyfUAfPjhh3XCCSfogw8+kPTxA3Dr1q1qaGhoObW1tcqyTIVCQU1NTZ16GhsbVVlZqcbGxk6/Noe+NO4eh8b0Tf3EalwoFBiAsW8glrfeektHHHGEXnvttZbHPm4AlpeXK8uy3U5FRYUqKys5HA6Hw+EkcCoqKhiAsY4H+aEAABnZSURBVG8gltmzZyvLMhUVFbWcLMvUo0cPFRUVaceOHbs9h1cAu8+hL427w6ExfVM/vAIYT24H4MaNG7V06dJW59RTT9VFF12kpUuXtusafA5guujrR2M/GnvR1y9WYz4HMMcDsC18EUh+0NePxn409qKvHwMwHgbgRzAA84O+fjT2o7EXff0YgPEwAAMwANNFXz8a+9HYi75+DMB4GIABGIDpoq8fjf1o7EVfPwZgPAzAAAzAdNHXj8Z+NPairx8DMB4GYAAGYLro60djPxp70dePARgPAzAAAzBd9PWjsR+NvejrxwCMhwEYgAGYLvr60diPxl709WMAxsMADMAATBd9/WjsR2Mv+voxAONhAAZgAKaLvn409qOxF339GIDxMAADMADTRV8/GvvR2Iu+fgzAeBiAARiA6aKvH439aOxFXz8GYDwMwAAMwHTR14/GfjT2oq8fAzAeBmAABmC66OtHYz8ae9HXjwEYDwMwAAMwXfT1o7Efjb3o68cAjIcBGIABmC76+tHYj8Ze9PVjAMbDAAzAAEwXff1o7EdjL/r6MQDjYQAGYACmi75+NPajsRd9/RiA8TAAAzAA00VfPxr70diLvn4MwHgYgAEYgOmirx+N/WjsRV8/BmA8DMAADMB00dePxn409qKvHwMwHgZgAAZguujrR2M/GnvR148BGA8DMAADMF309aOxH4296OvHAIyHARiAAZgu+vrR2I/GXvT1YwDGwwAMwABMF339aOxHYy/6+jEA42EABmAApou+fjT2o7EXff0YgPEwAAMwANNFXz8a+9HYi75+DMB4GIABGIDpoq8fjf1o7EVfPwZgPAzAAAzAdNHXj8Z+NPairx8DMB4GYAAGYLro60djPxp70dePARgPAzAAAzBd9PWjsR+NvejrxwCMhwEYgAGYLvr60diPxl709WMAxsMADMAATBd9/WjsR2Mv+voxAONhAAZgAKaLvn409qOxF339GIDx5HYA3nfffTrxxBN14IEH6sADD9Rpp52muXPndugaDMB00dePxn409qKvHwMwntwOwF/96ld68skntXz5ci1fvly33HKLiouL9bvf/a7d12AApou+fjT2o7EXff0YgPHkdgC25eCDD9ZPf/rTdr8/AzBd9PWjsR+NvejrxwCMhwEoaceOHXr44YdVUlKi6urqdj+PAZgu+vrR2I/GXvT1YwDGk+sBuGTJEpWVlamoqEgHHXSQnnzyyb2+/9atW9XQ0NByamtrlWWZCoWCmpqaOvU0NjaqsrJSjY2NnX5tDn1p3D0Ojemb+onVuFAoMABj30BM27Zt08qVK/V///d/uvnmm3XYYYft9RXA8vJyZVm226moqFBlZSWHw+FwOJwETkVFBQMw9g3sT8aNG6dvfvObe3w7rwB2n0NfGneHQ2P6pn54BTAeBuBH/O3f/q0mTpzY7vfncwDTRV8/GvvR2Iu+frEa8zmAOR6AU6ZM0cKFC7VmzRotWbJEt9xyi3r27Klnn3223ddgAKaLvn409qOxF339GIDx5HYAXnLJJRo8eLBKSkp0+OGHa9y4cR0afxIDMGX09aOxH4296OvHAIwntwOwMzAA00VfPxr70diLvn4MwHgYgAEYgOmirx+N/WjsRV8/BmA8DMAADMB00dePxn409qKvHwMwHgZgAAZguujrR2M/GnvR148BGA8DMAADMF309aOxH4296OvHAIyHARiAAZgu+vrR2I/GXvT1YwDGwwAMwABMF339aOxHYy/6+jEA42EABmAApou+fjT2o7EXff0YgPEwAAMwANNFXz8a+9HYi75+DMB4GIABGIDpoq8fjf1o7EVfPwZgPAzAAAzAdNHXj8Z+NPairx8DMB4GYAAGYLro60djPxp70dePARgPAzAAAzBd9PWjsR+NvejrxwCMhwEYgAGYLvr60diPxl709WMAxsMADMAATBd9/WjsR2Mv+voxAONhAAZgAKaLvn409qOxF339GIDxMAADMADTRV8/GvvR2Iu+fgzAeBiAARiA6aKvH439aOxFXz8GYDwMwAAMwHTR14/GfjT2oq8fAzAeBmAABmC66OtHYz8ae9HXjwEYDwMwAAMwXfT1o7Efjb3o68cAjIcBGIABmC76+tHYj8Ze9PVjAMbDAAzAAEwXff1o7EdjL/r6MQDjYQAGYACmi75+NPajsRd9/RiA8TAAAzAA00VfPxr70diLvn4MwHgYgAEYgOmirx+N/WjsRV8/BmA8DMAADMB00dePxn409qKvHwMwHgZgAAZguujrR2M/GnvR148BGA8DMAADMF309aOxH4296OvHAIyHARiAAZgu+vrR2I/GXvT1YwDGwwAMwABMF339aOxHYy/6+jEA42EABmAApou+fjT2o7EXff0YgPHkdgDedtttOvXUU3XAAQfo8MMP15e+9CUtW7asQ9dgAKaLvn409qOxF339GIDx5HYAjh8/XjNnztTvfvc7vfbaazrrrLM0aNAgbd68ud3XYACmi75+NPajsRd9/RiA8eR2AO7q3XffVZZlWrBgQbufwwBMF339aOxHYy/6+jEA42EA/tnKlSuVZZmWLl3a7ucwANNFXz8a+9HYi75+DMB4GICSdu7cqS9+8Yv67Gc/u9f327p1qxoaGlpObW2tsixToVBQU1NTp57GxkZVVlaqsbGx06/NoS+Nu8ehMX1TP7EaFwoFBmDsG9gfXHnllRo8eLBqa2v3+n7l5eXKsmy3U1FRocrKSg6Hw+FwOAmciooKBmDsG4jtH//xHzVw4ECtXr36Y9+XVwC7z6EvjbvDoTF9Uz+8AhhPbgfgzp07ddVVV2nAgAFasWLFPl2DzwFMF339aOxHYy/6+sVqzOcA5ngATpo0SQcddJCee+451dXVtZwtW7a0+xoMwHTR14/GfjT2oq8fAzCe3A7Atj6XL8syzZw5s93XYACmi75+NPajsRd9/RiA8eR2AHYGBmC66OtHYz8ae9HXjwEYDwMwAAMwXfT1o7Efjb3o68cAjIcBGIABmC76+tHYj8Ze9PVjAMbDAAzAAEwXff1o7EdjL/r6MQDjYQAGYACmi75+NPajsRd9/RiA8TAAAzAA00VfPxr70diLvn4MwHgYgAEYgOmirx+N/WjsRV8/BmA8DMAADMB00dePxn409qKvHwMwHgZgAAZguujrR2M/GnvR148BGA8DMAADMF309aOxH4296OvHAIyHARiAAZgu+vrR2I/GXvT1YwDGwwAMwABMF339aOxHYy/6+jEA42EABmAApou+fjT2o7EXff0YgPEwAAMwANNFXz8a+9HYi75+DMB4GIABGIDpoq8fjf1o7EVfPwZgPAzAAAzAdNHXj8Z+NPairx8DMB4GYAAGYLro60djPxp70dePARgPAzAAAzBd9PWjsR+NvejrxwCMhwEYgAGYLvr60diPxl709WMAxsMADMAATBd9/WjsR2Mv+voxAONhAAZgAKaLvn409qOxF339GIDxMAADMADTRV8/GvvR2Iu+fgzAeBiAARiA6aKvH439aOxFXz8GYDwMwAAMwHTR14/GfjT2oq8fAzAeBmAABmC66OtHYz8ae9HXjwEYDwMwAAMwXfT1o7Efjb3o68cAjIcBGIABmC76+tHYj8Ze9PVjAMbDAAzAAEwXff1o7EdjL/r6MQDjYQAGYACmi75+NPajsRd9/RiA8TAAAzAA00VfPxr70diLvn4MwHgYgAEYgOmirx+N/WjsRV8/BmA8DMAADMB00dePxn409qKvHwMwHgZgAAZguujrR2M/GnvR148BGE+uB+CCBQs0YcIE9e/fX1mWafbs2R16PgMwXfT1o7Efjb3o68cAjCfXA3Du3LmaOnWqZs2axQDMGfr60diPxl709WMAxpPrAfhRDMB8oa8fjf1o7EVfPwZgPAzAP2vPANy6dasaGhpaTm1trbIsU6FQUFNTU6eexsZGVVZWqrGxsdOvzaEvjbvHoTF9Uz+xGhcKBQZg7BvYX7RnAJaXlyvLst1ORUWFKisrORwOh8PhJHAqKioYgLFvYH/BK4D5OvSlcXc4NKZv6odXAONhAP4ZnwOYL/T1o7Efjb3o6xerMZ8DyABswQDMF/r60diPxl709WMAxpPrAbhp0yZVVVWpqqpKWZbprrvuUlVVldauXduu5zMA00VfPxr70diLvn4MwHhyPQDnz5/f5hd1TJw4sV3PZwCmi75+NPajsRd9/RiA8eR6AIZiAKaLvn409qOxF339GIDxMAADMADTRV8/GvvR2Iu+fgzAeBiAARiA6aKvH439aOxFXz8GYDwMwAAMwHTR14/GfjT2oq8fAzAeBmAABmC66OtHYz8ae9HXjwEYDwMwAAMwXfT1o7Efjb3o68cAjIcBGIABmC76+tHYj8Ze9PVjAMbDAAzAAEwXff1o7EdjL/r6MQDjYQAGYACmi75+NPajsRd9/RiA8TAAAzAA00VfPxr70diLvn4MwHgYgAEYgOmirx+N/WjsRV8/BmA8DMAADMB00dePxn409qKvHwMwHgZgAAZguujrR2M/GnvR148BGA8DMAADMF309aOxH4296OvHAIyHARiAAZgu+vrR2I/GXvT1YwDGwwAMwABMF339aOxHYy/6+jEA42EABmAApou+fjT2o7EXff0YgPEwAAMwANNFXz8a+9HYi75+DMB4GIABGIDpoq8fjf1o7EVfPwZgPAzAAAzAdNHXj8Z+NPairx8DMB4GYAAGYLro60djPxp70dePARgPAzAAAzBd9PWjsR+NvejrxwCMhwEYgAGYLvr60diPxl709WMAxsMADMAATBd9/WjsR2Mv+voxAONhAAZgAKaLvn409qOxF339GIDxMAADMADTRV8/GvvR2Iu+fgzAeBiAARiA6aKvH439aOxFXz8GYDwMwAAMwHTR14/GfjT2oq8fAzAeBmAABmC66OtHYz8ae9HXjwEYDwMwAAMwXfT1o7Efjb3o68cAjIcBGIABmC76+tHYj8Ze9PVjAMbDAAzAAEwXff1o7EdjL/r6MQDjyf0AvPfeezVkyBCVlpZq5MiRWrhwYbufywBMF339aOxHYy/6+jEA48n1AHzkkUdUXFysBx54QDU1NZo8ebLKysq0du3adj2fAZgu+vrR2I/GXvT1YwDGk+sBOGrUKF1xxRWtHjv22GN18803t+v5DMB00dePxn409qKvHwMwntwOwG3btqmoqEiPP/54q8evueYajRkzps3nbN26VQ0NDS3nrbfeUpZlWrNmjQqFQqeeuro6VVRUqK6urtOvzaEvjbvHoTF9Uz+xGq9Zs0ZZlqm+vr4rJsd+KbcDcN26dcqyTC+++GKrx6dPn65hw4a1+Zzy8nJlWcbhcDgcDqcbnNra2q6YHPul3A/Al156qdXjt956q4YPH97mc3Z9BXDDhg164403VF9f3+rxzji1tbUtfzk7+9oc+tK4exwa0zf1E6txfX29amtr1dzc3BWTY7+U2wG4Lx8C7koNDXx+ghN9/WjsR2Mv+vrROJ7cDkDpT18EMmnSpFaPHXfcce3+IhAn/kfhRV8/GvvR2Iu+fjSOJ9cD8MNvAzNjxgzV1NTo2muvVVlZmd58883Yt8b/KMzo60djPxp70dePxvHkegBKf/pG0IMHD1ZJSYlGjhypBQsWxL4lSX/6fMPy8nJt3bo19q10S/T1o7Efjb3o60fjeHI/AAEAAPKGAQgAAJAzDEAAAICcYQACAADkDAMQAAAgZxiAkdx7770aMmSISktLNXLkSC1cuHCv7//cc89p5MiRKi0t1Sc/+Un95Cc/6aI7TVdHGs+aNUtnnHGGDjvsMB144IE67bTT9PTTT3fh3aapo3+PP/TCCy+oqKhIJ510kvkO09bRvlu3btUtt9yiQYMGqaSkREcffbRmzJjRRXebpo42/vnPf65PfepT6tOnj4488khdfPHFKhQKXXS3aVmwYIEmTJig/v37K8syzZ49+2Ofw791XYcBGMGH33/wgQceUE1NjSZPnqyysjKtXbu2zfdfvXq1+vbtq8mTJ6umpkYPPPCAiouL9dhjj3Xxnaejo40nT56s22+/Xa+88opWrFihKVOmqLi4WK+++moX33k6Otr4Q/X19Tr66KP1uc99jgG4F/vS9+yzz9bo0aM1b948rVmzRi+//PJuP+8c/7+ONn7++efVs2dP/du//ZtWr16t559/XiNGjNCXv/zlLr7zNMydO1dTp07VrFmz2jUA+beuazEAIxg1apSuuOKKVo8de+yxe/wJJDfeeKOOPfbYVo9dfvnlOu2002z3mLqONm7L8ccfr2nTpnX2rXUb+9r4/PPP17e+9S2Vl5czAPeio32feuopHXTQQXrvvfe64va6hY42vuOOO3T00Ue3euzuu+/WwIEDbffYXbRnAPJvXddiAHaxffkZxH/1V3+la665ptVjjz/+uHr16qWmpibbvaaqM37Oc3Nzs4466ijdc889jltM3r42/tnPfqZTTz1V27dvZwDuxb70nTRpksaNG6ebbrpJAwYM0NChQ3X99ddry5YtXXHLydmXxi+++KJKSkr05JNPaufOnXrnnXc0ZswYXX755V1xy0lrzwDk37quxQDsYuvWrVOWZbt9WGb69OkaNmxYm88ZOnSopk+f3uqxF198UVmW6e2337bda6r2pfGufvCDH+iQQw7R+vXrHbeYvH1pvGLFCh1xxBFavny5JDEA92Jf+o4fP16lpaU666yz9PLLL+vJJ5/U4MGD9Y1vfKMrbjk5+/rfiUcffVQHHHCAevXqpSzLdPbZZzNO2qE9A5B/67oWA7CLffgfnZdeeqnV47feequGDx/e5nOGDh2q2267rdVjL7zwgrIsU11dne1eU7UvjT+qoqJCffv21bx581y3mLyONt6xY4dOPfXUVp/QzQDcs335O3zmmWeqd+/eqq+vb3ls1qxZ6tGjB68CtmFfGldXV6t///76wQ9+oNdff11PP/20TjzxRF1yySVdcctJa+8A5N+6rsMA7GJ8CNgv5EPAjzzyiPr06aM5c+Y4bzF5HW28YcMGZVmmoqKiltOjR4+Wx37961931a0nYV/+Dn/961/XMccc0+qxmpoaZVmmFStW2O41VfvS+KKLLtK5557b6rHnn3+eV6jagQ8B738YgBGMGjVKkyZNavXYcccdt9cvAjnuuONaPXbFFVfwibF70dHG0p9e+evdu3e7vlUBOta4ublZS5cubXUmTZqk4cOHa+nSpdq8eXNX3XYyOvp3+D/+4z/Up08fbdq0qeWxyspK9ezZk1cA96Cjjc855xydd955rR576aWXlGWZ1q1bZ7vP7qC9XwTCv3VdhwEYwYffemDGjBmqqanRtddeq7KyMr355puSpJtvvll///d/3/L+H35p/D/90z+ppqZGM2bM4EvjP0ZHG1dUVKhXr1669957VVdX13I++uE0tNbRxrviQ8B719G+mzZt0sCBA3XuueequrpaCxYs0NChQ/UP//APsX4L+72ONp45c6Z69eql++67T2+88YZeeOEFnXrqqRo1alSs38J+bdOmTaqqqlJVVZWyLNNdd92lqqqqlm+zw791cTEAI7n33ns1ePBglZSUaOTIkVqwYEHL2yZOnKixY8e2ev/nnntOp5xyikpKSjRkyBC+OWY7dKTx2LFjlWXZbmfixIldf+MJ6ejf449iAH68jvb9/e9/rzPOOEN9+vTRwIEDdd111/Hq38foaOO7775bxx9/vPr06aP+/fvrwgsv1B/+8Icuvus0zJ8/f6//XeXfurgYgAAAADnDAAQAAMgZBiAAAEDOMAABAAByhgEIAACQMwxAAACAnGEAAgAA5AwDEAAAIGcYgAAAYL+yYMECTZgwQf3792/Xj5Fry9NPP63Ro0frgAMO0GGHHaZzzjlHq1evNtxtmhiAAABgvzJ37lxNnTpVs2bN2qcB+MYbb6i0tFRTpkzRqlWrtHjxYo0ZM0Ynn3yy6Y7TwwAEAAD7rbYG4LZt23TDDTdowIAB6tu3r0aNGqX58+e3vP3RRx9Vr1691Nzc3PLYr371K/Xo0UNNTU1ddev7NQYgAADYb7U1AC+44AKdfvrpWrhwoVatWqU77rhDpaWlWrFihSRpzZo1Ki0t1U9/+lPt2LFD9fX1+upXv6rx48fH+C3slxiAAABgv7XrAFy1apV69OihdevWtXq/cePGacqUKS2/XrBggY444ggVFRUpyzJ95jOf0YYNG7rsvvd3DEAAALDf2nUA/vKXv1SWZSorK2t1evXqpfPOO0+SVFdXp6FDh+qGG27Qq6++qgULFmjs2LEaN26cdu7cGeu3sl9hAAIAgP3WrgPwkUceUVFRkZYtW6aVK1e2OnV1dZKkb33rW/r0pz/d6jq1tbXKsky/+c1vuvT+91cMQAAAsN/adQAuX75cWZZp4cKFe3zOddddp1GjRrV67O2331aWZXrxxRdt95oSBiAAANivbNq0SVVVVaqqqlKWZbrrrrtUVVWltWvXSpIuvPBCDRkyRLNmzdLq1av1yiuv6Pvf/76efPJJSdKvf/1r9ejRQ9OmTdOKFSu0ePFijR8/XoMHD9aWLVti/tb2GwxAAACwX5k/f76yLNvtTJw4UZLU1NSkb3/72xoyZIiKi4t15JFH6itf+YqWLFnSco2HH35Yp5xyisrKynT44Yfr7LPP1u9///tIv6P9DwMQAAAgZxiAAAAAOcMABAAAyBkGIAAAQM4wAAEAAHKGAQgAAJAzDEAAAICcYQACAADkDAMQAAAgZxiAAAAAOcMABAAAyBkGIAAAQM4wAAEAAHKGAQgAAJAz/x9b599S9fGsQgAAAABJRU5ErkJggg==\" width=\"640\">"
      ],
      "text/plain": [
       "<IPython.core.display.HTML object>"
      ]
     },
     "metadata": {},
     "output_type": "display_data"
    },
    {
     "data": {
      "application/javascript": [
       "\n",
       "            setTimeout(function() {\n",
       "                var nbb_cell_id = 18;\n",
       "                var nbb_unformatted_code = \"%matplotlib notebook\\ncolor_peak_surroundings(\\n    atac_split, atac_indices, eco_split, eco_indices\\n)\";\n",
       "                var nbb_formatted_code = \"%matplotlib notebook\\ncolor_peak_surroundings(atac_split, atac_indices, eco_split, eco_indices)\";\n",
       "                var nbb_cells = Jupyter.notebook.get_cells();\n",
       "                for (var i = 0; i < nbb_cells.length; ++i) {\n",
       "                    if (nbb_cells[i].input_prompt_number == nbb_cell_id) {\n",
       "                        if (nbb_cells[i].get_text() == nbb_unformatted_code) {\n",
       "                             nbb_cells[i].set_text(nbb_formatted_code);\n",
       "                        }\n",
       "                        break;\n",
       "                    }\n",
       "                }\n",
       "            }, 500);\n",
       "            "
      ],
      "text/plain": [
       "<IPython.core.display.Javascript object>"
      ]
     },
     "metadata": {},
     "output_type": "display_data"
    }
   ],
   "source": [
    "%matplotlib notebook\n",
    "color_peak_surroundings(\n",
    "    atac_split, atac_indices, eco_split, eco_indices\n",
    ")\n"
   ]
  },
  {
   "cell_type": "markdown",
   "metadata": {},
   "source": [
    "### Distance Between Peaks"
   ]
  },
  {
   "cell_type": "code",
   "execution_count": 8,
   "metadata": {},
   "outputs": [
    {
     "data": {
      "application/javascript": [
       "\n",
       "            setTimeout(function() {\n",
       "                var nbb_cell_id = 8;\n",
       "                var nbb_unformatted_code = \"min_distance = np.min(\\n    scipy.spatial.distance.cdist(\\n        atac_indices[:, np.newaxis], eco_indices[:, np.newaxis]\\n    ),\\n    axis=1,\\n)\";\n",
       "                var nbb_formatted_code = \"min_distance = np.min(\\n    scipy.spatial.distance.cdist(\\n        atac_indices[:, np.newaxis], eco_indices[:, np.newaxis]\\n    ),\\n    axis=1,\\n)\";\n",
       "                var nbb_cells = Jupyter.notebook.get_cells();\n",
       "                for (var i = 0; i < nbb_cells.length; ++i) {\n",
       "                    if (nbb_cells[i].input_prompt_number == nbb_cell_id) {\n",
       "                        if (nbb_cells[i].get_text() == nbb_unformatted_code) {\n",
       "                             nbb_cells[i].set_text(nbb_formatted_code);\n",
       "                        }\n",
       "                        break;\n",
       "                    }\n",
       "                }\n",
       "            }, 500);\n",
       "            "
      ],
      "text/plain": [
       "<IPython.core.display.Javascript object>"
      ]
     },
     "metadata": {},
     "output_type": "display_data"
    }
   ],
   "source": [
    "min_distance = np.min(\n",
    "    scipy.spatial.distance.cdist(\n",
    "        atac_indices[:, np.newaxis], eco_indices[:, np.newaxis]\n",
    "    ),\n",
    "    axis=1,\n",
    ")"
   ]
  },
  {
   "cell_type": "code",
   "execution_count": 9,
   "metadata": {},
   "outputs": [
    {
     "data": {
      "text/plain": [
       "Text(0.5, 0, 'Distance [bp]')"
      ]
     },
     "execution_count": 9,
     "metadata": {},
     "output_type": "execute_result"
    },
    {
     "data": {
      "image/png": "[encoded data removed]",
      "text/plain": [
       "<Figure size 432x288 with 1 Axes>"
      ]
     },
     "metadata": {
      "needs_background": "light"
     },
     "output_type": "display_data"
    },
    {
     "data": {
      "application/javascript": [
       "\n",
       "            setTimeout(function() {\n",
       "                var nbb_cell_id = 9;\n",
       "                var nbb_unformatted_code = \"%matplotlib inline\\nfig, ax = plt.subplots()\\nax.hist(min_distance, bins=100)\\nax.set_yscale(\\\"log\\\")\\nax.set_title(\\\"Log distribution of the minimal distance between ATAC and Eco peaks\\\")\\nax.set_xlabel(\\\"Distance [bp]\\\")\";\n",
       "                var nbb_formatted_code = \"%matplotlib inline\\nfig, ax = plt.subplots()\\nax.hist(min_distance, bins=100)\\nax.set_yscale(\\\"log\\\")\\nax.set_title(\\\"Log distribution of the minimal distance between ATAC and Eco peaks\\\")\\nax.set_xlabel(\\\"Distance [bp]\\\")\";\n",
       "                var nbb_cells = Jupyter.notebook.get_cells();\n",
       "                for (var i = 0; i < nbb_cells.length; ++i) {\n",
       "                    if (nbb_cells[i].input_prompt_number == nbb_cell_id) {\n",
       "                        if (nbb_cells[i].get_text() == nbb_unformatted_code) {\n",
       "                             nbb_cells[i].set_text(nbb_formatted_code);\n",
       "                        }\n",
       "                        break;\n",
       "                    }\n",
       "                }\n",
       "            }, 500);\n",
       "            "
      ],
      "text/plain": [
       "<IPython.core.display.Javascript object>"
      ]
     },
     "metadata": {},
     "output_type": "display_data"
    }
   ],
   "source": [
    "%matplotlib inline\n",
    "fig, ax = plt.subplots()\n",
    "ax.hist(min_distance, bins=100)\n",
    "ax.set_yscale(\"log\")\n",
    "ax.set_title(\"Log distribution of the minimal distance between ATAC and Eco peaks\")\n",
    "ax.set_xlabel(\"Distance [bp]\")"
   ]
  },
  {
   "cell_type": "code",
   "execution_count": 10,
   "metadata": {
    "scrolled": false
   },
   "outputs": [
    {
     "data": {
      "text/plain": [
       "0.5110868377935555"
      ]
     },
     "execution_count": 10,
     "metadata": {},
     "output_type": "execute_result"
    },
    {
     "data": {
      "application/javascript": [
       "\n",
       "            setTimeout(function() {\n",
       "                var nbb_cell_id = 10;\n",
       "                var nbb_unformatted_code = \"len((min_distance[min_distance <= 1000])) / len(min_distance)\";\n",
       "                var nbb_formatted_code = \"len((min_distance[min_distance <= 1000])) / len(min_distance)\";\n",
       "                var nbb_cells = Jupyter.notebook.get_cells();\n",
       "                for (var i = 0; i < nbb_cells.length; ++i) {\n",
       "                    if (nbb_cells[i].input_prompt_number == nbb_cell_id) {\n",
       "                        if (nbb_cells[i].get_text() == nbb_unformatted_code) {\n",
       "                             nbb_cells[i].set_text(nbb_formatted_code);\n",
       "                        }\n",
       "                        break;\n",
       "                    }\n",
       "                }\n",
       "            }, 500);\n",
       "            "
      ],
      "text/plain": [
       "<IPython.core.display.Javascript object>"
      ]
     },
     "metadata": {},
     "output_type": "display_data"
    }
   ],
   "source": [
    "len((min_distance[min_distance <= 1000])) / len(min_distance)"
   ]
  },
  {
   "cell_type": "markdown",
   "metadata": {},
   "source": [
    "As shown by the calculation above, about 50% of peaks ATAC peaks are closer than 1 kb to the nearest Eco peak."
   ]
  },
  {
   "source": [
    "## ATAC Peak Widths"
   ],
   "cell_type": "markdown",
   "metadata": {}
  },
  {
   "source": [
    "It appears that the peak width determins whether that specific ATAC peaks refers to an open area or not. Thus we'll try to filter the peaks accordingly."
   ],
   "cell_type": "markdown",
   "metadata": {}
  },
  {
   "cell_type": "code",
   "execution_count": 2,
   "metadata": {},
   "outputs": [
    {
     "output_type": "stream",
     "name": "stdout",
     "text": [
      "table narrowPeak\n\"BED6+4 Peaks of signal enrichment based on pooled, normalized (interpreted) data.\"\n(\n    string chrom;        \"Reference sequence chromosome or scaffold\"\n    uint   chromStart;   \"Start position in chromosome\"\n    uint   chromEnd;     \"End position in chromosome\"\n    string name;     \"Name given to a region (preferably unique). Use . if no name is assigned\"\n    uint   score;        \"Indicates how dark the peak will be displayed in the browser (0-1000) \"\n    char[1]  strand;     \"+ or - or . for unknown\"\n    float  signalValue;  \"Measurement of average enrichment for the region\"\n    float  pValue;       \"Statistical significance of signal value (-log10). Set to -1 if not used.\"\n    float  qValue;       \"Statistical significance with multiple-test correction applied (FDR -log10). Set to -1 if not used.\"\n    int   peak;         \"Point-source called for this peak; 0-based offset from chromStart. Set to -1 if no point-source called.\"\n)\n\n"
     ]
    }
   ],
   "source": [
    "import pyBigWig\n",
    "\n",
    "bb = pyBigWig.open(\"/mnt/saphyr/Saphyr_Data/DAM_DLE_VHL_DLE/Hagai/ENCFF220HIK.bigBed\")\n",
    "print(bb.SQL().decode())"
   ]
  },
  {
   "source": [
    "The columns of this BigBed file contain the chrom start and end values. Their distribution should follow the same one seen in papers for fragment sizes. We'll try to find it ourselves."
   ],
   "cell_type": "markdown",
   "metadata": {}
  },
  {
   "cell_type": "code",
   "execution_count": 42,
   "metadata": {},
   "outputs": [
    {
     "output_type": "execute_result",
     "data": {
      "text/plain": [
       "(array([319., 532., 405., 357., 372., 277., 247., 283., 204., 198., 166.,\n",
       "        124., 153., 139., 131., 105., 104., 103.,  74.,  85.,  73.,  61.,\n",
       "         51.,  47.,  34.,  22.,  21.,  23.,  20.,  13.,   9.,   9.,   8.,\n",
       "         11.,   3.,   3.,   3.,   4.,   1.,   2.,   0.,   0.,   0.,   0.,\n",
       "          0.,   0.,   1.,   0.,   0.,   1.]),\n",
       " array([ 150.  ,  211.82,  273.64,  335.46,  397.28,  459.1 ,  520.92,\n",
       "         582.74,  644.56,  706.38,  768.2 ,  830.02,  891.84,  953.66,\n",
       "        1015.48, 1077.3 , 1139.12, 1200.94, 1262.76, 1324.58, 1386.4 ,\n",
       "        1448.22, 1510.04, 1571.86, 1633.68, 1695.5 , 1757.32, 1819.14,\n",
       "        1880.96, 1942.78, 2004.6 , 2066.42, 2128.24, 2190.06, 2251.88,\n",
       "        2313.7 , 2375.52, 2437.34, 2499.16, 2560.98, 2622.8 , 2684.62,\n",
       "        2746.44, 2808.26, 2870.08, 2931.9 , 2993.72, 3055.54, 3117.36,\n",
       "        3179.18, 3241.  ]),\n",
       " <BarContainer object of 50 artists>)"
      ]
     },
     "metadata": {},
     "execution_count": 42
    },
    {
     "output_type": "display_data",
     "data": {
      "text/plain": "<Figure size 432x288 with 1 Axes>",
      "image/svg+xml": "<?xml version=\"1.0\" encoding=\"utf-8\" standalone=\"no\"?>\n<!DOCTYPE svg PUBLIC \"-//W3C//DTD SVG 1.1//EN\"\n  \"http://www.w3.org/Graphics/SVG/1.1/DTD/svg11.dtd\">\n<!-- Created with matplotlib (https://matplotlib.org/) -->\n<svg height=\"248.518125pt\" version=\"1.1\" viewBox=\"0 0 375.2875 248.518125\" width=\"375.2875pt\" xmlns=\"http://www.w3.org/2000/svg\" xmlns:xlink=\"http://www.w3.org/1999/xlink\">\n <metadata>\n  <rdf:RDF xmlns:cc=\"http://creativecommons.org/ns#\" xmlns:dc=\"http://purl.org/dc/elements/1.1/\" xmlns:rdf=\"http://www.w3.org/1999/02/22-rdf-syntax-ns#\">\n   <cc:Work>\n    <dc:type rdf:resource=\"http://purl.org/dc/dcmitype/StillImage\"/>\n    <dc:date>2021-01-12T11:34:08.428870</dc:date>\n    <dc:format>image/svg+xml</dc:format>\n    <dc:creator>\n     <cc:Agent>\n      <dc:title>Matplotlib v3.3.2, https://matplotlib.org/</dc:title>\n     </cc:Agent>\n    </dc:creator>\n   </cc:Work>\n  </rdf:RDF>\n </metadata>\n <defs>\n  <style type=\"text/css\">*{stroke-linecap:butt;stroke-linejoin:round;}</style>\n </defs>\n <g id=\"figure_1\">\n  <g id=\"patch_1\">\n   <path d=\"M 0 248.518125 \nL 375.2875 248.518125 \nL 375.2875 0 \nL 0 0 \nz\n\" style=\"fill:none;\"/>\n  </g>\n  <g id=\"axes_1\">\n   <g id=\"patch_2\">\n    <path d=\"M 33.2875 224.64 \nL 368.0875 224.64 \nL 368.0875 7.2 \nL 33.2875 7.2 \nz\n\" style=\"fill:#ffffff;\"/>\n   </g>\n   <g id=\"patch_3\">\n    <path clip-path=\"url(#pf2d445ecc7)\" d=\"M 48.505682 224.64 \nL 54.592955 224.64 \nL 54.592955 100.466423 \nL 48.505682 100.466423 \nz\n\" style=\"fill:#1f77b4;\"/>\n   </g>\n   <g id=\"patch_4\">\n    <path clip-path=\"url(#pf2d445ecc7)\" d=\"M 54.592955 224.64 \nL 60.680227 224.64 \nL 60.680227 17.554286 \nL 54.592955 17.554286 \nz\n\" style=\"fill:#1f77b4;\"/>\n   </g>\n   <g id=\"patch_5\">\n    <path clip-path=\"url(#pf2d445ecc7)\" d=\"M 60.680227 224.64 \nL 66.7675 224.64 \nL 66.7675 66.990161 \nL 60.680227 66.990161 \nz\n\" style=\"fill:#1f77b4;\"/>\n   </g>\n   <g id=\"patch_6\">\n    <path clip-path=\"url(#pf2d445ecc7)\" d=\"M 66.7675 224.64 \nL 72.854773 224.64 \nL 72.854773 85.674586 \nL 66.7675 85.674586 \nz\n\" style=\"fill:#1f77b4;\"/>\n   </g>\n   <g id=\"patch_7\">\n    <path clip-path=\"url(#pf2d445ecc7)\" d=\"M 72.854773 224.64 \nL 78.942045 224.64 \nL 78.942045 79.835704 \nL 72.854773 79.835704 \nz\n\" style=\"fill:#1f77b4;\"/>\n   </g>\n   <g id=\"patch_8\">\n    <path clip-path=\"url(#pf2d445ecc7)\" d=\"M 78.942045 224.64 \nL 85.029318 224.64 \nL 85.029318 116.815295 \nL 78.942045 116.815295 \nz\n\" style=\"fill:#1f77b4;\"/>\n   </g>\n   <g id=\"patch_9\">\n    <path clip-path=\"url(#pf2d445ecc7)\" d=\"M 85.029318 224.64 \nL 91.116591 224.64 \nL 91.116591 128.493061 \nL 85.029318 128.493061 \nz\n\" style=\"fill:#1f77b4;\"/>\n   </g>\n   <g id=\"patch_10\">\n    <path clip-path=\"url(#pf2d445ecc7)\" d=\"M 91.116591 224.64 \nL 97.203864 224.64 \nL 97.203864 114.479742 \nL 91.116591 114.479742 \nz\n\" style=\"fill:#1f77b4;\"/>\n   </g>\n   <g id=\"patch_11\">\n    <path clip-path=\"url(#pf2d445ecc7)\" d=\"M 97.203864 224.64 \nL 103.291136 224.64 \nL 103.291136 145.231192 \nL 97.203864 145.231192 \nz\n\" style=\"fill:#1f77b4;\"/>\n   </g>\n   <g id=\"patch_12\">\n    <path clip-path=\"url(#pf2d445ecc7)\" d=\"M 103.291136 224.64 \nL 109.378409 224.64 \nL 109.378409 147.566745 \nL 103.291136 147.566745 \nz\n\" style=\"fill:#1f77b4;\"/>\n   </g>\n   <g id=\"patch_13\">\n    <path clip-path=\"url(#pf2d445ecc7)\" d=\"M 109.378409 224.64 \nL 115.465682 224.64 \nL 115.465682 160.023029 \nL 109.378409 160.023029 \nz\n\" style=\"fill:#1f77b4;\"/>\n   </g>\n   <g id=\"patch_14\">\n    <path clip-path=\"url(#pf2d445ecc7)\" d=\"M 115.465682 224.64 \nL 121.552955 224.64 \nL 121.552955 176.371901 \nL 115.465682 176.371901 \nz\n\" style=\"fill:#1f77b4;\"/>\n   </g>\n   <g id=\"patch_15\">\n    <path clip-path=\"url(#pf2d445ecc7)\" d=\"M 121.552955 224.64 \nL 127.640227 224.64 \nL 127.640227 165.083394 \nL 121.552955 165.083394 \nz\n\" style=\"fill:#1f77b4;\"/>\n   </g>\n   <g id=\"patch_16\">\n    <path clip-path=\"url(#pf2d445ecc7)\" d=\"M 127.640227 224.64 \nL 133.7275 224.64 \nL 133.7275 170.533018 \nL 127.640227 170.533018 \nz\n\" style=\"fill:#1f77b4;\"/>\n   </g>\n   <g id=\"patch_17\">\n    <path clip-path=\"url(#pf2d445ecc7)\" d=\"M 133.7275 224.64 \nL 139.814773 224.64 \nL 139.814773 173.647089 \nL 133.7275 173.647089 \nz\n\" style=\"fill:#1f77b4;\"/>\n   </g>\n   <g id=\"patch_18\">\n    <path clip-path=\"url(#pf2d445ecc7)\" d=\"M 139.814773 224.64 \nL 145.902045 224.64 \nL 145.902045 183.76782 \nL 139.814773 183.76782 \nz\n\" style=\"fill:#1f77b4;\"/>\n   </g>\n   <g id=\"patch_19\">\n    <path clip-path=\"url(#pf2d445ecc7)\" d=\"M 145.902045 224.64 \nL 151.989318 224.64 \nL 151.989318 184.157078 \nL 145.902045 184.157078 \nz\n\" style=\"fill:#1f77b4;\"/>\n   </g>\n   <g id=\"patch_20\">\n    <path clip-path=\"url(#pf2d445ecc7)\" d=\"M 151.989318 224.64 \nL 158.076591 224.64 \nL 158.076591 184.546337 \nL 151.989318 184.546337 \nz\n\" style=\"fill:#1f77b4;\"/>\n   </g>\n   <g id=\"patch_21\">\n    <path clip-path=\"url(#pf2d445ecc7)\" d=\"M 158.076591 224.64 \nL 164.163864 224.64 \nL 164.163864 195.834844 \nL 158.076591 195.834844 \nz\n\" style=\"fill:#1f77b4;\"/>\n   </g>\n   <g id=\"patch_22\">\n    <path clip-path=\"url(#pf2d445ecc7)\" d=\"M 164.163864 224.64 \nL 170.251136 224.64 \nL 170.251136 191.552997 \nL 164.163864 191.552997 \nz\n\" style=\"fill:#1f77b4;\"/>\n   </g>\n   <g id=\"patch_23\">\n    <path clip-path=\"url(#pf2d445ecc7)\" d=\"M 170.251136 224.64 \nL 176.338409 224.64 \nL 176.338409 196.224103 \nL 170.251136 196.224103 \nz\n\" style=\"fill:#1f77b4;\"/>\n   </g>\n   <g id=\"patch_24\">\n    <path clip-path=\"url(#pf2d445ecc7)\" d=\"M 176.338409 224.64 \nL 182.425682 224.64 \nL 182.425682 200.895209 \nL 176.338409 200.895209 \nz\n\" style=\"fill:#1f77b4;\"/>\n   </g>\n   <g id=\"patch_25\">\n    <path clip-path=\"url(#pf2d445ecc7)\" d=\"M 182.425682 224.64 \nL 188.512955 224.64 \nL 188.512955 204.787798 \nL 182.425682 204.787798 \nz\n\" style=\"fill:#1f77b4;\"/>\n   </g>\n   <g id=\"patch_26\">\n    <path clip-path=\"url(#pf2d445ecc7)\" d=\"M 188.512955 224.64 \nL 194.600227 224.64 \nL 194.600227 206.344834 \nL 188.512955 206.344834 \nz\n\" style=\"fill:#1f77b4;\"/>\n   </g>\n   <g id=\"patch_27\">\n    <path clip-path=\"url(#pf2d445ecc7)\" d=\"M 194.600227 224.64 \nL 200.6875 224.64 \nL 200.6875 211.405199 \nL 194.600227 211.405199 \nz\n\" style=\"fill:#1f77b4;\"/>\n   </g>\n   <g id=\"patch_28\">\n    <path clip-path=\"url(#pf2d445ecc7)\" d=\"M 200.6875 224.64 \nL 206.774773 224.64 \nL 206.774773 216.076305 \nL 200.6875 216.076305 \nz\n\" style=\"fill:#1f77b4;\"/>\n   </g>\n   <g id=\"patch_29\">\n    <path clip-path=\"url(#pf2d445ecc7)\" d=\"M 206.774773 224.64 \nL 212.862045 224.64 \nL 212.862045 216.465564 \nL 206.774773 216.465564 \nz\n\" style=\"fill:#1f77b4;\"/>\n   </g>\n   <g id=\"patch_30\">\n    <path clip-path=\"url(#pf2d445ecc7)\" d=\"M 212.862045 224.64 \nL 218.949318 224.64 \nL 218.949318 215.687046 \nL 212.862045 215.687046 \nz\n\" style=\"fill:#1f77b4;\"/>\n   </g>\n   <g id=\"patch_31\">\n    <path clip-path=\"url(#pf2d445ecc7)\" d=\"M 218.949318 224.64 \nL 225.036591 224.64 \nL 225.036591 216.854823 \nL 218.949318 216.854823 \nz\n\" style=\"fill:#1f77b4;\"/>\n   </g>\n   <g id=\"patch_32\">\n    <path clip-path=\"url(#pf2d445ecc7)\" d=\"M 225.036591 224.64 \nL 231.123864 224.64 \nL 231.123864 219.579635 \nL 225.036591 219.579635 \nz\n\" style=\"fill:#1f77b4;\"/>\n   </g>\n   <g id=\"patch_33\">\n    <path clip-path=\"url(#pf2d445ecc7)\" d=\"M 231.123864 224.64 \nL 237.211136 224.64 \nL 237.211136 221.13667 \nL 231.123864 221.13667 \nz\n\" style=\"fill:#1f77b4;\"/>\n   </g>\n   <g id=\"patch_34\">\n    <path clip-path=\"url(#pf2d445ecc7)\" d=\"M 237.211136 224.64 \nL 243.298409 224.64 \nL 243.298409 221.13667 \nL 237.211136 221.13667 \nz\n\" style=\"fill:#1f77b4;\"/>\n   </g>\n   <g id=\"patch_35\">\n    <path clip-path=\"url(#pf2d445ecc7)\" d=\"M 243.298409 224.64 \nL 249.385682 224.64 \nL 249.385682 221.525929 \nL 243.298409 221.525929 \nz\n\" style=\"fill:#1f77b4;\"/>\n   </g>\n   <g id=\"patch_36\">\n    <path clip-path=\"url(#pf2d445ecc7)\" d=\"M 249.385682 224.64 \nL 255.472955 224.64 \nL 255.472955 220.358153 \nL 249.385682 220.358153 \nz\n\" style=\"fill:#1f77b4;\"/>\n   </g>\n   <g id=\"patch_37\">\n    <path clip-path=\"url(#pf2d445ecc7)\" d=\"M 255.472955 224.64 \nL 261.560227 224.64 \nL 261.560227 223.472223 \nL 255.472955 223.472223 \nz\n\" style=\"fill:#1f77b4;\"/>\n   </g>\n   <g id=\"patch_38\">\n    <path clip-path=\"url(#pf2d445ecc7)\" d=\"M 261.560227 224.64 \nL 267.6475 224.64 \nL 267.6475 223.472223 \nL 261.560227 223.472223 \nz\n\" style=\"fill:#1f77b4;\"/>\n   </g>\n   <g id=\"patch_39\">\n    <path clip-path=\"url(#pf2d445ecc7)\" d=\"M 267.6475 224.64 \nL 273.734773 224.64 \nL 273.734773 223.472223 \nL 267.6475 223.472223 \nz\n\" style=\"fill:#1f77b4;\"/>\n   </g>\n   <g id=\"patch_40\">\n    <path clip-path=\"url(#pf2d445ecc7)\" d=\"M 273.734773 224.64 \nL 279.822045 224.64 \nL 279.822045 223.082965 \nL 273.734773 223.082965 \nz\n\" style=\"fill:#1f77b4;\"/>\n   </g>\n   <g id=\"patch_41\">\n    <path clip-path=\"url(#pf2d445ecc7)\" d=\"M 279.822045 224.64 \nL 285.909318 224.64 \nL 285.909318 224.250741 \nL 279.822045 224.250741 \nz\n\" style=\"fill:#1f77b4;\"/>\n   </g>\n   <g id=\"patch_42\">\n    <path clip-path=\"url(#pf2d445ecc7)\" d=\"M 285.909318 224.64 \nL 291.996591 224.64 \nL 291.996591 223.861482 \nL 285.909318 223.861482 \nz\n\" style=\"fill:#1f77b4;\"/>\n   </g>\n   <g id=\"patch_43\">\n    <path clip-path=\"url(#pf2d445ecc7)\" d=\"M 291.996591 224.64 \nL 298.083864 224.64 \nL 298.083864 224.64 \nL 291.996591 224.64 \nz\n\" style=\"fill:#1f77b4;\"/>\n   </g>\n   <g id=\"patch_44\">\n    <path clip-path=\"url(#pf2d445ecc7)\" d=\"M 298.083864 224.64 \nL 304.171136 224.64 \nL 304.171136 224.64 \nL 298.083864 224.64 \nz\n\" style=\"fill:#1f77b4;\"/>\n   </g>\n   <g id=\"patch_45\">\n    <path clip-path=\"url(#pf2d445ecc7)\" d=\"M 304.171136 224.64 \nL 310.258409 224.64 \nL 310.258409 224.64 \nL 304.171136 224.64 \nz\n\" style=\"fill:#1f77b4;\"/>\n   </g>\n   <g id=\"patch_46\">\n    <path clip-path=\"url(#pf2d445ecc7)\" d=\"M 310.258409 224.64 \nL 316.345682 224.64 \nL 316.345682 224.64 \nL 310.258409 224.64 \nz\n\" style=\"fill:#1f77b4;\"/>\n   </g>\n   <g id=\"patch_47\">\n    <path clip-path=\"url(#pf2d445ecc7)\" d=\"M 316.345682 224.64 \nL 322.432955 224.64 \nL 322.432955 224.64 \nL 316.345682 224.64 \nz\n\" style=\"fill:#1f77b4;\"/>\n   </g>\n   <g id=\"patch_48\">\n    <path clip-path=\"url(#pf2d445ecc7)\" d=\"M 322.432955 224.64 \nL 328.520227 224.64 \nL 328.520227 224.64 \nL 322.432955 224.64 \nz\n\" style=\"fill:#1f77b4;\"/>\n   </g>\n   <g id=\"patch_49\">\n    <path clip-path=\"url(#pf2d445ecc7)\" d=\"M 328.520227 224.64 \nL 334.6075 224.64 \nL 334.6075 224.250741 \nL 328.520227 224.250741 \nz\n\" style=\"fill:#1f77b4;\"/>\n   </g>\n   <g id=\"patch_50\">\n    <path clip-path=\"url(#pf2d445ecc7)\" d=\"M 334.6075 224.64 \nL 340.694773 224.64 \nL 340.694773 224.64 \nL 334.6075 224.64 \nz\n\" style=\"fill:#1f77b4;\"/>\n   </g>\n   <g id=\"patch_51\">\n    <path clip-path=\"url(#pf2d445ecc7)\" d=\"M 340.694773 224.64 \nL 346.782045 224.64 \nL 346.782045 224.64 \nL 340.694773 224.64 \nz\n\" style=\"fill:#1f77b4;\"/>\n   </g>\n   <g id=\"patch_52\">\n    <path clip-path=\"url(#pf2d445ecc7)\" d=\"M 346.782045 224.64 \nL 352.869318 224.64 \nL 352.869318 224.250741 \nL 346.782045 224.250741 \nz\n\" style=\"fill:#1f77b4;\"/>\n   </g>\n   <g id=\"matplotlib.axis_1\">\n    <g id=\"xtick_1\">\n     <g id=\"line2d_1\">\n      <defs>\n       <path d=\"M 0 0 \nL 0 3.5 \n\" id=\"mf7e089aa20\" style=\"stroke:#000000;stroke-width:0.8;\"/>\n      </defs>\n      <g>\n       <use style=\"stroke:#000000;stroke-width:0.8;\" x=\"33.735528\" xlink:href=\"#mf7e089aa20\" y=\"224.64\"/>\n      </g>\n     </g>\n     <g id=\"text_1\">\n      <!-- 0 -->\n      <g transform=\"translate(30.554278 239.238437)scale(0.1 -0.1)\">\n       <defs>\n        <path d=\"M 31.78125 66.40625 \nQ 24.171875 66.40625 20.328125 58.90625 \nQ 16.5 51.421875 16.5 36.375 \nQ 16.5 21.390625 20.328125 13.890625 \nQ 24.171875 6.390625 31.78125 6.390625 \nQ 39.453125 6.390625 43.28125 13.890625 \nQ 47.125 21.390625 47.125 36.375 \nQ 47.125 51.421875 43.28125 58.90625 \nQ 39.453125 66.40625 31.78125 66.40625 \nz\nM 31.78125 74.21875 \nQ 44.046875 74.21875 50.515625 64.515625 \nQ 56.984375 54.828125 56.984375 36.375 \nQ 56.984375 17.96875 50.515625 8.265625 \nQ 44.046875 -1.421875 31.78125 -1.421875 \nQ 19.53125 -1.421875 13.0625 8.265625 \nQ 6.59375 17.96875 6.59375 36.375 \nQ 6.59375 54.828125 13.0625 64.515625 \nQ 19.53125 74.21875 31.78125 74.21875 \nz\n\" id=\"DejaVuSans-48\"/>\n       </defs>\n       <use xlink:href=\"#DejaVuSans-48\"/>\n      </g>\n     </g>\n    </g>\n    <g id=\"xtick_2\">\n     <g id=\"line2d_2\">\n      <g>\n       <use style=\"stroke:#000000;stroke-width:0.8;\" x=\"82.969374\" xlink:href=\"#mf7e089aa20\" y=\"224.64\"/>\n      </g>\n     </g>\n     <g id=\"text_2\">\n      <!-- 500 -->\n      <g transform=\"translate(73.425624 239.238437)scale(0.1 -0.1)\">\n       <defs>\n        <path d=\"M 10.796875 72.90625 \nL 49.515625 72.90625 \nL 49.515625 64.59375 \nL 19.828125 64.59375 \nL 19.828125 46.734375 \nQ 21.96875 47.46875 24.109375 47.828125 \nQ 26.265625 48.1875 28.421875 48.1875 \nQ 40.625 48.1875 47.75 41.5 \nQ 54.890625 34.8125 54.890625 23.390625 \nQ 54.890625 11.625 47.5625 5.09375 \nQ 40.234375 -1.421875 26.90625 -1.421875 \nQ 22.3125 -1.421875 17.546875 -0.640625 \nQ 12.796875 0.140625 7.71875 1.703125 \nL 7.71875 11.625 \nQ 12.109375 9.234375 16.796875 8.0625 \nQ 21.484375 6.890625 26.703125 6.890625 \nQ 35.15625 6.890625 40.078125 11.328125 \nQ 45.015625 15.765625 45.015625 23.390625 \nQ 45.015625 31 40.078125 35.4375 \nQ 35.15625 39.890625 26.703125 39.890625 \nQ 22.75 39.890625 18.8125 39.015625 \nQ 14.890625 38.140625 10.796875 36.28125 \nz\n\" id=\"DejaVuSans-53\"/>\n       </defs>\n       <use xlink:href=\"#DejaVuSans-53\"/>\n       <use x=\"63.623047\" xlink:href=\"#DejaVuSans-48\"/>\n       <use x=\"127.246094\" xlink:href=\"#DejaVuSans-48\"/>\n      </g>\n     </g>\n    </g>\n    <g id=\"xtick_3\">\n     <g id=\"line2d_3\">\n      <g>\n       <use style=\"stroke:#000000;stroke-width:0.8;\" x=\"132.20322\" xlink:href=\"#mf7e089aa20\" y=\"224.64\"/>\n      </g>\n     </g>\n     <g id=\"text_3\">\n      <!-- 1000 -->\n      <g transform=\"translate(119.47822 239.238437)scale(0.1 -0.1)\">\n       <defs>\n        <path d=\"M 12.40625 8.296875 \nL 28.515625 8.296875 \nL 28.515625 63.921875 \nL 10.984375 60.40625 \nL 10.984375 69.390625 \nL 28.421875 72.90625 \nL 38.28125 72.90625 \nL 38.28125 8.296875 \nL 54.390625 8.296875 \nL 54.390625 0 \nL 12.40625 0 \nz\n\" id=\"DejaVuSans-49\"/>\n       </defs>\n       <use xlink:href=\"#DejaVuSans-49\"/>\n       <use x=\"63.623047\" xlink:href=\"#DejaVuSans-48\"/>\n       <use x=\"127.246094\" xlink:href=\"#DejaVuSans-48\"/>\n       <use x=\"190.869141\" xlink:href=\"#DejaVuSans-48\"/>\n      </g>\n     </g>\n    </g>\n    <g id=\"xtick_4\">\n     <g id=\"line2d_4\">\n      <g>\n       <use style=\"stroke:#000000;stroke-width:0.8;\" x=\"181.437066\" xlink:href=\"#mf7e089aa20\" y=\"224.64\"/>\n      </g>\n     </g>\n     <g id=\"text_4\">\n      <!-- 1500 -->\n      <g transform=\"translate(168.712066 239.238437)scale(0.1 -0.1)\">\n       <use xlink:href=\"#DejaVuSans-49\"/>\n       <use x=\"63.623047\" xlink:href=\"#DejaVuSans-53\"/>\n       <use x=\"127.246094\" xlink:href=\"#DejaVuSans-48\"/>\n       <use x=\"190.869141\" xlink:href=\"#DejaVuSans-48\"/>\n      </g>\n     </g>\n    </g>\n    <g id=\"xtick_5\">\n     <g id=\"line2d_5\">\n      <g>\n       <use style=\"stroke:#000000;stroke-width:0.8;\" x=\"230.670912\" xlink:href=\"#mf7e089aa20\" y=\"224.64\"/>\n      </g>\n     </g>\n     <g id=\"text_5\">\n      <!-- 2000 -->\n      <g transform=\"translate(217.945912 239.238437)scale(0.1 -0.1)\">\n       <defs>\n        <path d=\"M 19.1875 8.296875 \nL 53.609375 8.296875 \nL 53.609375 0 \nL 7.328125 0 \nL 7.328125 8.296875 \nQ 12.9375 14.109375 22.625 23.890625 \nQ 32.328125 33.6875 34.8125 36.53125 \nQ 39.546875 41.84375 41.421875 45.53125 \nQ 43.3125 49.21875 43.3125 52.78125 \nQ 43.3125 58.59375 39.234375 62.25 \nQ 35.15625 65.921875 28.609375 65.921875 \nQ 23.96875 65.921875 18.8125 64.3125 \nQ 13.671875 62.703125 7.8125 59.421875 \nL 7.8125 69.390625 \nQ 13.765625 71.78125 18.9375 73 \nQ 24.125 74.21875 28.421875 74.21875 \nQ 39.75 74.21875 46.484375 68.546875 \nQ 53.21875 62.890625 53.21875 53.421875 \nQ 53.21875 48.921875 51.53125 44.890625 \nQ 49.859375 40.875 45.40625 35.40625 \nQ 44.1875 33.984375 37.640625 27.21875 \nQ 31.109375 20.453125 19.1875 8.296875 \nz\n\" id=\"DejaVuSans-50\"/>\n       </defs>\n       <use xlink:href=\"#DejaVuSans-50\"/>\n       <use x=\"63.623047\" xlink:href=\"#DejaVuSans-48\"/>\n       <use x=\"127.246094\" xlink:href=\"#DejaVuSans-48\"/>\n       <use x=\"190.869141\" xlink:href=\"#DejaVuSans-48\"/>\n      </g>\n     </g>\n    </g>\n    <g id=\"xtick_6\">\n     <g id=\"line2d_6\">\n      <g>\n       <use style=\"stroke:#000000;stroke-width:0.8;\" x=\"279.904758\" xlink:href=\"#mf7e089aa20\" y=\"224.64\"/>\n      </g>\n     </g>\n     <g id=\"text_6\">\n      <!-- 2500 -->\n      <g transform=\"translate(267.179758 239.238437)scale(0.1 -0.1)\">\n       <use xlink:href=\"#DejaVuSans-50\"/>\n       <use x=\"63.623047\" xlink:href=\"#DejaVuSans-53\"/>\n       <use x=\"127.246094\" xlink:href=\"#DejaVuSans-48\"/>\n       <use x=\"190.869141\" xlink:href=\"#DejaVuSans-48\"/>\n      </g>\n     </g>\n    </g>\n    <g id=\"xtick_7\">\n     <g id=\"line2d_7\">\n      <g>\n       <use style=\"stroke:#000000;stroke-width:0.8;\" x=\"329.138604\" xlink:href=\"#mf7e089aa20\" y=\"224.64\"/>\n      </g>\n     </g>\n     <g id=\"text_7\">\n      <!-- 3000 -->\n      <g transform=\"translate(316.413604 239.238437)scale(0.1 -0.1)\">\n       <defs>\n        <path d=\"M 40.578125 39.3125 \nQ 47.65625 37.796875 51.625 33 \nQ 55.609375 28.21875 55.609375 21.1875 \nQ 55.609375 10.40625 48.1875 4.484375 \nQ 40.765625 -1.421875 27.09375 -1.421875 \nQ 22.515625 -1.421875 17.65625 -0.515625 \nQ 12.796875 0.390625 7.625 2.203125 \nL 7.625 11.71875 \nQ 11.71875 9.328125 16.59375 8.109375 \nQ 21.484375 6.890625 26.8125 6.890625 \nQ 36.078125 6.890625 40.9375 10.546875 \nQ 45.796875 14.203125 45.796875 21.1875 \nQ 45.796875 27.640625 41.28125 31.265625 \nQ 36.765625 34.90625 28.71875 34.90625 \nL 20.21875 34.90625 \nL 20.21875 43.015625 \nL 29.109375 43.015625 \nQ 36.375 43.015625 40.234375 45.921875 \nQ 44.09375 48.828125 44.09375 54.296875 \nQ 44.09375 59.90625 40.109375 62.90625 \nQ 36.140625 65.921875 28.71875 65.921875 \nQ 24.65625 65.921875 20.015625 65.03125 \nQ 15.375 64.15625 9.8125 62.3125 \nL 9.8125 71.09375 \nQ 15.4375 72.65625 20.34375 73.4375 \nQ 25.25 74.21875 29.59375 74.21875 \nQ 40.828125 74.21875 47.359375 69.109375 \nQ 53.90625 64.015625 53.90625 55.328125 \nQ 53.90625 49.265625 50.4375 45.09375 \nQ 46.96875 40.921875 40.578125 39.3125 \nz\n\" id=\"DejaVuSans-51\"/>\n       </defs>\n       <use xlink:href=\"#DejaVuSans-51\"/>\n       <use x=\"63.623047\" xlink:href=\"#DejaVuSans-48\"/>\n       <use x=\"127.246094\" xlink:href=\"#DejaVuSans-48\"/>\n       <use x=\"190.869141\" xlink:href=\"#DejaVuSans-48\"/>\n      </g>\n     </g>\n    </g>\n   </g>\n   <g id=\"matplotlib.axis_2\">\n    <g id=\"ytick_1\">\n     <g id=\"line2d_8\">\n      <defs>\n       <path d=\"M 0 0 \nL -3.5 0 \n\" id=\"m6e666e6bc2\" style=\"stroke:#000000;stroke-width:0.8;\"/>\n      </defs>\n      <g>\n       <use style=\"stroke:#000000;stroke-width:0.8;\" x=\"33.2875\" xlink:href=\"#m6e666e6bc2\" y=\"224.64\"/>\n      </g>\n     </g>\n     <g id=\"text_8\">\n      <!-- 0 -->\n      <g transform=\"translate(19.925 228.439219)scale(0.1 -0.1)\">\n       <use xlink:href=\"#DejaVuSans-48\"/>\n      </g>\n     </g>\n    </g>\n    <g id=\"ytick_2\">\n     <g id=\"line2d_9\">\n      <g>\n       <use style=\"stroke:#000000;stroke-width:0.8;\" x=\"33.2875\" xlink:href=\"#m6e666e6bc2\" y=\"185.714114\"/>\n      </g>\n     </g>\n     <g id=\"text_9\">\n      <!-- 100 -->\n      <g transform=\"translate(7.2 189.513333)scale(0.1 -0.1)\">\n       <use xlink:href=\"#DejaVuSans-49\"/>\n       <use x=\"63.623047\" xlink:href=\"#DejaVuSans-48\"/>\n       <use x=\"127.246094\" xlink:href=\"#DejaVuSans-48\"/>\n      </g>\n     </g>\n    </g>\n    <g id=\"ytick_3\">\n     <g id=\"line2d_10\">\n      <g>\n       <use style=\"stroke:#000000;stroke-width:0.8;\" x=\"33.2875\" xlink:href=\"#m6e666e6bc2\" y=\"146.788228\"/>\n      </g>\n     </g>\n     <g id=\"text_10\">\n      <!-- 200 -->\n      <g transform=\"translate(7.2 150.587446)scale(0.1 -0.1)\">\n       <use xlink:href=\"#DejaVuSans-50\"/>\n       <use x=\"63.623047\" xlink:href=\"#DejaVuSans-48\"/>\n       <use x=\"127.246094\" xlink:href=\"#DejaVuSans-48\"/>\n      </g>\n     </g>\n    </g>\n    <g id=\"ytick_4\">\n     <g id=\"line2d_11\">\n      <g>\n       <use style=\"stroke:#000000;stroke-width:0.8;\" x=\"33.2875\" xlink:href=\"#m6e666e6bc2\" y=\"107.862342\"/>\n      </g>\n     </g>\n     <g id=\"text_11\">\n      <!-- 300 -->\n      <g transform=\"translate(7.2 111.66156)scale(0.1 -0.1)\">\n       <use xlink:href=\"#DejaVuSans-51\"/>\n       <use x=\"63.623047\" xlink:href=\"#DejaVuSans-48\"/>\n       <use x=\"127.246094\" xlink:href=\"#DejaVuSans-48\"/>\n      </g>\n     </g>\n    </g>\n    <g id=\"ytick_5\">\n     <g id=\"line2d_12\">\n      <g>\n       <use style=\"stroke:#000000;stroke-width:0.8;\" x=\"33.2875\" xlink:href=\"#m6e666e6bc2\" y=\"68.936455\"/>\n      </g>\n     </g>\n     <g id=\"text_12\">\n      <!-- 400 -->\n      <g transform=\"translate(7.2 72.735674)scale(0.1 -0.1)\">\n       <defs>\n        <path d=\"M 37.796875 64.3125 \nL 12.890625 25.390625 \nL 37.796875 25.390625 \nz\nM 35.203125 72.90625 \nL 47.609375 72.90625 \nL 47.609375 25.390625 \nL 58.015625 25.390625 \nL 58.015625 17.1875 \nL 47.609375 17.1875 \nL 47.609375 0 \nL 37.796875 0 \nL 37.796875 17.1875 \nL 4.890625 17.1875 \nL 4.890625 26.703125 \nz\n\" id=\"DejaVuSans-52\"/>\n       </defs>\n       <use xlink:href=\"#DejaVuSans-52\"/>\n       <use x=\"63.623047\" xlink:href=\"#DejaVuSans-48\"/>\n       <use x=\"127.246094\" xlink:href=\"#DejaVuSans-48\"/>\n      </g>\n     </g>\n    </g>\n    <g id=\"ytick_6\">\n     <g id=\"line2d_13\">\n      <g>\n       <use style=\"stroke:#000000;stroke-width:0.8;\" x=\"33.2875\" xlink:href=\"#m6e666e6bc2\" y=\"30.010569\"/>\n      </g>\n     </g>\n     <g id=\"text_13\">\n      <!-- 500 -->\n      <g transform=\"translate(7.2 33.809788)scale(0.1 -0.1)\">\n       <use xlink:href=\"#DejaVuSans-53\"/>\n       <use x=\"63.623047\" xlink:href=\"#DejaVuSans-48\"/>\n       <use x=\"127.246094\" xlink:href=\"#DejaVuSans-48\"/>\n      </g>\n     </g>\n    </g>\n   </g>\n   <g id=\"patch_53\">\n    <path d=\"M 33.2875 224.64 \nL 33.2875 7.2 \n\" style=\"fill:none;stroke:#000000;stroke-linecap:square;stroke-linejoin:miter;stroke-width:0.8;\"/>\n   </g>\n   <g id=\"patch_54\">\n    <path d=\"M 368.0875 224.64 \nL 368.0875 7.2 \n\" style=\"fill:none;stroke:#000000;stroke-linecap:square;stroke-linejoin:miter;stroke-width:0.8;\"/>\n   </g>\n   <g id=\"patch_55\">\n    <path d=\"M 33.2875 224.64 \nL 368.0875 224.64 \n\" style=\"fill:none;stroke:#000000;stroke-linecap:square;stroke-linejoin:miter;stroke-width:0.8;\"/>\n   </g>\n   <g id=\"patch_56\">\n    <path d=\"M 33.2875 7.2 \nL 368.0875 7.2 \n\" style=\"fill:none;stroke:#000000;stroke-linecap:square;stroke-linejoin:miter;stroke-width:0.8;\"/>\n   </g>\n  </g>\n </g>\n <defs>\n  <clipPath id=\"pf2d445ecc7\">\n   <rect height=\"217.44\" width=\"334.8\" x=\"33.2875\" y=\"7.2\"/>\n  </clipPath>\n </defs>\n</svg>\n",
      "image/png": "[encoded data removed]"
     },
     "metadata": {
      "needs_background": "light"
     }
    },
    {
     "output_type": "display_data",
     "data": {
      "text/plain": "<IPython.core.display.Javascript object>",
      "application/javascript": "\n            setTimeout(function() {\n                var nbb_cell_id = 42;\n                var nbb_unformatted_code = \"peaks = np.unique(np.asarray(bb.entries('chr15', 0, 101_990_000, withString=False)), axis=0)\\npeak_widths = peaks[:, 1] - peaks[:, 0]\\nplt.hist(peak_widths, bins=50)\";\n                var nbb_formatted_code = \"peaks = np.unique(\\n    np.asarray(bb.entries(\\\"chr15\\\", 0, 101_990_000, withString=False)), axis=0\\n)\\npeak_widths = peaks[:, 1] - peaks[:, 0]\\nplt.hist(peak_widths, bins=50)\";\n                var nbb_cells = Jupyter.notebook.get_cells();\n                for (var i = 0; i < nbb_cells.length; ++i) {\n                    if (nbb_cells[i].input_prompt_number == nbb_cell_id) {\n                        if (nbb_cells[i].get_text() == nbb_unformatted_code) {\n                             nbb_cells[i].set_text(nbb_formatted_code);\n                        }\n                        break;\n                    }\n                }\n            }, 500);\n            "
     },
     "metadata": {}
    }
   ],
   "source": [
    "peaks = np.unique(np.asarray(bb.entries('chr15', 0, 101_990_000, withString=False)), axis=0)\n",
    "peak_widths = peaks[:, 1] - peaks[:, 0]\n",
    "plt.hist(peak_widths, bins=50)"
   ]
  },
  {
   "cell_type": "code",
   "execution_count": 51,
   "metadata": {},
   "outputs": [
    {
     "output_type": "display_data",
     "data": {
      "text/plain": "<IPython.core.display.Javascript object>",
      "application/javascript": "\n            setTimeout(function() {\n                var nbb_cell_id = 51;\n                var nbb_unformatted_code = \"peaks_df = pd.DataFrame({'chr': 'chr15', 'start_locus': peaks[:, 0], 'end_locus': peaks[:, 1], 'intensity': 1, 'widths': peak_widths})\\npeaks_df.query('widths <= 200').iloc[:, :-1].to_csv('/mnt/saphyr/Saphyr_Data/DAM_DLE_VHL_DLE/Hagai/ENCFF220HIK_top_peaks.bedgraph', header=None, index=False, sep='\\\\t')\";\n                var nbb_formatted_code = \"peaks_df = pd.DataFrame(\\n    {\\n        \\\"chr\\\": \\\"chr15\\\",\\n        \\\"start_locus\\\": peaks[:, 0],\\n        \\\"end_locus\\\": peaks[:, 1],\\n        \\\"intensity\\\": 1,\\n        \\\"widths\\\": peak_widths,\\n    }\\n)\\npeaks_df.query(\\\"widths <= 200\\\").iloc[:, :-1].to_csv(\\n    \\\"/mnt/saphyr/Saphyr_Data/DAM_DLE_VHL_DLE/Hagai/ENCFF220HIK_top_peaks.bedgraph\\\",\\n    header=None,\\n    index=False,\\n    sep=\\\"\\\\t\\\",\\n)\";\n                var nbb_cells = Jupyter.notebook.get_cells();\n                for (var i = 0; i < nbb_cells.length; ++i) {\n                    if (nbb_cells[i].input_prompt_number == nbb_cell_id) {\n                        if (nbb_cells[i].get_text() == nbb_unformatted_code) {\n                             nbb_cells[i].set_text(nbb_formatted_code);\n                        }\n                        break;\n                    }\n                }\n            }, 500);\n            "
     },
     "metadata": {}
    }
   ],
   "source": [
    "peaks_df = pd.DataFrame({'chr': 'chr15', 'start_locus': peaks[:, 0], 'end_locus': peaks[:, 1], 'intensity': 1, 'widths': peak_widths})\n",
    "peaks_df.query('widths <= 200').iloc[:, :-1].to_csv('/mnt/saphyr/Saphyr_Data/DAM_DLE_VHL_DLE/Hagai/ENCFF220HIK_top_peaks.bedgraph', header=None, index=False, sep='\\t')"
   ]
  },
  {
   "cell_type": "code",
   "execution_count": null,
   "metadata": {},
   "outputs": [],
   "source": []
  }
 ],
 "metadata": {
  "kernelspec": {
   "display_name": "Python 3",
   "language": "python",
   "name": "python3"
  },
  "language_info": {
   "codemirror_mode": {
    "name": "ipython",
    "version": 3
   },
   "file_extension": ".py",
   "mimetype": "text/x-python",
   "name": "python",
   "nbconvert_exporter": "python",
   "pygments_lexer": "ipython3",
   "version": "3.8.5-final"
  },
  "varInspector": {
   "cols": {
    "lenName": 16,
    "lenType": 16,
    "lenVar": 40
   },
   "kernels_config": {
    "python": {
     "delete_cmd_postfix": "",
     "delete_cmd_prefix": "del ",
     "library": "var_list.py",
     "varRefreshCmd": "print(var_dic_list())"
    },
    "r": {
     "delete_cmd_postfix": ") ",
     "delete_cmd_prefix": "rm(",
     "library": "var_list.r",
     "varRefreshCmd": "cat(var_dic_list()) "
    }
   },
   "types_to_exclude": [
    "module",
    "function",
    "builtin_function_or_method",
    "instance",
    "_Feature"
   ],
   "window_display": false
  }
 },
 "nbformat": 4,
 "nbformat_minor": 4
}