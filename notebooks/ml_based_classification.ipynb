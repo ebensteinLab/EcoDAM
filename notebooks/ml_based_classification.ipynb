{
 "cells": [
  {
   "cell_type": "markdown",
   "metadata": {},
   "source": [
    "# ML Tests"
   ]
  },
  {
   "cell_type": "markdown",
   "metadata": {},
   "source": [
    "This notebook contains a small experiment with ML I wanted to run using some classifier."
   ]
  },
  {
   "cell_type": "code",
   "execution_count": 1,
   "metadata": {},
   "outputs": [
    {
     "data": {
      "application/javascript": [
       "\n",
       "            setTimeout(function() {\n",
       "                var nbb_cell_id = 1;\n",
       "                var nbb_unformatted_code = \"%load_ext autoreload\\n%autoreload 2\\n%load_ext nb_black\\n\\nimport pathlib\\nimport multiprocessing\\n\\nimport pandas as pd\\nimport matplotlib.pyplot as plt\\nimport numpy as np\\nimport seaborn as sns\\n\\nfrom ecodam_py.bedgraph import BedGraphAccessor, put_dfs_on_even_grounds\\nfrom ecodam_py.ml_pipeline import ml_pipeline\\nfrom ecodam_py.eco_atac_normalization import *\";\n",
       "                var nbb_formatted_code = \"%load_ext autoreload\\n%autoreload 2\\n%load_ext nb_black\\n\\nimport pathlib\\nimport multiprocessing\\n\\nimport pandas as pd\\nimport matplotlib.pyplot as plt\\nimport numpy as np\\nimport seaborn as sns\\n\\nfrom ecodam_py.bedgraph import BedGraphAccessor, put_dfs_on_even_grounds\\nfrom ecodam_py.ml_pipeline import ml_pipeline\\nfrom ecodam_py.eco_atac_normalization import *\";\n",
       "                var nbb_cells = Jupyter.notebook.get_cells();\n",
       "                for (var i = 0; i < nbb_cells.length; ++i) {\n",
       "                    if (nbb_cells[i].input_prompt_number == nbb_cell_id) {\n",
       "                        if (nbb_cells[i].get_text() == nbb_unformatted_code) {\n",
       "                             nbb_cells[i].set_text(nbb_formatted_code);\n",
       "                        }\n",
       "                        break;\n",
       "                    }\n",
       "                }\n",
       "            }, 500);\n",
       "            "
      ],
      "text/plain": [
       "<IPython.core.display.Javascript object>"
      ]
     },
     "metadata": {},
     "output_type": "display_data"
    }
   ],
   "source": [
    "%load_ext autoreload\n",
    "%autoreload 2\n",
    "%load_ext nb_black\n",
    "\n",
    "import pathlib\n",
    "import multiprocessing\n",
    "\n",
    "import pandas as pd\n",
    "import matplotlib.pyplot as plt\n",
    "import numpy as np\n",
    "import seaborn as sns\n",
    "\n",
    "from ecodam_py.bedgraph import BedGraphAccessor, put_dfs_on_even_grounds\n",
    "from ecodam_py.ml_pipeline import ml_pipeline\n",
    "from ecodam_py.eco_atac_normalization import *"
   ]
  },
  {
   "cell_type": "markdown",
   "metadata": {},
   "source": [
    "## Preprocessing"
   ]
  },
  {
   "cell_type": "code",
   "execution_count": 2,
   "metadata": {},
   "outputs": [
    {
     "data": {
      "application/javascript": [
       "\n",
       "            setTimeout(function() {\n",
       "                var nbb_cell_id = 2;\n",
       "                var nbb_unformatted_code = \"chromatin = read_bedgraph(\\n    \\\"/mnt/saphyr/Saphyr_Data/DAM_DLE_VHL_DLE/Michael/Chromatin_rep1/filtered_xmap/pipeline_bedgraphs/NoBlackMask/Chromatin_WholeGenome.bedgraph\\\"\\n)\\ntheo = read_bedgraph(\\n    \\\"/mnt/saphyr/Saphyr_Data/DAM_DLE_VHL_DLE/Theoretical_EcoDam/New folder/Hg38.EcoDam.insilico.canonical.keynames.bg_smoothed_7kb_resampled_with_700_overlapping_bp.bedgraph\\\"\\n)\\ntheo = theo.replace('chr23', 'chrX')\\nnaked = read_bedgraph(\\n    \\\"/mnt/saphyr/Saphyr_Data/DAM_DLE_VHL_DLE/Hagai/Naked_WholeGenome.bedgraph\\\"\\n)\\nnfr = read_bedgraph(\\n    \\\"/mnt/saphyr/Saphyr_Data/DAM_DLE_VHL_DLE/Hagai/ENCFF240YRV.sorted.bedgraph\\\"\\n)\";\n",
       "                var nbb_formatted_code = \"chromatin = read_bedgraph(\\n    \\\"/mnt/saphyr/Saphyr_Data/DAM_DLE_VHL_DLE/Michael/Chromatin_rep1/filtered_xmap/pipeline_bedgraphs/NoBlackMask/Chromatin_WholeGenome.bedgraph\\\"\\n)\\ntheo = read_bedgraph(\\n    \\\"/mnt/saphyr/Saphyr_Data/DAM_DLE_VHL_DLE/Theoretical_EcoDam/New folder/Hg38.EcoDam.insilico.canonical.keynames.bg_smoothed_7kb_resampled_with_700_overlapping_bp.bedgraph\\\"\\n)\\ntheo = theo.replace(\\\"chr23\\\", \\\"chrX\\\")\\nnaked = read_bedgraph(\\n    \\\"/mnt/saphyr/Saphyr_Data/DAM_DLE_VHL_DLE/Hagai/Naked_WholeGenome.bedgraph\\\"\\n)\\nnfr = read_bedgraph(\\n    \\\"/mnt/saphyr/Saphyr_Data/DAM_DLE_VHL_DLE/Hagai/ENCFF240YRV.sorted.bedgraph\\\"\\n)\";\n",
       "                var nbb_cells = Jupyter.notebook.get_cells();\n",
       "                for (var i = 0; i < nbb_cells.length; ++i) {\n",
       "                    if (nbb_cells[i].input_prompt_number == nbb_cell_id) {\n",
       "                        if (nbb_cells[i].get_text() == nbb_unformatted_code) {\n",
       "                             nbb_cells[i].set_text(nbb_formatted_code);\n",
       "                        }\n",
       "                        break;\n",
       "                    }\n",
       "                }\n",
       "            }, 500);\n",
       "            "
      ],
      "text/plain": [
       "<IPython.core.display.Javascript object>"
      ]
     },
     "metadata": {},
     "output_type": "display_data"
    }
   ],
   "source": [
    "chromatin = read_bedgraph(\n",
    "    \"/mnt/saphyr/Saphyr_Data/DAM_DLE_VHL_DLE/Michael/Chromatin_rep1/filtered_xmap/pipeline_bedgraphs/NoBlackMask/Chromatin_WholeGenome.bedgraph\"\n",
    ")\n",
    "theo = read_bedgraph(\n",
    "    \"/mnt/saphyr/Saphyr_Data/DAM_DLE_VHL_DLE/Theoretical_EcoDam/New folder/Hg38.EcoDam.insilico.canonical.keynames.bg_smoothed_7kb_resampled_with_700_overlapping_bp.bedgraph\"\n",
    ")\n",
    "theo = theo.replace(\"chr23\", \"chrX\")\n",
    "naked = read_bedgraph(\n",
    "    \"/mnt/saphyr/Saphyr_Data/DAM_DLE_VHL_DLE/Hagai/Naked_WholeGenome.bedgraph\"\n",
    ")\n",
    "nfr = read_bedgraph(\n",
    "    \"/mnt/saphyr/Saphyr_Data/DAM_DLE_VHL_DLE/Hagai/ENCFF240YRV.sorted.bedgraph\"\n",
    ")"
   ]
  },
  {
   "cell_type": "markdown",
   "metadata": {},
   "source": [
    "Equalize loci of the three datasets, per chromosome:"
   ]
  },
  {
   "cell_type": "code",
   "execution_count": null,
   "metadata": {},
   "outputs": [
    {
     "name": "stderr",
     "output_type": "stream",
     "text": [
      "Exception in thread Thread-4:\n",
      "Traceback (most recent call last):\n",
      "  File \"/home/hagaih/miniconda3/envs/ecodam/lib/python3.8/threading.py\", line 932, in _bootstrap_inner\n",
      "    self.run()\n",
      "  File \"/home/hagaih/miniconda3/envs/ecodam/lib/python3.8/threading.py\", line 870, in run\n",
      "    self._target(*self._args, **self._kwargs)\n",
      "  File \"/home/hagaih/miniconda3/envs/ecodam/lib/python3.8/multiprocessing/pool.py\", line 513, in _handle_workers\n",
      "    cls._maintain_pool(ctx, Process, processes, pool, inqueue,\n",
      "  File \"/home/hagaih/miniconda3/envs/ecodam/lib/python3.8/multiprocessing/pool.py\", line 337, in _maintain_pool\n",
      "    Pool._repopulate_pool_static(ctx, Process, processes, pool,\n",
      "  File \"/home/hagaih/miniconda3/envs/ecodam/lib/python3.8/multiprocessing/pool.py\", line 326, in _repopulate_pool_static\n",
      "    w.start()\n",
      "  File \"/home/hagaih/miniconda3/envs/ecodam/lib/python3.8/multiprocessing/process.py\", line 121, in start\n",
      "    self._popen = self._Popen(self)\n",
      "  File \"/home/hagaih/miniconda3/envs/ecodam/lib/python3.8/multiprocessing/context.py\", line 277, in _Popen\n",
      "    return Popen(process_obj)\n",
      "  File \"/home/hagaih/miniconda3/envs/ecodam/lib/python3.8/multiprocessing/popen_fork.py\", line 19, in __init__\n",
      "    self._launch(process_obj)\n",
      "  File \"/home/hagaih/miniconda3/envs/ecodam/lib/python3.8/multiprocessing/popen_fork.py\", line 70, in _launch\n",
      "    self.pid = os.fork()\n",
      "OSError: [Errno 12] Cannot allocate memory\n"
     ]
    }
   ],
   "source": [
    "chromatingb = chromatin.groupby(\"chr\", as_index=False)\n",
    "nakedgb = naked.groupby(\"chr\", as_index=False)\n",
    "theogb = theo.groupby(\"chr\", as_index=False)\n",
    "grouped = (\n",
    "    (chrom, nakedgb.get_group(chr_), theogb.get_group(chr_), nfr.query(\"chr == @chr_\"))\n",
    "    for chr_, chrom in chromatingb\n",
    ")\n",
    "with multiprocessing.Pool(6) as pool:\n",
    "    result = pool.starmap(ml_pipeline, grouped)"
   ]
  },
  {
   "cell_type": "code",
   "execution_count": null,
   "metadata": {},
   "outputs": [],
   "source": [
    "chrom_from_disk = pd.read_parquet('/mnt/saphyr/Saphyr_Data/DAM_DLE_VHL_DLE/Hagai/ml_pipeline/chrom_chr1_after_same_bounds.pq')\n",
    "naked_from_disk = pd.read_parquet('/mnt/saphyr/Saphyr_Data/DAM_DLE_VHL_DLE/Hagai/ml_pipeline/naked_chr1_after_same_bounds.pq')\n",
    "theo_from_disk = pd.read_parquet('/mnt/saphyr/Saphyr_Data/DAM_DLE_VHL_DLE/Hagai/ml_pipeline/theo_chr1_after_same_bounds.pq')"
   ]
  },
  {
   "cell_type": "code",
   "execution_count": null,
   "metadata": {},
   "outputs": [],
   "source": [
    "chrom_from_disk"
   ]
  },
  {
   "cell_type": "code",
   "execution_count": null,
   "metadata": {
    "scrolled": true
   },
   "outputs": [],
   "source": [
    "naked_from_disk"
   ]
  },
  {
   "cell_type": "code",
   "execution_count": null,
   "metadata": {},
   "outputs": [],
   "source": [
    "theo_from_disk"
   ]
  },
  {
   "cell_type": "code",
   "execution_count": null,
   "metadata": {},
   "outputs": [],
   "source": [
    "chrom_normed, naked_normed, theo_normed = normalize_with_site_density(chrom_from_disk, naked_from_disk, theo_from_disk)"
   ]
  }
 ],
 "metadata": {
  "kernelspec": {
   "display_name": "Python 3",
   "language": "python",
   "name": "python3"
  },
  "language_info": {
   "codemirror_mode": {
    "name": "ipython",
    "version": 3
   },
   "file_extension": ".py",
   "mimetype": "text/x-python",
   "name": "python",
   "nbconvert_exporter": "python",
   "pygments_lexer": "ipython3",
   "version": "3.8.5"
  },
  "varInspector": {
   "cols": {
    "lenName": 16,
    "lenType": 16,
    "lenVar": 40
   },
   "kernels_config": {
    "python": {
     "delete_cmd_postfix": "",
     "delete_cmd_prefix": "del ",
     "library": "var_list.py",
     "varRefreshCmd": "print(var_dic_list())"
    },
    "r": {
     "delete_cmd_postfix": ") ",
     "delete_cmd_prefix": "rm(",
     "library": "var_list.r",
     "varRefreshCmd": "cat(var_dic_list()) "
    }
   },
   "position": {
    "height": "726.85px",
    "left": "1541px",
    "right": "20px",
    "top": "128px",
    "width": "350px"
   },
   "types_to_exclude": [
    "module",
    "function",
    "builtin_function_or_method",
    "instance",
    "_Feature"
   ],
   "window_display": false
  }
 },
 "nbformat": 4,
 "nbformat_minor": 4
}
